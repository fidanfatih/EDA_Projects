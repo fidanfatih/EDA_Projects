{
 "cells": [
  {
   "cell_type": "markdown",
   "metadata": {},
   "source": [
    "# NCD Deaths by cause and sex\n",
    "Data by country: [WHO](https://apps.who.int/gho/data/view.main.NCDDEATHCAUSESNUMBERv?lang=en)\n",
    "\n",
    "World Bank national accounts data and OECD National Accounts data files:[WORLDBANK](https://data.worldbank.org/indicator/NY.GDP.MKTP.KD.ZG?end=2019&start=2000&view=chart)"
   ]
  },
  {
   "cell_type": "code",
   "execution_count": 275,
   "metadata": {
    "id": "Mcy8qRfw8kEa"
   },
   "outputs": [],
   "source": [
    "# pip install pyforest\n",
    "import pyforest"
   ]
  },
  {
   "cell_type": "code",
   "execution_count": 276,
   "metadata": {
    "id": "2ec0oC63IT5Y"
   },
   "outputs": [],
   "source": [
    "#help(pyforest)\n",
    "# dir(pyforest)"
   ]
  },
  {
   "cell_type": "code",
   "execution_count": 277,
   "metadata": {
    "id": "Q5D3yZYfItDb"
   },
   "outputs": [],
   "source": [
    "# dir(pd)"
   ]
  },
  {
   "cell_type": "markdown",
   "metadata": {
    "id": "AKMEw_5XpnRS"
   },
   "source": [
    "# WORLD HEALTH ORG DATA"
   ]
  },
  {
   "cell_type": "code",
   "execution_count": 278,
   "metadata": {
    "colab": {
     "base_uri": "https://localhost:8080/"
    },
    "id": "MoCB6IVPqw0x",
    "outputId": "8228ace3-7767-40a4-aad5-679caafdab60"
   },
   "outputs": [],
   "source": [
    "# from google.colab import drive\n",
    "# drive.mount('/content/drive')"
   ]
  },
  {
   "cell_type": "code",
   "execution_count": 279,
   "metadata": {
    "colab": {
     "base_uri": "https://localhost:8080/",
     "height": 16
    },
    "id": "ZVskCCLV8vQ6",
    "outputId": "cd63324c-528e-4fcf-82f2-ca82b46ebc31"
   },
   "outputs": [
    {
     "data": {
      "application/javascript": [
       "\n",
       "        if (window._pyforest_update_imports_cell) { window._pyforest_update_imports_cell('import seaborn as sns\\nimport numpy as np\\nimport pandas as pd\\nimport matplotlib.pyplot as plt'); }\n",
       "    "
      ],
      "text/plain": [
       "<IPython.core.display.Javascript object>"
      ]
     },
     "metadata": {},
     "output_type": "display_data"
    },
    {
     "data": {
      "text/html": [
       "<div>\n",
       "<style scoped>\n",
       "    .dataframe tbody tr th:only-of-type {\n",
       "        vertical-align: middle;\n",
       "    }\n",
       "\n",
       "    .dataframe tbody tr th {\n",
       "        vertical-align: top;\n",
       "    }\n",
       "\n",
       "    .dataframe thead th {\n",
       "        text-align: right;\n",
       "    }\n",
       "</style>\n",
       "<table border=\"1\" class=\"dataframe\">\n",
       "  <thead>\n",
       "    <tr style=\"text-align: right;\">\n",
       "      <th></th>\n",
       "      <th>Country</th>\n",
       "      <th>Year</th>\n",
       "      <th>Causes</th>\n",
       "      <th>Both sexes</th>\n",
       "      <th>Male</th>\n",
       "      <th>Female</th>\n",
       "    </tr>\n",
       "  </thead>\n",
       "  <tbody>\n",
       "    <tr>\n",
       "      <th>0</th>\n",
       "      <td>Afghanistan</td>\n",
       "      <td>2019</td>\n",
       "      <td>Malignant neoplasms</td>\n",
       "      <td>15565 [7609-28280]</td>\n",
       "      <td>7756 [3898-13841]</td>\n",
       "      <td>7809 [3711-14439]</td>\n",
       "    </tr>\n",
       "    <tr>\n",
       "      <th>1</th>\n",
       "      <td>Afghanistan</td>\n",
       "      <td>2019</td>\n",
       "      <td>Diabetes mellitus</td>\n",
       "      <td>8060 [3827-14468]</td>\n",
       "      <td>2612 [1377-4651]</td>\n",
       "      <td>5448 [2451-9817]</td>\n",
       "    </tr>\n",
       "    <tr>\n",
       "      <th>2</th>\n",
       "      <td>Afghanistan</td>\n",
       "      <td>2019</td>\n",
       "      <td>Cardiovascular diseases</td>\n",
       "      <td>71264 [42413-108472]</td>\n",
       "      <td>33793 [20550-51028]</td>\n",
       "      <td>37471 [21863-57444]</td>\n",
       "    </tr>\n",
       "    <tr>\n",
       "      <th>3</th>\n",
       "      <td>Afghanistan</td>\n",
       "      <td>2019</td>\n",
       "      <td>Chronic respiratory diseases</td>\n",
       "      <td>8285 [3618-14626]</td>\n",
       "      <td>3920 [1877-6745]</td>\n",
       "      <td>4365 [1741-7881]</td>\n",
       "    </tr>\n",
       "    <tr>\n",
       "      <th>4</th>\n",
       "      <td>Afghanistan</td>\n",
       "      <td>2018</td>\n",
       "      <td>Malignant neoplasms</td>\n",
       "      <td>15065 [7337-27401]</td>\n",
       "      <td>7534 [3766-13454]</td>\n",
       "      <td>7531 [3570-13948]</td>\n",
       "    </tr>\n",
       "  </tbody>\n",
       "</table>\n",
       "</div>"
      ],
      "text/plain": [
       "       Country  Year                         Causes            Both sexes  \\\n",
       "0  Afghanistan  2019            Malignant neoplasms    15565 [7609-28280]   \n",
       "1  Afghanistan  2019              Diabetes mellitus     8060 [3827-14468]   \n",
       "2  Afghanistan  2019        Cardiovascular diseases  71264 [42413-108472]   \n",
       "3  Afghanistan  2019   Chronic respiratory diseases     8285 [3618-14626]   \n",
       "4  Afghanistan  2018            Malignant neoplasms    15065 [7337-27401]   \n",
       "\n",
       "                  Male               Female  \n",
       "0    7756 [3898-13841]    7809 [3711-14439]  \n",
       "1     2612 [1377-4651]     5448 [2451-9817]  \n",
       "2  33793 [20550-51028]  37471 [21863-57444]  \n",
       "3     3920 [1877-6745]     4365 [1741-7881]  \n",
       "4    7534 [3766-13454]    7531 [3570-13948]  "
      ]
     },
     "execution_count": 279,
     "metadata": {},
     "output_type": "execute_result"
    }
   ],
   "source": [
    "df = pd.read_csv(\"Data/SDG_SH_DTH_RNCOM.csv\", header=1)\n",
    "df.head()"
   ]
  },
  {
   "cell_type": "code",
   "execution_count": 280,
   "metadata": {
    "colab": {
     "base_uri": "https://localhost:8080/",
     "height": 16
    },
    "id": "VuyfNmGkRAoC",
    "outputId": "b7c958f2-4c49-4988-ccd2-3439879f99b8"
   },
   "outputs": [],
   "source": [
    "# download directly from site\n",
    "# df = pd.read_csv(\"https://apps.who.int/gho/athena/data/GHO/SDG_SH_DTH_RNCOM?filter=COUNTRY:*&x-sideaxis=COUNTRY;YEAR;GHECAUSES&x-topaxis=GHO;SEX&profile=crosstable&format=csv\", header=1)\n",
    "# df.head()"
   ]
  },
  {
   "cell_type": "code",
   "execution_count": 281,
   "metadata": {
    "colab": {
     "base_uri": "https://localhost:8080/"
    },
    "id": "5CZpC6r98-ww",
    "outputId": "2d93b592-2ef9-4daf-8c58-3b041065b035",
    "scrolled": true
   },
   "outputs": [
    {
     "name": "stdout",
     "output_type": "stream",
     "text": [
      "Saudi Arabia                             80\n",
      "Switzerland                              80\n",
      "Zimbabwe                                 80\n",
      "Finland                                  80\n",
      "Lithuania                                80\n",
      "                                         ..\n",
      "Democratic People's Republic of Korea    80\n",
      "Lebanon                                  80\n",
      "Kyrgyzstan                               80\n",
      "Kenya                                    80\n",
      "Honduras                                 80\n",
      "Name: Country, Length: 183, dtype: int64\n",
      "--------------------------------------------------\n",
      "2015    732\n",
      "2007    732\n",
      "2008    732\n",
      "2016    732\n",
      "2001    732\n",
      "2009    732\n",
      "2017    732\n",
      "2002    732\n",
      "2010    732\n",
      "2018    732\n",
      "2003    732\n",
      "2011    732\n",
      "2019    732\n",
      "2004    732\n",
      "2012    732\n",
      "2005    732\n",
      "2013    732\n",
      "2006    732\n",
      "2014    732\n",
      "2000    732\n",
      "Name: Year, dtype: int64\n",
      "--------------------------------------------------\n",
      " Chronic respiratory diseases    3660\n",
      " Malignant neoplasms             3660\n",
      " Cardiovascular diseases         3660\n",
      " Diabetes mellitus               3660\n",
      "Name: Causes, dtype: int64\n",
      "--------------------------------------------------\n",
      "29 [18-43]             6\n",
      "27 [19-37]             4\n",
      "36 [26-49]             3\n",
      "111 [84-142]           3\n",
      "40 [24-61]             3\n",
      "                      ..\n",
      "6959 [3686-11808]      1\n",
      "24349 [20571-27929]    1\n",
      "89 [51-143]            1\n",
      "41242 [38457-48435]    1\n",
      "7222 [3953-11796]      1\n",
      "Name:  Both sexes, Length: 14531, dtype: int64\n",
      "--------------------------------------------------\n",
      "15 [10-22]             9\n",
      "27 [17-41]             7\n",
      "25 [18-33]             7\n",
      "38 [29-49]             6\n",
      "28 [17-42]             6\n",
      "                      ..\n",
      "403 [295-536]          1\n",
      "675 [406-1061]         1\n",
      "146 [112-185]          1\n",
      "31833 [25000-39894]    1\n",
      "10593 [8773-12435]     1\n",
      "Name:  Male, Length: 14337, dtype: int64\n",
      "--------------------------------------------------\n",
      "13 [9-18]           16\n",
      "12 [7-19]           11\n",
      "12 [8-16]            9\n",
      "11 [6-17]            8\n",
      "12 [6-19]            7\n",
      "                    ..\n",
      "1103 [650-1750]      1\n",
      "91 [69-116]          1\n",
      "67 [53-83]           1\n",
      "5653 [4200-7349]     1\n",
      "993 [600-1537]       1\n",
      "Name:  Female, Length: 14331, dtype: int64\n",
      "--------------------------------------------------\n"
     ]
    }
   ],
   "source": [
    "for i in df.columns: \n",
    "    print(df[i].value_counts(dropna =False),\"-\"*50,sep='\\n')"
   ]
  },
  {
   "cell_type": "markdown",
   "metadata": {
    "id": "IQ8zBK9rqKI7"
   },
   "source": [
    "## REARANGE COLUMNS NAMES"
   ]
  },
  {
   "cell_type": "code",
   "execution_count": 282,
   "metadata": {
    "colab": {
     "base_uri": "https://localhost:8080/"
    },
    "id": "-_Xpbmbd_foS",
    "outputId": "2198221a-e333-4c68-ee8b-08a875b7dd7b"
   },
   "outputs": [
    {
     "data": {
      "text/plain": [
       "Index(['Country', 'Year', 'Causes', ' Both sexes', ' Male', ' Female'], dtype='object')"
      ]
     },
     "execution_count": 282,
     "metadata": {},
     "output_type": "execute_result"
    }
   ],
   "source": [
    "df.columns"
   ]
  },
  {
   "cell_type": "code",
   "execution_count": 283,
   "metadata": {
    "colab": {
     "base_uri": "https://localhost:8080/"
    },
    "id": "YOMarO7h_Nwe",
    "outputId": "47705320-f345-4bf9-e27d-90d9c60f7a35"
   },
   "outputs": [
    {
     "data": {
      "text/plain": [
       "Index(['Country', 'Year', 'Causes', 'Both sexes', 'Male', 'Female'], dtype='object')"
      ]
     },
     "execution_count": 283,
     "metadata": {},
     "output_type": "execute_result"
    }
   ],
   "source": [
    "df.columns.str.strip()"
   ]
  },
  {
   "cell_type": "code",
   "execution_count": 284,
   "metadata": {
    "id": "_I3PqKSI_rVG"
   },
   "outputs": [],
   "source": [
    "df.columns = df.columns.str.strip()"
   ]
  },
  {
   "cell_type": "markdown",
   "metadata": {
    "id": "Id3ch7FBZpFJ"
   },
   "source": [
    "## DEAL WITH SAME ISSUE IF VALUES HAVE SOMETHING LIKE THIS ABOVE"
   ]
  },
  {
   "cell_type": "code",
   "execution_count": 285,
   "metadata": {
    "colab": {
     "base_uri": "https://localhost:8080/"
    },
    "id": "0KZmYr9zcENz",
    "outputId": "c2943389-a20c-4fa9-fc8c-6e0f97359f63"
   },
   "outputs": [
    {
     "data": {
      "text/plain": [
       "array([' Malignant neoplasms', ' Diabetes mellitus',\n",
       "       ' Cardiovascular diseases', ' Chronic respiratory diseases'],\n",
       "      dtype=object)"
      ]
     },
     "execution_count": 285,
     "metadata": {},
     "output_type": "execute_result"
    }
   ],
   "source": [
    "df.Causes.unique()"
   ]
  },
  {
   "cell_type": "code",
   "execution_count": 286,
   "metadata": {
    "colab": {
     "base_uri": "https://localhost:8080/"
    },
    "id": "-EioeJJtbYsO",
    "outputId": "95aced1c-8cc5-400a-c288-8474f0085e46"
   },
   "outputs": [
    {
     "data": {
      "text/plain": [
       "Index(['Country', 'Causes', 'Both sexes', 'Male', 'Female'], dtype='object')"
      ]
     },
     "execution_count": 286,
     "metadata": {},
     "output_type": "execute_result"
    }
   ],
   "source": [
    "df.select_dtypes(\"object\").columns"
   ]
  },
  {
   "cell_type": "code",
   "execution_count": 287,
   "metadata": {
    "id": "40j1dKArZk-Y"
   },
   "outputs": [],
   "source": [
    "for column in df.select_dtypes(\"object\").columns:\n",
    "    df[column] = df[column].apply(lambda x :x.strip())"
   ]
  },
  {
   "cell_type": "code",
   "execution_count": 288,
   "metadata": {
    "colab": {
     "base_uri": "https://localhost:8080/"
    },
    "id": "zxOdTEMvbtU9",
    "outputId": "76d3491a-277f-4640-9669-3ecb64bf9fd1"
   },
   "outputs": [
    {
     "data": {
      "text/plain": [
       "array(['Malignant neoplasms', 'Diabetes mellitus',\n",
       "       'Cardiovascular diseases', 'Chronic respiratory diseases'],\n",
       "      dtype=object)"
      ]
     },
     "execution_count": 288,
     "metadata": {},
     "output_type": "execute_result"
    }
   ],
   "source": [
    "df.Causes.unique()"
   ]
  },
  {
   "cell_type": "markdown",
   "metadata": {
    "id": "PE709_O7qVKo"
   },
   "source": [
    "## CREATE NEW FEATURES FROM Both sexes, Male, Female \n",
    "* NOTE : the first number is recent and the numbers in bracket are min and max"
   ]
  },
  {
   "cell_type": "code",
   "execution_count": 289,
   "metadata": {
    "colab": {
     "base_uri": "https://localhost:8080/"
    },
    "id": "J8LF7Q_UAueP",
    "outputId": "115f5a20-25c9-449e-98f5-80e94b7f84b7"
   },
   "outputs": [
    {
     "data": {
      "text/plain": [
       "0          7756 [3898-13841]\n",
       "1           2612 [1377-4651]\n",
       "2        33793 [20550-51028]\n",
       "3           3920 [1877-6745]\n",
       "4          7534 [3766-13454]\n",
       "                ...         \n",
       "14635         996 [603-1513]\n",
       "14636       3838 [2512-5647]\n",
       "14637         810 [507-1246]\n",
       "14638       4425 [2818-6837]\n",
       "14639         983 [605-1481]\n",
       "Name: Male, Length: 14640, dtype: object"
      ]
     },
     "execution_count": 289,
     "metadata": {},
     "output_type": "execute_result"
    }
   ],
   "source": [
    "df.Male"
   ]
  },
  {
   "cell_type": "code",
   "execution_count": 290,
   "metadata": {
    "colab": {
     "base_uri": "https://localhost:8080/"
    },
    "id": "59Sxbvnc_ycg",
    "outputId": "6ff55cbe-86f1-4d0f-86f2-8a53bce1f720"
   },
   "outputs": [
    {
     "data": {
      "text/plain": [
       "0         7756\n",
       "1         2612\n",
       "2        33793\n",
       "3         3920\n",
       "4         7534\n",
       "         ...  \n",
       "14635      996\n",
       "14636     3838\n",
       "14637      810\n",
       "14638     4425\n",
       "14639      983\n",
       "Name: Male, Length: 14640, dtype: int32"
      ]
     },
     "execution_count": 290,
     "metadata": {},
     "output_type": "execute_result"
    }
   ],
   "source": [
    "df.Male.apply(lambda x : x.split()[0]).astype(\"int\")\n",
    "# or\n",
    "# df.Male.str.extract('^(\\d*) ')[0].astype(\"int\")"
   ]
  },
  {
   "cell_type": "code",
   "execution_count": 291,
   "metadata": {
    "colab": {
     "base_uri": "https://localhost:8080/"
    },
    "id": "hVQCAm_rC3xU",
    "outputId": "c129a58e-ff73-4730-e1dc-2c051d4605bc"
   },
   "outputs": [
    {
     "data": {
      "text/plain": [
       "0         3898\n",
       "1         1377\n",
       "2        20550\n",
       "3         1877\n",
       "4         3766\n",
       "         ...  \n",
       "14635      603\n",
       "14636     2512\n",
       "14637      507\n",
       "14638     2818\n",
       "14639      605\n",
       "Name: Male, Length: 14640, dtype: object"
      ]
     },
     "execution_count": 291,
     "metadata": {},
     "output_type": "execute_result"
    }
   ],
   "source": [
    "df.Male.apply(lambda x : x.split()[1].split(\"-\")[0].strip(\"[]\"))\n",
    "# or\n",
    "# df.Male.str.extract('\\d* \\[(\\d*)-\\d*\\]')[0].astype(\"int\")"
   ]
  },
  {
   "cell_type": "code",
   "execution_count": 292,
   "metadata": {
    "colab": {
     "base_uri": "https://localhost:8080/"
    },
    "id": "7rg_UuI1EhU4",
    "outputId": "be81e669-674b-4e2d-cdad-f2dabad99521"
   },
   "outputs": [
    {
     "data": {
      "text/plain": [
       "0        13841\n",
       "1         4651\n",
       "2        51028\n",
       "3         6745\n",
       "4        13454\n",
       "         ...  \n",
       "14635     1513\n",
       "14636     5647\n",
       "14637     1246\n",
       "14638     6837\n",
       "14639     1481\n",
       "Name: Male, Length: 14640, dtype: object"
      ]
     },
     "execution_count": 292,
     "metadata": {},
     "output_type": "execute_result"
    }
   ],
   "source": [
    "df.Male.apply(lambda x : x.split()[1].split(\"-\")[1].strip(\"[]\"))\n",
    "# or\n",
    "# df.Male.str.extract('\\d* \\[\\d*-(\\d*)\\]')[0].astype(\"int\")"
   ]
  },
  {
   "cell_type": "code",
   "execution_count": 293,
   "metadata": {
    "id": "LEyYuTpZ_02p"
   },
   "outputs": [],
   "source": [
    "for i in df.columns[-3:]:\n",
    "    df[i+\"_recent\"] = df[i].apply(lambda x : x.split()[0]).astype(\"int\")\n",
    "    df[i+\"_min\"] = df[i].apply(lambda x : x.split()[1].split(\"-\")[0].strip(\"[]\")).astype(\"int\")\n",
    "    df[i+\"_max\"] = df[i].apply(lambda x : x.split()[1].split(\"-\")[1].strip(\"[]\")).astype(\"int\")"
   ]
  },
  {
   "cell_type": "code",
   "execution_count": 294,
   "metadata": {
    "colab": {
     "base_uri": "https://localhost:8080/",
     "height": 0
    },
    "id": "dTrry-4VCbiq",
    "outputId": "e2e27327-a702-4f40-9ebe-13c0223ad1f3"
   },
   "outputs": [
    {
     "data": {
      "text/html": [
       "<div>\n",
       "<style scoped>\n",
       "    .dataframe tbody tr th:only-of-type {\n",
       "        vertical-align: middle;\n",
       "    }\n",
       "\n",
       "    .dataframe tbody tr th {\n",
       "        vertical-align: top;\n",
       "    }\n",
       "\n",
       "    .dataframe thead th {\n",
       "        text-align: right;\n",
       "    }\n",
       "</style>\n",
       "<table border=\"1\" class=\"dataframe\">\n",
       "  <thead>\n",
       "    <tr style=\"text-align: right;\">\n",
       "      <th></th>\n",
       "      <th>Country</th>\n",
       "      <th>Year</th>\n",
       "      <th>Causes</th>\n",
       "      <th>Both sexes</th>\n",
       "      <th>Male</th>\n",
       "      <th>Female</th>\n",
       "      <th>Both sexes_recent</th>\n",
       "      <th>Both sexes_min</th>\n",
       "      <th>Both sexes_max</th>\n",
       "      <th>Male_recent</th>\n",
       "      <th>Male_min</th>\n",
       "      <th>Male_max</th>\n",
       "      <th>Female_recent</th>\n",
       "      <th>Female_min</th>\n",
       "      <th>Female_max</th>\n",
       "    </tr>\n",
       "  </thead>\n",
       "  <tbody>\n",
       "    <tr>\n",
       "      <th>0</th>\n",
       "      <td>Afghanistan</td>\n",
       "      <td>2019</td>\n",
       "      <td>Malignant neoplasms</td>\n",
       "      <td>15565 [7609-28280]</td>\n",
       "      <td>7756 [3898-13841]</td>\n",
       "      <td>7809 [3711-14439]</td>\n",
       "      <td>15565</td>\n",
       "      <td>7609</td>\n",
       "      <td>28280</td>\n",
       "      <td>7756</td>\n",
       "      <td>3898</td>\n",
       "      <td>13841</td>\n",
       "      <td>7809</td>\n",
       "      <td>3711</td>\n",
       "      <td>14439</td>\n",
       "    </tr>\n",
       "    <tr>\n",
       "      <th>1</th>\n",
       "      <td>Afghanistan</td>\n",
       "      <td>2019</td>\n",
       "      <td>Diabetes mellitus</td>\n",
       "      <td>8060 [3827-14468]</td>\n",
       "      <td>2612 [1377-4651]</td>\n",
       "      <td>5448 [2451-9817]</td>\n",
       "      <td>8060</td>\n",
       "      <td>3827</td>\n",
       "      <td>14468</td>\n",
       "      <td>2612</td>\n",
       "      <td>1377</td>\n",
       "      <td>4651</td>\n",
       "      <td>5448</td>\n",
       "      <td>2451</td>\n",
       "      <td>9817</td>\n",
       "    </tr>\n",
       "    <tr>\n",
       "      <th>2</th>\n",
       "      <td>Afghanistan</td>\n",
       "      <td>2019</td>\n",
       "      <td>Cardiovascular diseases</td>\n",
       "      <td>71264 [42413-108472]</td>\n",
       "      <td>33793 [20550-51028]</td>\n",
       "      <td>37471 [21863-57444]</td>\n",
       "      <td>71264</td>\n",
       "      <td>42413</td>\n",
       "      <td>108472</td>\n",
       "      <td>33793</td>\n",
       "      <td>20550</td>\n",
       "      <td>51028</td>\n",
       "      <td>37471</td>\n",
       "      <td>21863</td>\n",
       "      <td>57444</td>\n",
       "    </tr>\n",
       "    <tr>\n",
       "      <th>3</th>\n",
       "      <td>Afghanistan</td>\n",
       "      <td>2019</td>\n",
       "      <td>Chronic respiratory diseases</td>\n",
       "      <td>8285 [3618-14626]</td>\n",
       "      <td>3920 [1877-6745]</td>\n",
       "      <td>4365 [1741-7881]</td>\n",
       "      <td>8285</td>\n",
       "      <td>3618</td>\n",
       "      <td>14626</td>\n",
       "      <td>3920</td>\n",
       "      <td>1877</td>\n",
       "      <td>6745</td>\n",
       "      <td>4365</td>\n",
       "      <td>1741</td>\n",
       "      <td>7881</td>\n",
       "    </tr>\n",
       "    <tr>\n",
       "      <th>4</th>\n",
       "      <td>Afghanistan</td>\n",
       "      <td>2018</td>\n",
       "      <td>Malignant neoplasms</td>\n",
       "      <td>15065 [7337-27401]</td>\n",
       "      <td>7534 [3766-13454]</td>\n",
       "      <td>7531 [3570-13948]</td>\n",
       "      <td>15065</td>\n",
       "      <td>7337</td>\n",
       "      <td>27401</td>\n",
       "      <td>7534</td>\n",
       "      <td>3766</td>\n",
       "      <td>13454</td>\n",
       "      <td>7531</td>\n",
       "      <td>3570</td>\n",
       "      <td>13948</td>\n",
       "    </tr>\n",
       "  </tbody>\n",
       "</table>\n",
       "</div>"
      ],
      "text/plain": [
       "       Country  Year                        Causes            Both sexes  \\\n",
       "0  Afghanistan  2019           Malignant neoplasms    15565 [7609-28280]   \n",
       "1  Afghanistan  2019             Diabetes mellitus     8060 [3827-14468]   \n",
       "2  Afghanistan  2019       Cardiovascular diseases  71264 [42413-108472]   \n",
       "3  Afghanistan  2019  Chronic respiratory diseases     8285 [3618-14626]   \n",
       "4  Afghanistan  2018           Malignant neoplasms    15065 [7337-27401]   \n",
       "\n",
       "                  Male               Female  Both sexes_recent  \\\n",
       "0    7756 [3898-13841]    7809 [3711-14439]              15565   \n",
       "1     2612 [1377-4651]     5448 [2451-9817]               8060   \n",
       "2  33793 [20550-51028]  37471 [21863-57444]              71264   \n",
       "3     3920 [1877-6745]     4365 [1741-7881]               8285   \n",
       "4    7534 [3766-13454]    7531 [3570-13948]              15065   \n",
       "\n",
       "   Both sexes_min  Both sexes_max  Male_recent  Male_min  Male_max  \\\n",
       "0            7609           28280         7756      3898     13841   \n",
       "1            3827           14468         2612      1377      4651   \n",
       "2           42413          108472        33793     20550     51028   \n",
       "3            3618           14626         3920      1877      6745   \n",
       "4            7337           27401         7534      3766     13454   \n",
       "\n",
       "   Female_recent  Female_min  Female_max  \n",
       "0           7809        3711       14439  \n",
       "1           5448        2451        9817  \n",
       "2          37471       21863       57444  \n",
       "3           4365        1741        7881  \n",
       "4           7531        3570       13948  "
      ]
     },
     "execution_count": 294,
     "metadata": {},
     "output_type": "execute_result"
    }
   ],
   "source": [
    "df.head()"
   ]
  },
  {
   "cell_type": "markdown",
   "metadata": {
    "id": "Pfly3jfcrieu"
   },
   "source": [
    "## DROP UNNECESSARY FEATURES"
   ]
  },
  {
   "cell_type": "code",
   "execution_count": 295,
   "metadata": {
    "colab": {
     "base_uri": "https://localhost:8080/",
     "height": 0
    },
    "id": "_ICnsGfGE5dy",
    "outputId": "fe452fb8-144e-4f0c-83dd-603141275d52"
   },
   "outputs": [
    {
     "data": {
      "text/html": [
       "<div>\n",
       "<style scoped>\n",
       "    .dataframe tbody tr th:only-of-type {\n",
       "        vertical-align: middle;\n",
       "    }\n",
       "\n",
       "    .dataframe tbody tr th {\n",
       "        vertical-align: top;\n",
       "    }\n",
       "\n",
       "    .dataframe thead th {\n",
       "        text-align: right;\n",
       "    }\n",
       "</style>\n",
       "<table border=\"1\" class=\"dataframe\">\n",
       "  <thead>\n",
       "    <tr style=\"text-align: right;\">\n",
       "      <th></th>\n",
       "      <th>Country</th>\n",
       "      <th>Year</th>\n",
       "      <th>Causes</th>\n",
       "      <th>Both sexes_recent</th>\n",
       "      <th>Both sexes_min</th>\n",
       "      <th>Both sexes_max</th>\n",
       "      <th>Male_recent</th>\n",
       "      <th>Male_min</th>\n",
       "      <th>Male_max</th>\n",
       "      <th>Female_recent</th>\n",
       "      <th>Female_min</th>\n",
       "      <th>Female_max</th>\n",
       "    </tr>\n",
       "  </thead>\n",
       "  <tbody>\n",
       "    <tr>\n",
       "      <th>0</th>\n",
       "      <td>Afghanistan</td>\n",
       "      <td>2019</td>\n",
       "      <td>Malignant neoplasms</td>\n",
       "      <td>15565</td>\n",
       "      <td>7609</td>\n",
       "      <td>28280</td>\n",
       "      <td>7756</td>\n",
       "      <td>3898</td>\n",
       "      <td>13841</td>\n",
       "      <td>7809</td>\n",
       "      <td>3711</td>\n",
       "      <td>14439</td>\n",
       "    </tr>\n",
       "    <tr>\n",
       "      <th>1</th>\n",
       "      <td>Afghanistan</td>\n",
       "      <td>2019</td>\n",
       "      <td>Diabetes mellitus</td>\n",
       "      <td>8060</td>\n",
       "      <td>3827</td>\n",
       "      <td>14468</td>\n",
       "      <td>2612</td>\n",
       "      <td>1377</td>\n",
       "      <td>4651</td>\n",
       "      <td>5448</td>\n",
       "      <td>2451</td>\n",
       "      <td>9817</td>\n",
       "    </tr>\n",
       "    <tr>\n",
       "      <th>2</th>\n",
       "      <td>Afghanistan</td>\n",
       "      <td>2019</td>\n",
       "      <td>Cardiovascular diseases</td>\n",
       "      <td>71264</td>\n",
       "      <td>42413</td>\n",
       "      <td>108472</td>\n",
       "      <td>33793</td>\n",
       "      <td>20550</td>\n",
       "      <td>51028</td>\n",
       "      <td>37471</td>\n",
       "      <td>21863</td>\n",
       "      <td>57444</td>\n",
       "    </tr>\n",
       "    <tr>\n",
       "      <th>3</th>\n",
       "      <td>Afghanistan</td>\n",
       "      <td>2019</td>\n",
       "      <td>Chronic respiratory diseases</td>\n",
       "      <td>8285</td>\n",
       "      <td>3618</td>\n",
       "      <td>14626</td>\n",
       "      <td>3920</td>\n",
       "      <td>1877</td>\n",
       "      <td>6745</td>\n",
       "      <td>4365</td>\n",
       "      <td>1741</td>\n",
       "      <td>7881</td>\n",
       "    </tr>\n",
       "    <tr>\n",
       "      <th>4</th>\n",
       "      <td>Afghanistan</td>\n",
       "      <td>2018</td>\n",
       "      <td>Malignant neoplasms</td>\n",
       "      <td>15065</td>\n",
       "      <td>7337</td>\n",
       "      <td>27401</td>\n",
       "      <td>7534</td>\n",
       "      <td>3766</td>\n",
       "      <td>13454</td>\n",
       "      <td>7531</td>\n",
       "      <td>3570</td>\n",
       "      <td>13948</td>\n",
       "    </tr>\n",
       "  </tbody>\n",
       "</table>\n",
       "</div>"
      ],
      "text/plain": [
       "       Country  Year                        Causes  Both sexes_recent  \\\n",
       "0  Afghanistan  2019           Malignant neoplasms              15565   \n",
       "1  Afghanistan  2019             Diabetes mellitus               8060   \n",
       "2  Afghanistan  2019       Cardiovascular diseases              71264   \n",
       "3  Afghanistan  2019  Chronic respiratory diseases               8285   \n",
       "4  Afghanistan  2018           Malignant neoplasms              15065   \n",
       "\n",
       "   Both sexes_min  Both sexes_max  Male_recent  Male_min  Male_max  \\\n",
       "0            7609           28280         7756      3898     13841   \n",
       "1            3827           14468         2612      1377      4651   \n",
       "2           42413          108472        33793     20550     51028   \n",
       "3            3618           14626         3920      1877      6745   \n",
       "4            7337           27401         7534      3766     13454   \n",
       "\n",
       "   Female_recent  Female_min  Female_max  \n",
       "0           7809        3711       14439  \n",
       "1           5448        2451        9817  \n",
       "2          37471       21863       57444  \n",
       "3           4365        1741        7881  \n",
       "4           7531        3570       13948  "
      ]
     },
     "execution_count": 295,
     "metadata": {},
     "output_type": "execute_result"
    }
   ],
   "source": [
    "df_rearanged = df.drop(df.columns[3:6],axis=1)\n",
    "df_rearanged.head()"
   ]
  },
  {
   "cell_type": "code",
   "execution_count": 296,
   "metadata": {},
   "outputs": [
    {
     "name": "stdout",
     "output_type": "stream",
     "text": [
      "Data shape: (14640, 12)\n"
     ]
    },
    {
     "data": {
      "application/javascript": [
       "\n",
       "        if (window._pyforest_update_imports_cell) { window._pyforest_update_imports_cell('import seaborn as sns\\nimport numpy as np\\nimport pandas as pd\\nimport matplotlib.pyplot as plt'); }\n",
       "    "
      ],
      "text/plain": [
       "<IPython.core.display.Javascript object>"
      ]
     },
     "metadata": {},
     "output_type": "display_data"
    },
    {
     "name": "stdout",
     "output_type": "stream",
     "text": [
      "___________________________\n",
      "Data Types:\n",
      "int32     9\n",
      "object    2\n",
      "int64     1\n",
      "Name: Types, dtype: int64\n",
      "___________________________\n"
     ]
    },
    {
     "data": {
      "text/html": [
       "<div>\n",
       "<style scoped>\n",
       "    .dataframe tbody tr th:only-of-type {\n",
       "        vertical-align: middle;\n",
       "    }\n",
       "\n",
       "    .dataframe tbody tr th {\n",
       "        vertical-align: top;\n",
       "    }\n",
       "\n",
       "    .dataframe thead th {\n",
       "        text-align: right;\n",
       "    }\n",
       "</style>\n",
       "<table border=\"1\" class=\"dataframe\">\n",
       "  <thead>\n",
       "    <tr style=\"text-align: right;\">\n",
       "      <th></th>\n",
       "      <th>Types</th>\n",
       "      <th>Counts</th>\n",
       "      <th>Uniques</th>\n",
       "      <th>Nulls</th>\n",
       "      <th>Min</th>\n",
       "      <th>Max</th>\n",
       "    </tr>\n",
       "  </thead>\n",
       "  <tbody>\n",
       "    <tr>\n",
       "      <th>Both sexes_max</th>\n",
       "      <td>int32</td>\n",
       "      <td>14640</td>\n",
       "      <td>10645</td>\n",
       "      <td>0</td>\n",
       "      <td>18</td>\n",
       "      <td>5228328</td>\n",
       "    </tr>\n",
       "    <tr>\n",
       "      <th>Both sexes_min</th>\n",
       "      <td>int32</td>\n",
       "      <td>14640</td>\n",
       "      <td>8824</td>\n",
       "      <td>0</td>\n",
       "      <td>8</td>\n",
       "      <td>3385792</td>\n",
       "    </tr>\n",
       "    <tr>\n",
       "      <th>Both sexes_recent</th>\n",
       "      <td>int32</td>\n",
       "      <td>14640</td>\n",
       "      <td>9750</td>\n",
       "      <td>0</td>\n",
       "      <td>13</td>\n",
       "      <td>4306536</td>\n",
       "    </tr>\n",
       "    <tr>\n",
       "      <th>Causes</th>\n",
       "      <td>object</td>\n",
       "      <td>14640</td>\n",
       "      <td>4</td>\n",
       "      <td>0</td>\n",
       "      <td>Cardiovascular diseases</td>\n",
       "      <td>Malignant neoplasms</td>\n",
       "    </tr>\n",
       "    <tr>\n",
       "      <th>Country</th>\n",
       "      <td>object</td>\n",
       "      <td>14640</td>\n",
       "      <td>183</td>\n",
       "      <td>0</td>\n",
       "      <td>Afghanistan</td>\n",
       "      <td>Zimbabwe</td>\n",
       "    </tr>\n",
       "    <tr>\n",
       "      <th>Female_max</th>\n",
       "      <td>int32</td>\n",
       "      <td>14640</td>\n",
       "      <td>8915</td>\n",
       "      <td>0</td>\n",
       "      <td>6</td>\n",
       "      <td>2282684</td>\n",
       "    </tr>\n",
       "    <tr>\n",
       "      <th>Female_min</th>\n",
       "      <td>int32</td>\n",
       "      <td>14640</td>\n",
       "      <td>7149</td>\n",
       "      <td>0</td>\n",
       "      <td>3</td>\n",
       "      <td>1463568</td>\n",
       "    </tr>\n",
       "    <tr>\n",
       "      <th>Female_recent</th>\n",
       "      <td>int32</td>\n",
       "      <td>14640</td>\n",
       "      <td>8136</td>\n",
       "      <td>0</td>\n",
       "      <td>5</td>\n",
       "      <td>1877096</td>\n",
       "    </tr>\n",
       "    <tr>\n",
       "      <th>Male_max</th>\n",
       "      <td>int32</td>\n",
       "      <td>14640</td>\n",
       "      <td>8968</td>\n",
       "      <td>0</td>\n",
       "      <td>11</td>\n",
       "      <td>2945644</td>\n",
       "    </tr>\n",
       "    <tr>\n",
       "      <th>Male_min</th>\n",
       "      <td>int32</td>\n",
       "      <td>14640</td>\n",
       "      <td>7316</td>\n",
       "      <td>0</td>\n",
       "      <td>4</td>\n",
       "      <td>1922224</td>\n",
       "    </tr>\n",
       "    <tr>\n",
       "      <th>Male_recent</th>\n",
       "      <td>int32</td>\n",
       "      <td>14640</td>\n",
       "      <td>8148</td>\n",
       "      <td>0</td>\n",
       "      <td>7</td>\n",
       "      <td>2429441</td>\n",
       "    </tr>\n",
       "    <tr>\n",
       "      <th>Year</th>\n",
       "      <td>int64</td>\n",
       "      <td>14640</td>\n",
       "      <td>20</td>\n",
       "      <td>0</td>\n",
       "      <td>2000</td>\n",
       "      <td>2019</td>\n",
       "    </tr>\n",
       "  </tbody>\n",
       "</table>\n",
       "</div>"
      ],
      "text/plain": [
       "                    Types  Counts  Uniques  Nulls                      Min  \\\n",
       "Both sexes_max      int32   14640    10645      0                       18   \n",
       "Both sexes_min      int32   14640     8824      0                        8   \n",
       "Both sexes_recent   int32   14640     9750      0                       13   \n",
       "Causes             object   14640        4      0  Cardiovascular diseases   \n",
       "Country            object   14640      183      0              Afghanistan   \n",
       "Female_max          int32   14640     8915      0                        6   \n",
       "Female_min          int32   14640     7149      0                        3   \n",
       "Female_recent       int32   14640     8136      0                        5   \n",
       "Male_max            int32   14640     8968      0                       11   \n",
       "Male_min            int32   14640     7316      0                        4   \n",
       "Male_recent         int32   14640     8148      0                        7   \n",
       "Year                int64   14640       20      0                     2000   \n",
       "\n",
       "                                   Max  \n",
       "Both sexes_max                 5228328  \n",
       "Both sexes_min                 3385792  \n",
       "Both sexes_recent              4306536  \n",
       "Causes             Malignant neoplasms  \n",
       "Country                       Zimbabwe  \n",
       "Female_max                     2282684  \n",
       "Female_min                     1463568  \n",
       "Female_recent                  1877096  \n",
       "Male_max                       2945644  \n",
       "Male_min                       1922224  \n",
       "Male_recent                    2429441  \n",
       "Year                              2019  "
      ]
     },
     "metadata": {},
     "output_type": "display_data"
    }
   ],
   "source": [
    "def summary(df, pred=None):\n",
    "    obs = df.shape[0]\n",
    "    Types = df.dtypes\n",
    "    Counts = df.apply(lambda x: x.count())\n",
    "    Min = df.min()\n",
    "    Max = df.max()\n",
    "    Uniques = df.apply(lambda x: x.unique().shape[0])\n",
    "    Nulls = df.apply(lambda x: x.isnull().sum())\n",
    "    print('Data shape:', df.shape)\n",
    "\n",
    "    if pred is None:\n",
    "        cols = ['Types', 'Counts', 'Uniques', 'Nulls', 'Min', 'Max']\n",
    "        str = pd.concat([Types, Counts, Uniques, Nulls, Min, Max], axis = 1, sort=True)\n",
    "\n",
    "    str.columns = cols\n",
    "    print('___________________________\\nData Types:')\n",
    "    print(str.Types.value_counts())\n",
    "    print('___________________________')\n",
    "    return str\n",
    "\n",
    "display(summary(df_rearanged).sort_values(by='Nulls', ascending=False))"
   ]
  },
  {
   "cell_type": "code",
   "execution_count": 297,
   "metadata": {
    "cellView": "form",
    "colab": {
     "base_uri": "https://localhost:8080/",
     "height": 0
    },
    "id": "vwgxntNQ5gyV",
    "outputId": "80f52605-5801-494e-a364-d4cc995d3f9a"
   },
   "outputs": [
    {
     "data": {
      "application/javascript": [
       "\n",
       "        if (window._pyforest_update_imports_cell) { window._pyforest_update_imports_cell('import seaborn as sns\\nimport numpy as np\\nimport pandas as pd\\nimport matplotlib.pyplot as plt'); }\n",
       "    "
      ],
      "text/plain": [
       "<IPython.core.display.Javascript object>"
      ]
     },
     "metadata": {},
     "output_type": "display_data"
    },
    {
     "data": {
      "application/javascript": [
       "\n",
       "        if (window._pyforest_update_imports_cell) { window._pyforest_update_imports_cell('import seaborn as sns\\nimport numpy as np\\nimport pandas as pd\\nimport matplotlib.pyplot as plt'); }\n",
       "    "
      ],
      "text/plain": [
       "<IPython.core.display.Javascript object>"
      ]
     },
     "metadata": {},
     "output_type": "display_data"
    },
    {
     "data": {
      "application/javascript": [
       "\n",
       "        if (window._pyforest_update_imports_cell) { window._pyforest_update_imports_cell('import seaborn as sns\\nimport numpy as np\\nimport pandas as pd\\nimport matplotlib.pyplot as plt'); }\n",
       "    "
      ],
      "text/plain": [
       "<IPython.core.display.Javascript object>"
      ]
     },
     "metadata": {},
     "output_type": "display_data"
    },
    {
     "data": {
      "application/javascript": [
       "\n",
       "        if (window._pyforest_update_imports_cell) { window._pyforest_update_imports_cell('import seaborn as sns\\nimport numpy as np\\nimport pandas as pd\\nimport matplotlib.pyplot as plt'); }\n",
       "    "
      ],
      "text/plain": [
       "<IPython.core.display.Javascript object>"
      ]
     },
     "metadata": {},
     "output_type": "display_data"
    },
    {
     "data": {
      "application/javascript": [
       "\n",
       "        if (window._pyforest_update_imports_cell) { window._pyforest_update_imports_cell('import seaborn as sns\\nimport numpy as np\\nimport pandas as pd\\nimport matplotlib.pyplot as plt'); }\n",
       "    "
      ],
      "text/plain": [
       "<IPython.core.display.Javascript object>"
      ]
     },
     "metadata": {},
     "output_type": "display_data"
    },
    {
     "data": {
      "image/png": "[encoded data removed]",
      "text/plain": [
       "<Figure size 720x360 with 1 Axes>"
      ]
     },
     "metadata": {
      "needs_background": "light"
     },
     "output_type": "display_data"
    }
   ],
   "source": [
    "fig, ax = plt.subplots(figsize=(10,5))\n",
    "ax = sns.lineplot(y = df[(df.Country == \"Afghanistan\") & (df.Causes == \"Malignant neoplasms\")][\"Both sexes_min\"], \n",
    "                  x =df[(df.Country == \"Afghanistan\") & (df.Causes == \"Malignant neoplasms\")][\"Year\"])\n",
    "\n",
    "ax = sns.lineplot(y = df[(df.Country == \"Afghanistan\") & (df.Causes == \"Malignant neoplasms\")][\"Both sexes_max\"], \n",
    "                  x =df[(df.Country == \"Afghanistan\") & (df.Causes == \"Malignant neoplasms\")][\"Year\"])\n",
    "\n",
    "ax = sns.lineplot(y = df[(df.Country == \"Afghanistan\") & (df.Causes == \"Malignant neoplasms\")][\"Both sexes_recent\"], \n",
    "                  x =df[(df.Country == \"Afghanistan\") & (df.Causes == \"Malignant neoplasms\")][\"Year\"])\n",
    "\n",
    "plt.ylabel('Both Sexes (Recent, Max, Min)');"
   ]
  },
  {
   "cell_type": "markdown",
   "metadata": {
    "id": "7I7mTxEFtGfa"
   },
   "source": [
    "## DESCRIPTIVE ANALYSIS"
   ]
  },
  {
   "cell_type": "code",
   "execution_count": 298,
   "metadata": {
    "colab": {
     "base_uri": "https://localhost:8080/"
    },
    "id": "6zcMdUWYFUGI",
    "outputId": "5d72392a-dda8-43a4-e3e7-c7bba74e00e1"
   },
   "outputs": [
    {
     "data": {
      "text/plain": [
       "0"
      ]
     },
     "execution_count": 298,
     "metadata": {},
     "output_type": "execute_result"
    }
   ],
   "source": [
    "df_rearanged.isnull().any().sum()"
   ]
  },
  {
   "cell_type": "code",
   "execution_count": 299,
   "metadata": {
    "colab": {
     "base_uri": "https://localhost:8080/",
     "height": 0
    },
    "id": "Vrdy8pzOFahj",
    "outputId": "6320f576-326f-4172-e96b-2dad7f5569a4"
   },
   "outputs": [
    {
     "data": {
      "text/html": [
       "<div>\n",
       "<style scoped>\n",
       "    .dataframe tbody tr th:only-of-type {\n",
       "        vertical-align: middle;\n",
       "    }\n",
       "\n",
       "    .dataframe tbody tr th {\n",
       "        vertical-align: top;\n",
       "    }\n",
       "\n",
       "    .dataframe thead th {\n",
       "        text-align: right;\n",
       "    }\n",
       "</style>\n",
       "<table border=\"1\" class=\"dataframe\">\n",
       "  <thead>\n",
       "    <tr style=\"text-align: right;\">\n",
       "      <th></th>\n",
       "      <th>Year</th>\n",
       "      <th>Both sexes_recent</th>\n",
       "      <th>Both sexes_min</th>\n",
       "      <th>Both sexes_max</th>\n",
       "      <th>Male_recent</th>\n",
       "      <th>Male_min</th>\n",
       "      <th>Male_max</th>\n",
       "      <th>Female_recent</th>\n",
       "      <th>Female_min</th>\n",
       "      <th>Female_max</th>\n",
       "    </tr>\n",
       "  </thead>\n",
       "  <tbody>\n",
       "    <tr>\n",
       "      <th>count</th>\n",
       "      <td>14,640</td>\n",
       "      <td>14,640</td>\n",
       "      <td>14,640</td>\n",
       "      <td>14,640</td>\n",
       "      <td>14,640</td>\n",
       "      <td>14,640</td>\n",
       "      <td>14,640</td>\n",
       "      <td>14,640</td>\n",
       "      <td>14,640</td>\n",
       "      <td>14,640</td>\n",
       "    </tr>\n",
       "    <tr>\n",
       "      <th>mean</th>\n",
       "      <td>2,010</td>\n",
       "      <td>39,983</td>\n",
       "      <td>31,587</td>\n",
       "      <td>49,221</td>\n",
       "      <td>21,311</td>\n",
       "      <td>17,140</td>\n",
       "      <td>26,038</td>\n",
       "      <td>18,672</td>\n",
       "      <td>14,447</td>\n",
       "      <td>23,183</td>\n",
       "    </tr>\n",
       "    <tr>\n",
       "      <th>std</th>\n",
       "      <td>6</td>\n",
       "      <td>198,613</td>\n",
       "      <td>165,303</td>\n",
       "      <td>232,468</td>\n",
       "      <td>112,578</td>\n",
       "      <td>94,515</td>\n",
       "      <td>131,513</td>\n",
       "      <td>87,033</td>\n",
       "      <td>71,645</td>\n",
       "      <td>102,106</td>\n",
       "    </tr>\n",
       "    <tr>\n",
       "      <th>min</th>\n",
       "      <td>2,000</td>\n",
       "      <td>13</td>\n",
       "      <td>8</td>\n",
       "      <td>18</td>\n",
       "      <td>7</td>\n",
       "      <td>4</td>\n",
       "      <td>11</td>\n",
       "      <td>5</td>\n",
       "      <td>3</td>\n",
       "      <td>6</td>\n",
       "    </tr>\n",
       "    <tr>\n",
       "      <th>25%</th>\n",
       "      <td>2,005</td>\n",
       "      <td>997</td>\n",
       "      <td>641</td>\n",
       "      <td>1,452</td>\n",
       "      <td>516</td>\n",
       "      <td>332</td>\n",
       "      <td>732</td>\n",
       "      <td>461</td>\n",
       "      <td>298</td>\n",
       "      <td>680</td>\n",
       "    </tr>\n",
       "    <tr>\n",
       "      <th>50%</th>\n",
       "      <td>2,010</td>\n",
       "      <td>4,478</td>\n",
       "      <td>2,842</td>\n",
       "      <td>6,454</td>\n",
       "      <td>2,259</td>\n",
       "      <td>1,456</td>\n",
       "      <td>3,188</td>\n",
       "      <td>2,104</td>\n",
       "      <td>1,354</td>\n",
       "      <td>3,102</td>\n",
       "    </tr>\n",
       "    <tr>\n",
       "      <th>75%</th>\n",
       "      <td>2,014</td>\n",
       "      <td>18,375</td>\n",
       "      <td>13,010</td>\n",
       "      <td>25,051</td>\n",
       "      <td>9,246</td>\n",
       "      <td>6,642</td>\n",
       "      <td>12,145</td>\n",
       "      <td>8,979</td>\n",
       "      <td>6,130</td>\n",
       "      <td>12,286</td>\n",
       "    </tr>\n",
       "    <tr>\n",
       "      <th>max</th>\n",
       "      <td>2,019</td>\n",
       "      <td>4,306,536</td>\n",
       "      <td>3,385,792</td>\n",
       "      <td>5,228,328</td>\n",
       "      <td>2,429,441</td>\n",
       "      <td>1,922,224</td>\n",
       "      <td>2,945,644</td>\n",
       "      <td>1,877,096</td>\n",
       "      <td>1,463,568</td>\n",
       "      <td>2,282,684</td>\n",
       "    </tr>\n",
       "  </tbody>\n",
       "</table>\n",
       "</div>"
      ],
      "text/plain": [
       "        Year  Both sexes_recent  Both sexes_min  Both sexes_max  Male_recent  \\\n",
       "count 14,640             14,640          14,640          14,640       14,640   \n",
       "mean   2,010             39,983          31,587          49,221       21,311   \n",
       "std        6            198,613         165,303         232,468      112,578   \n",
       "min    2,000                 13               8              18            7   \n",
       "25%    2,005                997             641           1,452          516   \n",
       "50%    2,010              4,478           2,842           6,454        2,259   \n",
       "75%    2,014             18,375          13,010          25,051        9,246   \n",
       "max    2,019          4,306,536       3,385,792       5,228,328    2,429,441   \n",
       "\n",
       "       Male_min  Male_max  Female_recent  Female_min  Female_max  \n",
       "count    14,640    14,640         14,640      14,640      14,640  \n",
       "mean     17,140    26,038         18,672      14,447      23,183  \n",
       "std      94,515   131,513         87,033      71,645     102,106  \n",
       "min           4        11              5           3           6  \n",
       "25%         332       732            461         298         680  \n",
       "50%       1,456     3,188          2,104       1,354       3,102  \n",
       "75%       6,642    12,145          8,979       6,130      12,286  \n",
       "max   1,922,224 2,945,644      1,877,096   1,463,568   2,282,684  "
      ]
     },
     "execution_count": 299,
     "metadata": {},
     "output_type": "execute_result"
    }
   ],
   "source": [
    "df_rearanged.describe()"
   ]
  },
  {
   "cell_type": "code",
   "execution_count": 300,
   "metadata": {
    "id": "BgyUx1_PyoUK"
   },
   "outputs": [
    {
     "data": {
      "application/javascript": [
       "\n",
       "        if (window._pyforest_update_imports_cell) { window._pyforest_update_imports_cell('import seaborn as sns\\nimport numpy as np\\nimport pandas as pd\\nimport matplotlib.pyplot as plt'); }\n",
       "    "
      ],
      "text/plain": [
       "<IPython.core.display.Javascript object>"
      ]
     },
     "metadata": {},
     "output_type": "display_data"
    },
    {
     "data": {
      "text/html": [
       "<div>\n",
       "<style scoped>\n",
       "    .dataframe tbody tr th:only-of-type {\n",
       "        vertical-align: middle;\n",
       "    }\n",
       "\n",
       "    .dataframe tbody tr th {\n",
       "        vertical-align: top;\n",
       "    }\n",
       "\n",
       "    .dataframe thead th {\n",
       "        text-align: right;\n",
       "    }\n",
       "</style>\n",
       "<table border=\"1\" class=\"dataframe\">\n",
       "  <thead>\n",
       "    <tr style=\"text-align: right;\">\n",
       "      <th></th>\n",
       "      <th>Year</th>\n",
       "      <th>Both sexes_recent</th>\n",
       "      <th>Both sexes_min</th>\n",
       "      <th>Both sexes_max</th>\n",
       "      <th>Male_recent</th>\n",
       "      <th>Male_min</th>\n",
       "      <th>Male_max</th>\n",
       "      <th>Female_recent</th>\n",
       "      <th>Female_min</th>\n",
       "      <th>Female_max</th>\n",
       "    </tr>\n",
       "  </thead>\n",
       "  <tbody>\n",
       "    <tr>\n",
       "      <th>count</th>\n",
       "      <td>14,640</td>\n",
       "      <td>14,640</td>\n",
       "      <td>14,640</td>\n",
       "      <td>14,640</td>\n",
       "      <td>14,640</td>\n",
       "      <td>14,640</td>\n",
       "      <td>14,640</td>\n",
       "      <td>14,640</td>\n",
       "      <td>14,640</td>\n",
       "      <td>14,640</td>\n",
       "    </tr>\n",
       "    <tr>\n",
       "      <th>mean</th>\n",
       "      <td>2,010</td>\n",
       "      <td>39,983</td>\n",
       "      <td>31,587</td>\n",
       "      <td>49,221</td>\n",
       "      <td>21,311</td>\n",
       "      <td>17,140</td>\n",
       "      <td>26,038</td>\n",
       "      <td>18,672</td>\n",
       "      <td>14,447</td>\n",
       "      <td>23,183</td>\n",
       "    </tr>\n",
       "    <tr>\n",
       "      <th>std</th>\n",
       "      <td>6</td>\n",
       "      <td>198,613</td>\n",
       "      <td>165,303</td>\n",
       "      <td>232,468</td>\n",
       "      <td>112,578</td>\n",
       "      <td>94,515</td>\n",
       "      <td>131,513</td>\n",
       "      <td>87,033</td>\n",
       "      <td>71,645</td>\n",
       "      <td>102,106</td>\n",
       "    </tr>\n",
       "    <tr>\n",
       "      <th>min</th>\n",
       "      <td>2,000</td>\n",
       "      <td>13</td>\n",
       "      <td>8</td>\n",
       "      <td>18</td>\n",
       "      <td>7</td>\n",
       "      <td>4</td>\n",
       "      <td>11</td>\n",
       "      <td>5</td>\n",
       "      <td>3</td>\n",
       "      <td>6</td>\n",
       "    </tr>\n",
       "    <tr>\n",
       "      <th>25%</th>\n",
       "      <td>2,005</td>\n",
       "      <td>997</td>\n",
       "      <td>641</td>\n",
       "      <td>1,452</td>\n",
       "      <td>516</td>\n",
       "      <td>332</td>\n",
       "      <td>732</td>\n",
       "      <td>461</td>\n",
       "      <td>298</td>\n",
       "      <td>680</td>\n",
       "    </tr>\n",
       "    <tr>\n",
       "      <th>50%</th>\n",
       "      <td>2,010</td>\n",
       "      <td>4,478</td>\n",
       "      <td>2,842</td>\n",
       "      <td>6,454</td>\n",
       "      <td>2,259</td>\n",
       "      <td>1,456</td>\n",
       "      <td>3,188</td>\n",
       "      <td>2,104</td>\n",
       "      <td>1,354</td>\n",
       "      <td>3,102</td>\n",
       "    </tr>\n",
       "    <tr>\n",
       "      <th>75%</th>\n",
       "      <td>2,014</td>\n",
       "      <td>18,375</td>\n",
       "      <td>13,010</td>\n",
       "      <td>25,051</td>\n",
       "      <td>9,246</td>\n",
       "      <td>6,642</td>\n",
       "      <td>12,145</td>\n",
       "      <td>8,979</td>\n",
       "      <td>6,130</td>\n",
       "      <td>12,286</td>\n",
       "    </tr>\n",
       "    <tr>\n",
       "      <th>max</th>\n",
       "      <td>2,019</td>\n",
       "      <td>4,306,536</td>\n",
       "      <td>3,385,792</td>\n",
       "      <td>5,228,328</td>\n",
       "      <td>2,429,441</td>\n",
       "      <td>1,922,224</td>\n",
       "      <td>2,945,644</td>\n",
       "      <td>1,877,096</td>\n",
       "      <td>1,463,568</td>\n",
       "      <td>2,282,684</td>\n",
       "    </tr>\n",
       "  </tbody>\n",
       "</table>\n",
       "</div>"
      ],
      "text/plain": [
       "        Year  Both sexes_recent  Both sexes_min  Both sexes_max  Male_recent  \\\n",
       "count 14,640             14,640          14,640          14,640       14,640   \n",
       "mean   2,010             39,983          31,587          49,221       21,311   \n",
       "std        6            198,613         165,303         232,468      112,578   \n",
       "min    2,000                 13               8              18            7   \n",
       "25%    2,005                997             641           1,452          516   \n",
       "50%    2,010              4,478           2,842           6,454        2,259   \n",
       "75%    2,014             18,375          13,010          25,051        9,246   \n",
       "max    2,019          4,306,536       3,385,792       5,228,328    2,429,441   \n",
       "\n",
       "       Male_min  Male_max  Female_recent  Female_min  Female_max  \n",
       "count    14,640    14,640         14,640      14,640      14,640  \n",
       "mean     17,140    26,038         18,672      14,447      23,183  \n",
       "std      94,515   131,513         87,033      71,645     102,106  \n",
       "min           4        11              5           3           6  \n",
       "25%         332       732            461         298         680  \n",
       "50%       1,456     3,188          2,104       1,354       3,102  \n",
       "75%       6,642    12,145          8,979       6,130      12,286  \n",
       "max   1,922,224 2,945,644      1,877,096   1,463,568   2,282,684  "
      ]
     },
     "execution_count": 300,
     "metadata": {},
     "output_type": "execute_result"
    }
   ],
   "source": [
    "pd.options.display.float_format = '{:,.0f}'.format\n",
    "df_rearanged.describe()"
   ]
  },
  {
   "cell_type": "code",
   "execution_count": 301,
   "metadata": {
    "colab": {
     "base_uri": "https://localhost:8080/",
     "height": 0
    },
    "id": "mg2IszLEFh1Y",
    "outputId": "520f1e59-2a17-427a-bab2-f1c68de3a433"
   },
   "outputs": [
    {
     "data": {
      "text/html": [
       "<div>\n",
       "<style scoped>\n",
       "    .dataframe tbody tr th:only-of-type {\n",
       "        vertical-align: middle;\n",
       "    }\n",
       "\n",
       "    .dataframe tbody tr th {\n",
       "        vertical-align: top;\n",
       "    }\n",
       "\n",
       "    .dataframe thead th {\n",
       "        text-align: right;\n",
       "    }\n",
       "</style>\n",
       "<table border=\"1\" class=\"dataframe\">\n",
       "  <thead>\n",
       "    <tr style=\"text-align: right;\">\n",
       "      <th></th>\n",
       "      <th>Country</th>\n",
       "      <th>Year</th>\n",
       "      <th>Causes</th>\n",
       "      <th>Both sexes_recent</th>\n",
       "      <th>Both sexes_min</th>\n",
       "      <th>Both sexes_max</th>\n",
       "      <th>Male_recent</th>\n",
       "      <th>Male_min</th>\n",
       "      <th>Male_max</th>\n",
       "      <th>Female_recent</th>\n",
       "      <th>Female_min</th>\n",
       "      <th>Female_max</th>\n",
       "    </tr>\n",
       "  </thead>\n",
       "  <tbody>\n",
       "    <tr>\n",
       "      <th>2722</th>\n",
       "      <td>China</td>\n",
       "      <td>2019</td>\n",
       "      <td>Cardiovascular diseases</td>\n",
       "      <td>4306536</td>\n",
       "      <td>3385792</td>\n",
       "      <td>5228328</td>\n",
       "      <td>2429441</td>\n",
       "      <td>1922224</td>\n",
       "      <td>2945644</td>\n",
       "      <td>1877096</td>\n",
       "      <td>1463568</td>\n",
       "      <td>2282684</td>\n",
       "    </tr>\n",
       "  </tbody>\n",
       "</table>\n",
       "</div>"
      ],
      "text/plain": [
       "     Country  Year                   Causes  Both sexes_recent  \\\n",
       "2722   China  2019  Cardiovascular diseases            4306536   \n",
       "\n",
       "      Both sexes_min  Both sexes_max  Male_recent  Male_min  Male_max  \\\n",
       "2722         3385792         5228328      2429441   1922224   2945644   \n",
       "\n",
       "      Female_recent  Female_min  Female_max  \n",
       "2722        1877096     1463568     2282684  "
      ]
     },
     "execution_count": 301,
     "metadata": {},
     "output_type": "execute_result"
    }
   ],
   "source": [
    "df_rearanged[df_rearanged[\"Both sexes_recent\"] == df_rearanged[\"Both sexes_recent\"].max() ]"
   ]
  },
  {
   "cell_type": "code",
   "execution_count": 302,
   "metadata": {
    "colab": {
     "base_uri": "https://localhost:8080/",
     "height": 0
    },
    "id": "XVlxszNSc4Ek",
    "outputId": "19c78047-5890-4c47-81b3-108ca7bdc318"
   },
   "outputs": [
    {
     "data": {
      "text/html": [
       "<div>\n",
       "<style scoped>\n",
       "    .dataframe tbody tr th:only-of-type {\n",
       "        vertical-align: middle;\n",
       "    }\n",
       "\n",
       "    .dataframe tbody tr th {\n",
       "        vertical-align: top;\n",
       "    }\n",
       "\n",
       "    .dataframe thead th {\n",
       "        text-align: right;\n",
       "    }\n",
       "</style>\n",
       "<table border=\"1\" class=\"dataframe\">\n",
       "  <thead>\n",
       "    <tr style=\"text-align: right;\">\n",
       "      <th></th>\n",
       "      <th>Country</th>\n",
       "      <th>Year</th>\n",
       "      <th>Causes</th>\n",
       "      <th>Both sexes_recent</th>\n",
       "      <th>Both sexes_min</th>\n",
       "      <th>Both sexes_max</th>\n",
       "      <th>Male_recent</th>\n",
       "      <th>Male_min</th>\n",
       "      <th>Male_max</th>\n",
       "      <th>Female_recent</th>\n",
       "      <th>Female_min</th>\n",
       "      <th>Female_max</th>\n",
       "    </tr>\n",
       "  </thead>\n",
       "  <tbody>\n",
       "    <tr>\n",
       "      <th>387</th>\n",
       "      <td>Antigua and Barbuda</td>\n",
       "      <td>2003</td>\n",
       "      <td>Chronic respiratory diseases</td>\n",
       "      <td>13</td>\n",
       "      <td>9</td>\n",
       "      <td>18</td>\n",
       "      <td>8</td>\n",
       "      <td>6</td>\n",
       "      <td>11</td>\n",
       "      <td>5</td>\n",
       "      <td>3</td>\n",
       "      <td>6</td>\n",
       "    </tr>\n",
       "  </tbody>\n",
       "</table>\n",
       "</div>"
      ],
      "text/plain": [
       "                 Country  Year                        Causes  \\\n",
       "387  Antigua and Barbuda  2003  Chronic respiratory diseases   \n",
       "\n",
       "     Both sexes_recent  Both sexes_min  Both sexes_max  Male_recent  Male_min  \\\n",
       "387                 13               9              18            8         6   \n",
       "\n",
       "     Male_max  Female_recent  Female_min  Female_max  \n",
       "387        11              5           3           6  "
      ]
     },
     "execution_count": 302,
     "metadata": {},
     "output_type": "execute_result"
    }
   ],
   "source": [
    "df_rearanged[df_rearanged[\"Both sexes_recent\"] == df_rearanged[\"Both sexes_recent\"].min() ]"
   ]
  },
  {
   "cell_type": "code",
   "execution_count": 303,
   "metadata": {
    "colab": {
     "base_uri": "https://localhost:8080/"
    },
    "id": "j0dddEfmyv5W",
    "outputId": "fe874469-fac7-4823-eb37-57cd651dd9bc"
   },
   "outputs": [
    {
     "name": "stdout",
     "output_type": "stream",
     "text": [
      "['Afghanistan' 'Algeria' 'Argentina' 'Australia' 'Azerbaijan' 'Bangladesh'\n",
      " 'Belarus' 'Brazil' 'Bulgaria' 'Canada' 'China' 'Colombia' 'Czechia'\n",
      " \"Democratic People's Republic of Korea\"\n",
      " 'Democratic Republic of the Congo' 'Egypt' 'Ethiopia' 'France' 'Germany'\n",
      " 'Greece' 'Hungary' 'India' 'Indonesia' 'Iran (Islamic Republic of)'\n",
      " 'Iraq' 'Italy' 'Japan' 'Kazakhstan' 'Malaysia' 'Mexico' 'Morocco'\n",
      " 'Myanmar' 'Netherlands' 'Nigeria' 'Pakistan' 'Philippines' 'Poland'\n",
      " 'Republic of Korea' 'Romania' 'Russian Federation' 'Saudi Arabia'\n",
      " 'Serbia' 'South Africa' 'Spain' 'Sudan' 'Thailand' 'Turkey' 'Ukraine'\n",
      " 'United Kingdom of Great Britain and Northern Ireland'\n",
      " 'United States of America' 'Uzbekistan'\n",
      " 'Venezuela (Bolivarian Republic of)' 'Viet Nam' 'Yemen']\n"
     ]
    }
   ],
   "source": [
    "print(df_rearanged[(df_rearanged[\"Both sexes_recent\"] > 44442) & (df_rearanged[\"Male_recent\"] > 22341) & (df_rearanged[\"Female_recent\"] > 21756)].Country.unique())"
   ]
  },
  {
   "cell_type": "markdown",
   "metadata": {
    "id": "UXYMxibY9-n2"
   },
   "source": [
    "## PIVOT TABLE\n",
    "\n",
    "* We are looking for how the Diabetes mellitus\tavarege rate changed 2000 to 2019."
   ]
  },
  {
   "cell_type": "code",
   "execution_count": 304,
   "metadata": {
    "colab": {
     "base_uri": "https://localhost:8080/",
     "height": 0
    },
    "id": "huxDPXKFw7xA",
    "outputId": "a22ce8d8-2cf3-40fa-8b90-21edf3a1b3fb"
   },
   "outputs": [
    {
     "data": {
      "application/javascript": [
       "\n",
       "        if (window._pyforest_update_imports_cell) { window._pyforest_update_imports_cell('import seaborn as sns\\nimport numpy as np\\nimport pandas as pd\\nimport matplotlib.pyplot as plt'); }\n",
       "    "
      ],
      "text/plain": [
       "<IPython.core.display.Javascript object>"
      ]
     },
     "metadata": {},
     "output_type": "display_data"
    }
   ],
   "source": [
    "df_rearanged_pivot = pd.pivot_table(df_rearanged,\n",
    "                                    values= ['Both sexes_recent', 'Both sexes_min', 'Both sexes_max', \n",
    "                                             'Male_recent','Male_min', 'Male_max', \n",
    "                                             'Female_recent', 'Female_min', 'Female_max'], \n",
    "                                    index=['Country', 'Year', 'Causes'])"
   ]
  },
  {
   "cell_type": "code",
   "execution_count": 305,
   "metadata": {
    "colab": {
     "base_uri": "https://localhost:8080/",
     "height": 0
    },
    "id": "FEGLxlw3AKwy",
    "outputId": "2b88c17b-6db4-46b0-c41f-0fd6a4ed744a"
   },
   "outputs": [
    {
     "data": {
      "text/html": [
       "<div>\n",
       "<style scoped>\n",
       "    .dataframe tbody tr th:only-of-type {\n",
       "        vertical-align: middle;\n",
       "    }\n",
       "\n",
       "    .dataframe tbody tr th {\n",
       "        vertical-align: top;\n",
       "    }\n",
       "\n",
       "    .dataframe thead th {\n",
       "        text-align: right;\n",
       "    }\n",
       "</style>\n",
       "<table border=\"1\" class=\"dataframe\">\n",
       "  <thead>\n",
       "    <tr style=\"text-align: right;\">\n",
       "      <th></th>\n",
       "      <th></th>\n",
       "      <th></th>\n",
       "      <th>Both sexes_max</th>\n",
       "      <th>Both sexes_min</th>\n",
       "      <th>Both sexes_recent</th>\n",
       "      <th>Female_max</th>\n",
       "      <th>Female_min</th>\n",
       "      <th>Female_recent</th>\n",
       "      <th>Male_max</th>\n",
       "      <th>Male_min</th>\n",
       "      <th>Male_recent</th>\n",
       "    </tr>\n",
       "    <tr>\n",
       "      <th>Country</th>\n",
       "      <th>Year</th>\n",
       "      <th>Causes</th>\n",
       "      <th></th>\n",
       "      <th></th>\n",
       "      <th></th>\n",
       "      <th></th>\n",
       "      <th></th>\n",
       "      <th></th>\n",
       "      <th></th>\n",
       "      <th></th>\n",
       "      <th></th>\n",
       "    </tr>\n",
       "  </thead>\n",
       "  <tbody>\n",
       "    <tr>\n",
       "      <th rowspan=\"5\" valign=\"top\">Afghanistan</th>\n",
       "      <th rowspan=\"4\" valign=\"top\">2000</th>\n",
       "      <th>Cardiovascular diseases</th>\n",
       "      <td>70123</td>\n",
       "      <td>25975</td>\n",
       "      <td>44706</td>\n",
       "      <td>34435</td>\n",
       "      <td>11921</td>\n",
       "      <td>21492</td>\n",
       "      <td>35688</td>\n",
       "      <td>14054</td>\n",
       "      <td>23214</td>\n",
       "    </tr>\n",
       "    <tr>\n",
       "      <th>Chronic respiratory diseases</th>\n",
       "      <td>11226</td>\n",
       "      <td>2398</td>\n",
       "      <td>6088</td>\n",
       "      <td>5486</td>\n",
       "      <td>1055</td>\n",
       "      <td>2914</td>\n",
       "      <td>5740</td>\n",
       "      <td>1343</td>\n",
       "      <td>3174</td>\n",
       "    </tr>\n",
       "    <tr>\n",
       "      <th>Diabetes mellitus</th>\n",
       "      <td>6103</td>\n",
       "      <td>1526</td>\n",
       "      <td>3218</td>\n",
       "      <td>3710</td>\n",
       "      <td>877</td>\n",
       "      <td>1936</td>\n",
       "      <td>2392</td>\n",
       "      <td>649</td>\n",
       "      <td>1282</td>\n",
       "    </tr>\n",
       "    <tr>\n",
       "      <th>Malignant neoplasms</th>\n",
       "      <td>16134</td>\n",
       "      <td>3751</td>\n",
       "      <td>8378</td>\n",
       "      <td>7918</td>\n",
       "      <td>1792</td>\n",
       "      <td>4075</td>\n",
       "      <td>8216</td>\n",
       "      <td>1959</td>\n",
       "      <td>4304</td>\n",
       "    </tr>\n",
       "    <tr>\n",
       "      <th>2001</th>\n",
       "      <th>Cardiovascular diseases</th>\n",
       "      <td>73446</td>\n",
       "      <td>27138</td>\n",
       "      <td>46859</td>\n",
       "      <td>36267</td>\n",
       "      <td>12531</td>\n",
       "      <td>22630</td>\n",
       "      <td>37179</td>\n",
       "      <td>14607</td>\n",
       "      <td>24229</td>\n",
       "    </tr>\n",
       "    <tr>\n",
       "      <th>...</th>\n",
       "      <th>...</th>\n",
       "      <th>...</th>\n",
       "      <td>...</td>\n",
       "      <td>...</td>\n",
       "      <td>...</td>\n",
       "      <td>...</td>\n",
       "      <td>...</td>\n",
       "      <td>...</td>\n",
       "      <td>...</td>\n",
       "      <td>...</td>\n",
       "      <td>...</td>\n",
       "    </tr>\n",
       "    <tr>\n",
       "      <th rowspan=\"5\" valign=\"top\">Zimbabwe</th>\n",
       "      <th>2018</th>\n",
       "      <th>Malignant neoplasms</th>\n",
       "      <td>16974</td>\n",
       "      <td>6208</td>\n",
       "      <td>10650</td>\n",
       "      <td>11038</td>\n",
       "      <td>3934</td>\n",
       "      <td>6887</td>\n",
       "      <td>5936</td>\n",
       "      <td>2274</td>\n",
       "      <td>3763</td>\n",
       "    </tr>\n",
       "    <tr>\n",
       "      <th rowspan=\"4\" valign=\"top\">2019</th>\n",
       "      <th>Cardiovascular diseases</th>\n",
       "      <td>27148</td>\n",
       "      <td>10438</td>\n",
       "      <td>17335</td>\n",
       "      <td>15524</td>\n",
       "      <td>6031</td>\n",
       "      <td>10035</td>\n",
       "      <td>11625</td>\n",
       "      <td>4407</td>\n",
       "      <td>7300</td>\n",
       "    </tr>\n",
       "    <tr>\n",
       "      <th>Chronic respiratory diseases</th>\n",
       "      <td>4904</td>\n",
       "      <td>1287</td>\n",
       "      <td>2807</td>\n",
       "      <td>2585</td>\n",
       "      <td>508</td>\n",
       "      <td>1381</td>\n",
       "      <td>2319</td>\n",
       "      <td>780</td>\n",
       "      <td>1426</td>\n",
       "    </tr>\n",
       "    <tr>\n",
       "      <th>Diabetes mellitus</th>\n",
       "      <td>6314</td>\n",
       "      <td>2305</td>\n",
       "      <td>3934</td>\n",
       "      <td>3888</td>\n",
       "      <td>1423</td>\n",
       "      <td>2404</td>\n",
       "      <td>2426</td>\n",
       "      <td>882</td>\n",
       "      <td>1530</td>\n",
       "    </tr>\n",
       "    <tr>\n",
       "      <th>Malignant neoplasms</th>\n",
       "      <td>17377</td>\n",
       "      <td>6293</td>\n",
       "      <td>10876</td>\n",
       "      <td>11249</td>\n",
       "      <td>3966</td>\n",
       "      <td>7002</td>\n",
       "      <td>6127</td>\n",
       "      <td>2328</td>\n",
       "      <td>3875</td>\n",
       "    </tr>\n",
       "  </tbody>\n",
       "</table>\n",
       "<p>14640 rows × 9 columns</p>\n",
       "</div>"
      ],
      "text/plain": [
       "                                               Both sexes_max  Both sexes_min  \\\n",
       "Country     Year Causes                                                         \n",
       "Afghanistan 2000 Cardiovascular diseases                70123           25975   \n",
       "                 Chronic respiratory diseases           11226            2398   \n",
       "                 Diabetes mellitus                       6103            1526   \n",
       "                 Malignant neoplasms                    16134            3751   \n",
       "            2001 Cardiovascular diseases                73446           27138   \n",
       "...                                                       ...             ...   \n",
       "Zimbabwe    2018 Malignant neoplasms                    16974            6208   \n",
       "            2019 Cardiovascular diseases                27148           10438   \n",
       "                 Chronic respiratory diseases            4904            1287   \n",
       "                 Diabetes mellitus                       6314            2305   \n",
       "                 Malignant neoplasms                    17377            6293   \n",
       "\n",
       "                                               Both sexes_recent  Female_max  \\\n",
       "Country     Year Causes                                                        \n",
       "Afghanistan 2000 Cardiovascular diseases                   44706       34435   \n",
       "                 Chronic respiratory diseases               6088        5486   \n",
       "                 Diabetes mellitus                          3218        3710   \n",
       "                 Malignant neoplasms                        8378        7918   \n",
       "            2001 Cardiovascular diseases                   46859       36267   \n",
       "...                                                          ...         ...   \n",
       "Zimbabwe    2018 Malignant neoplasms                       10650       11038   \n",
       "            2019 Cardiovascular diseases                   17335       15524   \n",
       "                 Chronic respiratory diseases               2807        2585   \n",
       "                 Diabetes mellitus                          3934        3888   \n",
       "                 Malignant neoplasms                       10876       11249   \n",
       "\n",
       "                                               Female_min  Female_recent  \\\n",
       "Country     Year Causes                                                    \n",
       "Afghanistan 2000 Cardiovascular diseases            11921          21492   \n",
       "                 Chronic respiratory diseases        1055           2914   \n",
       "                 Diabetes mellitus                    877           1936   \n",
       "                 Malignant neoplasms                 1792           4075   \n",
       "            2001 Cardiovascular diseases            12531          22630   \n",
       "...                                                   ...            ...   \n",
       "Zimbabwe    2018 Malignant neoplasms                 3934           6887   \n",
       "            2019 Cardiovascular diseases             6031          10035   \n",
       "                 Chronic respiratory diseases         508           1381   \n",
       "                 Diabetes mellitus                   1423           2404   \n",
       "                 Malignant neoplasms                 3966           7002   \n",
       "\n",
       "                                               Male_max  Male_min  Male_recent  \n",
       "Country     Year Causes                                                         \n",
       "Afghanistan 2000 Cardiovascular diseases          35688     14054        23214  \n",
       "                 Chronic respiratory diseases      5740      1343         3174  \n",
       "                 Diabetes mellitus                 2392       649         1282  \n",
       "                 Malignant neoplasms               8216      1959         4304  \n",
       "            2001 Cardiovascular diseases          37179     14607        24229  \n",
       "...                                                 ...       ...          ...  \n",
       "Zimbabwe    2018 Malignant neoplasms               5936      2274         3763  \n",
       "            2019 Cardiovascular diseases          11625      4407         7300  \n",
       "                 Chronic respiratory diseases      2319       780         1426  \n",
       "                 Diabetes mellitus                 2426       882         1530  \n",
       "                 Malignant neoplasms               6127      2328         3875  \n",
       "\n",
       "[14640 rows x 9 columns]"
      ]
     },
     "execution_count": 305,
     "metadata": {},
     "output_type": "execute_result"
    }
   ],
   "source": [
    "df_rearanged_pivot"
   ]
  },
  {
   "cell_type": "code",
   "execution_count": 306,
   "metadata": {
    "colab": {
     "base_uri": "https://localhost:8080/",
     "height": 0
    },
    "id": "2K14wJp3ylOq",
    "outputId": "ae583ee5-5630-445c-a0a0-5ae168001721"
   },
   "outputs": [
    {
     "data": {
      "text/html": [
       "<div>\n",
       "<style scoped>\n",
       "    .dataframe tbody tr th:only-of-type {\n",
       "        vertical-align: middle;\n",
       "    }\n",
       "\n",
       "    .dataframe tbody tr th {\n",
       "        vertical-align: top;\n",
       "    }\n",
       "\n",
       "    .dataframe thead th {\n",
       "        text-align: right;\n",
       "    }\n",
       "</style>\n",
       "<table border=\"1\" class=\"dataframe\">\n",
       "  <thead>\n",
       "    <tr style=\"text-align: right;\">\n",
       "      <th></th>\n",
       "      <th>Both sexes_max</th>\n",
       "      <th>Both sexes_min</th>\n",
       "      <th>Both sexes_recent</th>\n",
       "      <th>Female_max</th>\n",
       "      <th>Female_min</th>\n",
       "      <th>Female_recent</th>\n",
       "      <th>Male_max</th>\n",
       "      <th>Male_min</th>\n",
       "      <th>Male_recent</th>\n",
       "    </tr>\n",
       "    <tr>\n",
       "      <th>Country</th>\n",
       "      <th></th>\n",
       "      <th></th>\n",
       "      <th></th>\n",
       "      <th></th>\n",
       "      <th></th>\n",
       "      <th></th>\n",
       "      <th></th>\n",
       "      <th></th>\n",
       "      <th></th>\n",
       "    </tr>\n",
       "  </thead>\n",
       "  <tbody>\n",
       "    <tr>\n",
       "      <th>Afghanistan</th>\n",
       "      <td>14468</td>\n",
       "      <td>3827</td>\n",
       "      <td>8060</td>\n",
       "      <td>9817</td>\n",
       "      <td>2451</td>\n",
       "      <td>5448</td>\n",
       "      <td>4651</td>\n",
       "      <td>1377</td>\n",
       "      <td>2612</td>\n",
       "    </tr>\n",
       "    <tr>\n",
       "      <th>Albania</th>\n",
       "      <td>439</td>\n",
       "      <td>156</td>\n",
       "      <td>269</td>\n",
       "      <td>246</td>\n",
       "      <td>88</td>\n",
       "      <td>151</td>\n",
       "      <td>194</td>\n",
       "      <td>68</td>\n",
       "      <td>118</td>\n",
       "    </tr>\n",
       "    <tr>\n",
       "      <th>Algeria</th>\n",
       "      <td>11849</td>\n",
       "      <td>4065</td>\n",
       "      <td>7186</td>\n",
       "      <td>6815</td>\n",
       "      <td>2306</td>\n",
       "      <td>4071</td>\n",
       "      <td>5034</td>\n",
       "      <td>1759</td>\n",
       "      <td>3115</td>\n",
       "    </tr>\n",
       "    <tr>\n",
       "      <th>Angola</th>\n",
       "      <td>8070</td>\n",
       "      <td>3049</td>\n",
       "      <td>5143</td>\n",
       "      <td>3072</td>\n",
       "      <td>1086</td>\n",
       "      <td>1905</td>\n",
       "      <td>4998</td>\n",
       "      <td>1962</td>\n",
       "      <td>3238</td>\n",
       "    </tr>\n",
       "    <tr>\n",
       "      <th>Antigua and Barbuda</th>\n",
       "      <td>90</td>\n",
       "      <td>47</td>\n",
       "      <td>67</td>\n",
       "      <td>52</td>\n",
       "      <td>28</td>\n",
       "      <td>39</td>\n",
       "      <td>38</td>\n",
       "      <td>19</td>\n",
       "      <td>28</td>\n",
       "    </tr>\n",
       "    <tr>\n",
       "      <th>...</th>\n",
       "      <td>...</td>\n",
       "      <td>...</td>\n",
       "      <td>...</td>\n",
       "      <td>...</td>\n",
       "      <td>...</td>\n",
       "      <td>...</td>\n",
       "      <td>...</td>\n",
       "      <td>...</td>\n",
       "      <td>...</td>\n",
       "    </tr>\n",
       "    <tr>\n",
       "      <th>Venezuela (Bolivarian Republic of)</th>\n",
       "      <td>21794</td>\n",
       "      <td>9691</td>\n",
       "      <td>14969</td>\n",
       "      <td>11244</td>\n",
       "      <td>5035</td>\n",
       "      <td>7745</td>\n",
       "      <td>10550</td>\n",
       "      <td>4656</td>\n",
       "      <td>7224</td>\n",
       "    </tr>\n",
       "    <tr>\n",
       "      <th>Viet Nam</th>\n",
       "      <td>69161</td>\n",
       "      <td>27215</td>\n",
       "      <td>45193</td>\n",
       "      <td>42918</td>\n",
       "      <td>16745</td>\n",
       "      <td>28107</td>\n",
       "      <td>26244</td>\n",
       "      <td>10470</td>\n",
       "      <td>17086</td>\n",
       "    </tr>\n",
       "    <tr>\n",
       "      <th>Yemen</th>\n",
       "      <td>4601</td>\n",
       "      <td>1353</td>\n",
       "      <td>2627</td>\n",
       "      <td>2665</td>\n",
       "      <td>769</td>\n",
       "      <td>1512</td>\n",
       "      <td>1935</td>\n",
       "      <td>584</td>\n",
       "      <td>1114</td>\n",
       "    </tr>\n",
       "    <tr>\n",
       "      <th>Zambia</th>\n",
       "      <td>4586</td>\n",
       "      <td>1750</td>\n",
       "      <td>2935</td>\n",
       "      <td>1940</td>\n",
       "      <td>728</td>\n",
       "      <td>1232</td>\n",
       "      <td>2646</td>\n",
       "      <td>1021</td>\n",
       "      <td>1702</td>\n",
       "    </tr>\n",
       "    <tr>\n",
       "      <th>Zimbabwe</th>\n",
       "      <td>6314</td>\n",
       "      <td>2305</td>\n",
       "      <td>3934</td>\n",
       "      <td>3888</td>\n",
       "      <td>1423</td>\n",
       "      <td>2404</td>\n",
       "      <td>2426</td>\n",
       "      <td>882</td>\n",
       "      <td>1530</td>\n",
       "    </tr>\n",
       "  </tbody>\n",
       "</table>\n",
       "<p>183 rows × 9 columns</p>\n",
       "</div>"
      ],
      "text/plain": [
       "                                    Both sexes_max  Both sexes_min  \\\n",
       "Country                                                              \n",
       "Afghanistan                                  14468            3827   \n",
       "Albania                                        439             156   \n",
       "Algeria                                      11849            4065   \n",
       "Angola                                        8070            3049   \n",
       "Antigua and Barbuda                             90              47   \n",
       "...                                            ...             ...   \n",
       "Venezuela (Bolivarian Republic of)           21794            9691   \n",
       "Viet Nam                                     69161           27215   \n",
       "Yemen                                         4601            1353   \n",
       "Zambia                                        4586            1750   \n",
       "Zimbabwe                                      6314            2305   \n",
       "\n",
       "                                    Both sexes_recent  Female_max  Female_min  \\\n",
       "Country                                                                         \n",
       "Afghanistan                                      8060        9817        2451   \n",
       "Albania                                           269         246          88   \n",
       "Algeria                                          7186        6815        2306   \n",
       "Angola                                           5143        3072        1086   \n",
       "Antigua and Barbuda                                67          52          28   \n",
       "...                                               ...         ...         ...   \n",
       "Venezuela (Bolivarian Republic of)              14969       11244        5035   \n",
       "Viet Nam                                        45193       42918       16745   \n",
       "Yemen                                            2627        2665         769   \n",
       "Zambia                                           2935        1940         728   \n",
       "Zimbabwe                                         3934        3888        1423   \n",
       "\n",
       "                                    Female_recent  Male_max  Male_min  \\\n",
       "Country                                                                 \n",
       "Afghanistan                                  5448      4651      1377   \n",
       "Albania                                       151       194        68   \n",
       "Algeria                                      4071      5034      1759   \n",
       "Angola                                       1905      4998      1962   \n",
       "Antigua and Barbuda                            39        38        19   \n",
       "...                                           ...       ...       ...   \n",
       "Venezuela (Bolivarian Republic of)           7745     10550      4656   \n",
       "Viet Nam                                    28107     26244     10470   \n",
       "Yemen                                        1512      1935       584   \n",
       "Zambia                                       1232      2646      1021   \n",
       "Zimbabwe                                     2404      2426       882   \n",
       "\n",
       "                                    Male_recent  \n",
       "Country                                          \n",
       "Afghanistan                                2612  \n",
       "Albania                                     118  \n",
       "Algeria                                    3115  \n",
       "Angola                                     3238  \n",
       "Antigua and Barbuda                          28  \n",
       "...                                         ...  \n",
       "Venezuela (Bolivarian Republic of)         7224  \n",
       "Viet Nam                                  17086  \n",
       "Yemen                                      1114  \n",
       "Zambia                                     1702  \n",
       "Zimbabwe                                   1530  \n",
       "\n",
       "[183 rows x 9 columns]"
      ]
     },
     "execution_count": 306,
     "metadata": {},
     "output_type": "execute_result"
    }
   ],
   "source": [
    "df_rearanged_pivot.xs((2019, \"Diabetes mellitus\"), level=[1,2])\n",
    "# or\n",
    "# df_rearanged_pivot.xs((2019, \"Diabetes mellitus\"), level=['Year', \"Causes\"])"
   ]
  },
  {
   "cell_type": "code",
   "execution_count": 307,
   "metadata": {
    "colab": {
     "base_uri": "https://localhost:8080/",
     "height": 0
    },
    "id": "QJySWJT_zXIE",
    "outputId": "4f85e515-8dd1-49d6-c4de-fda1777713b8"
   },
   "outputs": [
    {
     "data": {
      "text/html": [
       "<div>\n",
       "<style scoped>\n",
       "    .dataframe tbody tr th:only-of-type {\n",
       "        vertical-align: middle;\n",
       "    }\n",
       "\n",
       "    .dataframe tbody tr th {\n",
       "        vertical-align: top;\n",
       "    }\n",
       "\n",
       "    .dataframe thead th {\n",
       "        text-align: right;\n",
       "    }\n",
       "</style>\n",
       "<table border=\"1\" class=\"dataframe\">\n",
       "  <thead>\n",
       "    <tr style=\"text-align: right;\">\n",
       "      <th></th>\n",
       "      <th>Both sexes_max</th>\n",
       "      <th>Both sexes_min</th>\n",
       "      <th>Both sexes_recent</th>\n",
       "      <th>Female_max</th>\n",
       "      <th>Female_min</th>\n",
       "      <th>Female_recent</th>\n",
       "      <th>Male_max</th>\n",
       "      <th>Male_min</th>\n",
       "      <th>Male_recent</th>\n",
       "    </tr>\n",
       "  </thead>\n",
       "  <tbody>\n",
       "    <tr>\n",
       "      <th>median</th>\n",
       "      <td>3,612</td>\n",
       "      <td>1,423</td>\n",
       "      <td>2,363</td>\n",
       "      <td>1,941</td>\n",
       "      <td>769</td>\n",
       "      <td>1,300</td>\n",
       "      <td>1,604</td>\n",
       "      <td>661</td>\n",
       "      <td>1,078</td>\n",
       "    </tr>\n",
       "    <tr>\n",
       "      <th>mean</th>\n",
       "      <td>14,672</td>\n",
       "      <td>7,463</td>\n",
       "      <td>10,678</td>\n",
       "      <td>7,400</td>\n",
       "      <td>3,726</td>\n",
       "      <td>5,382</td>\n",
       "      <td>7,272</td>\n",
       "      <td>3,737</td>\n",
       "      <td>5,296</td>\n",
       "    </tr>\n",
       "  </tbody>\n",
       "</table>\n",
       "</div>"
      ],
      "text/plain": [
       "        Both sexes_max  Both sexes_min  Both sexes_recent  Female_max  \\\n",
       "median           3,612           1,423              2,363       1,941   \n",
       "mean            14,672           7,463             10,678       7,400   \n",
       "\n",
       "        Female_min  Female_recent  Male_max  Male_min  Male_recent  \n",
       "median         769          1,300     1,604       661        1,078  \n",
       "mean         3,726          5,382     7,272     3,737        5,296  "
      ]
     },
     "execution_count": 307,
     "metadata": {},
     "output_type": "execute_result"
    }
   ],
   "source": [
    "df_rearanged_pivot.xs((2019, \"Diabetes mellitus\"), level=[1, \"Causes\"]).agg([\"median\",\"mean\"])"
   ]
  },
  {
   "cell_type": "code",
   "execution_count": 308,
   "metadata": {
    "colab": {
     "base_uri": "https://localhost:8080/",
     "height": 0
    },
    "id": "Onvbr-2NBTuo",
    "outputId": "8bbc3f33-d46c-44df-9d17-eaeda3bcb8c7"
   },
   "outputs": [
    {
     "data": {
      "text/html": [
       "<div>\n",
       "<style scoped>\n",
       "    .dataframe tbody tr th:only-of-type {\n",
       "        vertical-align: middle;\n",
       "    }\n",
       "\n",
       "    .dataframe tbody tr th {\n",
       "        vertical-align: top;\n",
       "    }\n",
       "\n",
       "    .dataframe thead th {\n",
       "        text-align: right;\n",
       "    }\n",
       "</style>\n",
       "<table border=\"1\" class=\"dataframe\">\n",
       "  <thead>\n",
       "    <tr style=\"text-align: right;\">\n",
       "      <th></th>\n",
       "      <th>Both sexes_max</th>\n",
       "      <th>Both sexes_min</th>\n",
       "      <th>Both sexes_recent</th>\n",
       "      <th>Female_max</th>\n",
       "      <th>Female_min</th>\n",
       "      <th>Female_recent</th>\n",
       "      <th>Male_max</th>\n",
       "      <th>Male_min</th>\n",
       "      <th>Male_recent</th>\n",
       "    </tr>\n",
       "  </thead>\n",
       "  <tbody>\n",
       "    <tr>\n",
       "      <th>median</th>\n",
       "      <td>2,033</td>\n",
       "      <td>952</td>\n",
       "      <td>1,415</td>\n",
       "      <td>1,134</td>\n",
       "      <td>521</td>\n",
       "      <td>753</td>\n",
       "      <td>917</td>\n",
       "      <td>423</td>\n",
       "      <td>636</td>\n",
       "    </tr>\n",
       "    <tr>\n",
       "      <th>mean</th>\n",
       "      <td>8,095</td>\n",
       "      <td>4,650</td>\n",
       "      <td>6,196</td>\n",
       "      <td>4,263</td>\n",
       "      <td>2,448</td>\n",
       "      <td>3,267</td>\n",
       "      <td>3,832</td>\n",
       "      <td>2,202</td>\n",
       "      <td>2,930</td>\n",
       "    </tr>\n",
       "  </tbody>\n",
       "</table>\n",
       "</div>"
      ],
      "text/plain": [
       "        Both sexes_max  Both sexes_min  Both sexes_recent  Female_max  \\\n",
       "median           2,033             952              1,415       1,134   \n",
       "mean             8,095           4,650              6,196       4,263   \n",
       "\n",
       "        Female_min  Female_recent  Male_max  Male_min  Male_recent  \n",
       "median         521            753       917       423          636  \n",
       "mean         2,448          3,267     3,832     2,202        2,930  "
      ]
     },
     "execution_count": 308,
     "metadata": {},
     "output_type": "execute_result"
    }
   ],
   "source": [
    "df_rearanged_pivot.xs((2000, \"Diabetes mellitus\"), level=[1, \"Causes\"]).agg([\"median\",\"mean\"])"
   ]
  },
  {
   "cell_type": "code",
   "execution_count": 309,
   "metadata": {
    "colab": {
     "base_uri": "https://localhost:8080/",
     "height": 0
    },
    "id": "26Q5ekF1BJ7t",
    "outputId": "1ba6846f-6178-4211-c814-568eb1d101ef"
   },
   "outputs": [
    {
     "data": {
      "application/javascript": [
       "\n",
       "        if (window._pyforest_update_imports_cell) { window._pyforest_update_imports_cell('import seaborn as sns\\nimport numpy as np\\nimport pandas as pd\\nimport matplotlib.pyplot as plt'); }\n",
       "    "
      ],
      "text/plain": [
       "<IPython.core.display.Javascript object>"
      ]
     },
     "metadata": {},
     "output_type": "display_data"
    },
    {
     "data": {
      "image/png": "[encoded data removed]",
      "text/plain": [
       "<Figure size 2160x360 with 1 Axes>"
      ]
     },
     "metadata": {
      "needs_background": "light"
     },
     "output_type": "display_data"
    }
   ],
   "source": [
    "plt.figure(figsize=(30,5))\n",
    "df_rearanged_pivot.xs((2019, \"Diabetes mellitus\"), level=[1,2])[\"Both sexes_recent\"].plot.bar(color = \"red\");"
   ]
  },
  {
   "cell_type": "code",
   "execution_count": 310,
   "metadata": {
    "colab": {
     "base_uri": "https://localhost:8080/",
     "height": 0
    },
    "id": "mwyVgDVW79al",
    "outputId": "c5f7cb3f-a183-4788-afc9-08b194c6ed98"
   },
   "outputs": [
    {
     "data": {
      "application/javascript": [
       "\n",
       "        if (window._pyforest_update_imports_cell) { window._pyforest_update_imports_cell('import seaborn as sns\\nimport numpy as np\\nimport pandas as pd\\nimport matplotlib.pyplot as plt'); }\n",
       "    "
      ],
      "text/plain": [
       "<IPython.core.display.Javascript object>"
      ]
     },
     "metadata": {},
     "output_type": "display_data"
    },
    {
     "data": {
      "image/png": "[encoded data removed]",
      "text/plain": [
       "<Figure size 2160x360 with 1 Axes>"
      ]
     },
     "metadata": {
      "needs_background": "light"
     },
     "output_type": "display_data"
    }
   ],
   "source": [
    "plt.figure(figsize=(30,5))\n",
    "df_rearanged_pivot.xs((2000, \"Diabetes mellitus\"), level=[1,2])[\"Both sexes_recent\"].plot.bar();"
   ]
  },
  {
   "cell_type": "code",
   "execution_count": 311,
   "metadata": {
    "colab": {
     "base_uri": "https://localhost:8080/",
     "height": 0
    },
    "id": "Ls0oq0V9_uBV",
    "outputId": "40cdbd6f-649d-4486-a1c3-38230f7fbdc1"
   },
   "outputs": [
    {
     "data": {
      "application/javascript": [
       "\n",
       "        if (window._pyforest_update_imports_cell) { window._pyforest_update_imports_cell('import seaborn as sns\\nimport numpy as np\\nimport pandas as pd\\nimport matplotlib.pyplot as plt'); }\n",
       "    "
      ],
      "text/plain": [
       "<IPython.core.display.Javascript object>"
      ]
     },
     "metadata": {},
     "output_type": "display_data"
    },
    {
     "data": {
      "image/png": "[encoded data removed]",
      "text/plain": [
       "<Figure size 2160x360 with 1 Axes>"
      ]
     },
     "metadata": {
      "needs_background": "light"
     },
     "output_type": "display_data"
    }
   ],
   "source": [
    "plt.figure(figsize=(30,5))\n",
    "df_rearanged_pivot.xs((2019, \"Diabetes mellitus\"), level=[1,2])[\"Both sexes_recent\"].plot.bar(color = \"red\")\n",
    "df_rearanged_pivot.xs((2000, \"Diabetes mellitus\"), level=[1,2])[\"Both sexes_recent\"].plot.bar();"
   ]
  },
  {
   "cell_type": "markdown",
   "metadata": {
    "id": "Qo30E_lAtXIi"
   },
   "source": [
    "# GDP DATA"
   ]
  },
  {
   "cell_type": "code",
   "execution_count": 312,
   "metadata": {
    "colab": {
     "base_uri": "https://localhost:8080/",
     "height": 0
    },
    "id": "j4mVFU8EKA0I",
    "outputId": "f6dabea6-804b-42d9-9d14-043a7c56fdd0"
   },
   "outputs": [
    {
     "data": {
      "application/javascript": [
       "\n",
       "        if (window._pyforest_update_imports_cell) { window._pyforest_update_imports_cell('import seaborn as sns\\nimport numpy as np\\nimport pandas as pd\\nimport matplotlib.pyplot as plt'); }\n",
       "    "
      ],
      "text/plain": [
       "<IPython.core.display.Javascript object>"
      ]
     },
     "metadata": {},
     "output_type": "display_data"
    },
    {
     "data": {
      "text/html": [
       "<div>\n",
       "<style scoped>\n",
       "    .dataframe tbody tr th:only-of-type {\n",
       "        vertical-align: middle;\n",
       "    }\n",
       "\n",
       "    .dataframe tbody tr th {\n",
       "        vertical-align: top;\n",
       "    }\n",
       "\n",
       "    .dataframe thead th {\n",
       "        text-align: right;\n",
       "    }\n",
       "</style>\n",
       "<table border=\"1\" class=\"dataframe\">\n",
       "  <thead>\n",
       "    <tr style=\"text-align: right;\">\n",
       "      <th></th>\n",
       "      <th>Country Code</th>\n",
       "      <th>Region</th>\n",
       "      <th>IncomeGroup</th>\n",
       "      <th>SpecialNotes</th>\n",
       "      <th>TableName</th>\n",
       "      <th>Unnamed: 5</th>\n",
       "    </tr>\n",
       "  </thead>\n",
       "  <tbody>\n",
       "    <tr>\n",
       "      <th>0</th>\n",
       "      <td>ABW</td>\n",
       "      <td>Latin America &amp; Caribbean</td>\n",
       "      <td>High income</td>\n",
       "      <td>NaN</td>\n",
       "      <td>Aruba</td>\n",
       "      <td>nan</td>\n",
       "    </tr>\n",
       "    <tr>\n",
       "      <th>1</th>\n",
       "      <td>AFG</td>\n",
       "      <td>South Asia</td>\n",
       "      <td>Low income</td>\n",
       "      <td>NaN</td>\n",
       "      <td>Afghanistan</td>\n",
       "      <td>nan</td>\n",
       "    </tr>\n",
       "    <tr>\n",
       "      <th>2</th>\n",
       "      <td>AGO</td>\n",
       "      <td>Sub-Saharan Africa</td>\n",
       "      <td>Lower middle income</td>\n",
       "      <td>NaN</td>\n",
       "      <td>Angola</td>\n",
       "      <td>nan</td>\n",
       "    </tr>\n",
       "    <tr>\n",
       "      <th>3</th>\n",
       "      <td>ALB</td>\n",
       "      <td>Europe &amp; Central Asia</td>\n",
       "      <td>Upper middle income</td>\n",
       "      <td>NaN</td>\n",
       "      <td>Albania</td>\n",
       "      <td>nan</td>\n",
       "    </tr>\n",
       "    <tr>\n",
       "      <th>4</th>\n",
       "      <td>AND</td>\n",
       "      <td>Europe &amp; Central Asia</td>\n",
       "      <td>High income</td>\n",
       "      <td>NaN</td>\n",
       "      <td>Andorra</td>\n",
       "      <td>nan</td>\n",
       "    </tr>\n",
       "  </tbody>\n",
       "</table>\n",
       "</div>"
      ],
      "text/plain": [
       "  Country Code                     Region          IncomeGroup SpecialNotes  \\\n",
       "0          ABW  Latin America & Caribbean          High income          NaN   \n",
       "1          AFG                 South Asia           Low income          NaN   \n",
       "2          AGO         Sub-Saharan Africa  Lower middle income          NaN   \n",
       "3          ALB      Europe & Central Asia  Upper middle income          NaN   \n",
       "4          AND      Europe & Central Asia          High income          NaN   \n",
       "\n",
       "     TableName  Unnamed: 5  \n",
       "0        Aruba         nan  \n",
       "1  Afghanistan         nan  \n",
       "2       Angola         nan  \n",
       "3      Albania         nan  \n",
       "4      Andorra         nan  "
      ]
     },
     "execution_count": 312,
     "metadata": {},
     "output_type": "execute_result"
    }
   ],
   "source": [
    "df_gdp = pd.read_csv(\"Data/Metadata_Country_API_NY.GDP.MKTP.KD.ZG_DS2_en_csv_v2_2055665.csv\")\n",
    "df_gdp.head()"
   ]
  },
  {
   "cell_type": "code",
   "execution_count": 313,
   "metadata": {
    "colab": {
     "base_uri": "https://localhost:8080/"
    },
    "id": "M2X3Fsntr-GR",
    "outputId": "3c10d471-d1b7-42f2-aa7c-400f98d55ccc",
    "scrolled": true
   },
   "outputs": [
    {
     "name": "stdout",
     "output_type": "stream",
     "text": [
      "WSM    1\n",
      "PRK    1\n",
      "TZA    1\n",
      "IBT    1\n",
      "RUS    1\n",
      "      ..\n",
      "SEN    1\n",
      "GIB    1\n",
      "NOR    1\n",
      "GNB    1\n",
      "SLE    1\n",
      "Name: Country Code, Length: 263, dtype: int64\n",
      "--------------------------------------------------\n",
      "Europe & Central Asia         58\n",
      "Sub-Saharan Africa            48\n",
      "NaN                           46\n",
      "Latin America & Caribbean     42\n",
      "East Asia & Pacific           37\n",
      "Middle East & North Africa    21\n",
      "South Asia                     8\n",
      "North America                  3\n",
      "Name: Region, dtype: int64\n",
      "--------------------------------------------------\n",
      "High income            82\n",
      "Upper middle income    56\n",
      "Lower middle income    50\n",
      "NaN                    46\n",
      "Low income             29\n",
      "Name: IncomeGroup, dtype: int64\n",
      "--------------------------------------------------\n",
      "NaN                                                                                                                                                                                                                                                                                                                                                                 169\n",
      "Fiscal year end: March 31; reporting period for national accounts data: CY.                                                                                                                                                                                                                                                                                           7\n",
      "Fiscal year end: June 30; reporting period for national accounts data: FY.                                                                                                                                                                                                                                                                                            6\n",
      "Fiscal year end: June 30; reporting period for national accounts data: CY.                                                                                                                                                                                                                                                                                            2\n",
      "Fiscal year end: March 31; reporting period for national accounts data: FY.                                                                                                                                                                                                                                                                                           2\n",
      "                                                                                                                                                                                                                                                                                                                                                                   ... \n",
      "Europe and Central Asia regional aggregate (includes all income levels).                                                                                                                                                                                                                                                                                              1\n",
      "North America regional aggregate. There are no economies in North America classified as low or middle income.                                                                                                                                                                                                                                                         1\n",
      "A simple multiplier is used to convert the national currencies of EMU members to euros. The following irrevocable euro conversion rate was adopted by the EU Council on January 1, 1999: 1 euro = 166.386 Spanish peseta. Please note that historical data before 1999 are not actual euros and are not comparable or suitable for aggregation across countries.      1\n",
      "Upper middle income group aggregate. Upper-middle-income economies are those in which 2019 GNI per capita was between $4,046 and $12,535.                                                                                                                                                                                                                             1\n",
      "Fiscal year end: March 20; reporting period for national accounts data: FY.                                                                                                                                                                                                                                                                                           1\n",
      "Name: SpecialNotes, Length: 81, dtype: int64\n",
      "--------------------------------------------------\n",
      "French Polynesia             1\n",
      "Tanzania                     1\n",
      "Kenya                        1\n",
      "Malawi                       1\n",
      "Latin America & Caribbean    1\n",
      "                            ..\n",
      "Panama                       1\n",
      "Puerto Rico                  1\n",
      "Cyprus                       1\n",
      "Colombia                     1\n",
      "Samoa                        1\n",
      "Name: TableName, Length: 263, dtype: int64\n",
      "--------------------------------------------------\n",
      "nan    263\n",
      "Name: Unnamed: 5, dtype: int64\n",
      "--------------------------------------------------\n"
     ]
    }
   ],
   "source": [
    "for i in df_gdp.columns:\n",
    "    print(df_gdp[i].value_counts(dropna =False),\"-\"*50,sep='\\n')"
   ]
  },
  {
   "cell_type": "code",
   "execution_count": 314,
   "metadata": {},
   "outputs": [
    {
     "name": "stdout",
     "output_type": "stream",
     "text": [
      "Data shape: (263, 6)\n"
     ]
    },
    {
     "data": {
      "application/javascript": [
       "\n",
       "        if (window._pyforest_update_imports_cell) { window._pyforest_update_imports_cell('import seaborn as sns\\nimport numpy as np\\nimport pandas as pd\\nimport matplotlib.pyplot as plt'); }\n",
       "    "
      ],
      "text/plain": [
       "<IPython.core.display.Javascript object>"
      ]
     },
     "metadata": {},
     "output_type": "display_data"
    },
    {
     "name": "stdout",
     "output_type": "stream",
     "text": [
      "___________________________\n",
      "Data Types:\n",
      "object     5\n",
      "float64    1\n",
      "Name: Types, dtype: int64\n",
      "___________________________\n"
     ]
    },
    {
     "data": {
      "text/html": [
       "<div>\n",
       "<style scoped>\n",
       "    .dataframe tbody tr th:only-of-type {\n",
       "        vertical-align: middle;\n",
       "    }\n",
       "\n",
       "    .dataframe tbody tr th {\n",
       "        vertical-align: top;\n",
       "    }\n",
       "\n",
       "    .dataframe thead th {\n",
       "        text-align: right;\n",
       "    }\n",
       "</style>\n",
       "<table border=\"1\" class=\"dataframe\">\n",
       "  <thead>\n",
       "    <tr style=\"text-align: right;\">\n",
       "      <th></th>\n",
       "      <th>Types</th>\n",
       "      <th>Counts</th>\n",
       "      <th>Uniques</th>\n",
       "      <th>Nulls</th>\n",
       "      <th>Min</th>\n",
       "      <th>Max</th>\n",
       "    </tr>\n",
       "  </thead>\n",
       "  <tbody>\n",
       "    <tr>\n",
       "      <th>Unnamed: 5</th>\n",
       "      <td>float64</td>\n",
       "      <td>0</td>\n",
       "      <td>1</td>\n",
       "      <td>263</td>\n",
       "      <td>NaN</td>\n",
       "      <td>NaN</td>\n",
       "    </tr>\n",
       "    <tr>\n",
       "      <th>SpecialNotes</th>\n",
       "      <td>object</td>\n",
       "      <td>94</td>\n",
       "      <td>81</td>\n",
       "      <td>169</td>\n",
       "      <td>NaN</td>\n",
       "      <td>NaN</td>\n",
       "    </tr>\n",
       "    <tr>\n",
       "      <th>IncomeGroup</th>\n",
       "      <td>object</td>\n",
       "      <td>217</td>\n",
       "      <td>5</td>\n",
       "      <td>46</td>\n",
       "      <td>NaN</td>\n",
       "      <td>NaN</td>\n",
       "    </tr>\n",
       "    <tr>\n",
       "      <th>Region</th>\n",
       "      <td>object</td>\n",
       "      <td>217</td>\n",
       "      <td>8</td>\n",
       "      <td>46</td>\n",
       "      <td>NaN</td>\n",
       "      <td>NaN</td>\n",
       "    </tr>\n",
       "    <tr>\n",
       "      <th>Country Code</th>\n",
       "      <td>object</td>\n",
       "      <td>263</td>\n",
       "      <td>263</td>\n",
       "      <td>0</td>\n",
       "      <td>ABW</td>\n",
       "      <td>ZWE</td>\n",
       "    </tr>\n",
       "    <tr>\n",
       "      <th>TableName</th>\n",
       "      <td>object</td>\n",
       "      <td>263</td>\n",
       "      <td>263</td>\n",
       "      <td>0</td>\n",
       "      <td>Afghanistan</td>\n",
       "      <td>Zimbabwe</td>\n",
       "    </tr>\n",
       "  </tbody>\n",
       "</table>\n",
       "</div>"
      ],
      "text/plain": [
       "                Types  Counts  Uniques  Nulls          Min       Max\n",
       "Unnamed: 5    float64       0        1    263          NaN       NaN\n",
       "SpecialNotes   object      94       81    169          NaN       NaN\n",
       "IncomeGroup    object     217        5     46          NaN       NaN\n",
       "Region         object     217        8     46          NaN       NaN\n",
       "Country Code   object     263      263      0          ABW       ZWE\n",
       "TableName      object     263      263      0  Afghanistan  Zimbabwe"
      ]
     },
     "metadata": {},
     "output_type": "display_data"
    }
   ],
   "source": [
    "display(summary(df_gdp).sort_values(by='Nulls', ascending=False))"
   ]
  },
  {
   "cell_type": "markdown",
   "metadata": {
    "id": "W3GZjNHRivBd"
   },
   "source": [
    "## MISSING VALUES"
   ]
  },
  {
   "cell_type": "code",
   "execution_count": 315,
   "metadata": {
    "colab": {
     "base_uri": "https://localhost:8080/"
    },
    "id": "kZv_UmEjiXZY",
    "outputId": "af9e3bfc-0d8c-4f48-e13d-de1b041692ae"
   },
   "outputs": [
    {
     "data": {
      "text/plain": [
       "Country Code      0\n",
       "Region           46\n",
       "IncomeGroup      46\n",
       "SpecialNotes    169\n",
       "TableName         0\n",
       "Unnamed: 5      263\n",
       "dtype: int64"
      ]
     },
     "execution_count": 315,
     "metadata": {},
     "output_type": "execute_result"
    }
   ],
   "source": [
    "df_gdp.isnull().sum()"
   ]
  },
  {
   "cell_type": "code",
   "execution_count": 316,
   "metadata": {
    "id": "9AfU4xbaqUQ0"
   },
   "outputs": [],
   "source": [
    "df_gdp.dropna(axis=1,how=\"all\",inplace=True)"
   ]
  },
  {
   "cell_type": "code",
   "execution_count": 317,
   "metadata": {
    "colab": {
     "base_uri": "https://localhost:8080/",
     "height": 0
    },
    "id": "bfftLhrSrB5x",
    "outputId": "de6a34e9-07f6-4767-d9fb-47397513eaeb"
   },
   "outputs": [
    {
     "data": {
      "text/html": [
       "<div>\n",
       "<style scoped>\n",
       "    .dataframe tbody tr th:only-of-type {\n",
       "        vertical-align: middle;\n",
       "    }\n",
       "\n",
       "    .dataframe tbody tr th {\n",
       "        vertical-align: top;\n",
       "    }\n",
       "\n",
       "    .dataframe thead th {\n",
       "        text-align: right;\n",
       "    }\n",
       "</style>\n",
       "<table border=\"1\" class=\"dataframe\">\n",
       "  <thead>\n",
       "    <tr style=\"text-align: right;\">\n",
       "      <th></th>\n",
       "      <th>Country Code</th>\n",
       "      <th>Region</th>\n",
       "      <th>IncomeGroup</th>\n",
       "      <th>SpecialNotes</th>\n",
       "      <th>TableName</th>\n",
       "    </tr>\n",
       "  </thead>\n",
       "  <tbody>\n",
       "    <tr>\n",
       "      <th>0</th>\n",
       "      <td>ABW</td>\n",
       "      <td>Latin America &amp; Caribbean</td>\n",
       "      <td>High income</td>\n",
       "      <td>NaN</td>\n",
       "      <td>Aruba</td>\n",
       "    </tr>\n",
       "    <tr>\n",
       "      <th>1</th>\n",
       "      <td>AFG</td>\n",
       "      <td>South Asia</td>\n",
       "      <td>Low income</td>\n",
       "      <td>NaN</td>\n",
       "      <td>Afghanistan</td>\n",
       "    </tr>\n",
       "    <tr>\n",
       "      <th>2</th>\n",
       "      <td>AGO</td>\n",
       "      <td>Sub-Saharan Africa</td>\n",
       "      <td>Lower middle income</td>\n",
       "      <td>NaN</td>\n",
       "      <td>Angola</td>\n",
       "    </tr>\n",
       "    <tr>\n",
       "      <th>3</th>\n",
       "      <td>ALB</td>\n",
       "      <td>Europe &amp; Central Asia</td>\n",
       "      <td>Upper middle income</td>\n",
       "      <td>NaN</td>\n",
       "      <td>Albania</td>\n",
       "    </tr>\n",
       "    <tr>\n",
       "      <th>4</th>\n",
       "      <td>AND</td>\n",
       "      <td>Europe &amp; Central Asia</td>\n",
       "      <td>High income</td>\n",
       "      <td>NaN</td>\n",
       "      <td>Andorra</td>\n",
       "    </tr>\n",
       "    <tr>\n",
       "      <th>...</th>\n",
       "      <td>...</td>\n",
       "      <td>...</td>\n",
       "      <td>...</td>\n",
       "      <td>...</td>\n",
       "      <td>...</td>\n",
       "    </tr>\n",
       "    <tr>\n",
       "      <th>258</th>\n",
       "      <td>XKX</td>\n",
       "      <td>Europe &amp; Central Asia</td>\n",
       "      <td>Upper middle income</td>\n",
       "      <td>NaN</td>\n",
       "      <td>Kosovo</td>\n",
       "    </tr>\n",
       "    <tr>\n",
       "      <th>259</th>\n",
       "      <td>YEM</td>\n",
       "      <td>Middle East &amp; North Africa</td>\n",
       "      <td>Low income</td>\n",
       "      <td>NaN</td>\n",
       "      <td>Yemen, Rep.</td>\n",
       "    </tr>\n",
       "    <tr>\n",
       "      <th>260</th>\n",
       "      <td>ZAF</td>\n",
       "      <td>Sub-Saharan Africa</td>\n",
       "      <td>Upper middle income</td>\n",
       "      <td>Fiscal year end: March 31; reporting period fo...</td>\n",
       "      <td>South Africa</td>\n",
       "    </tr>\n",
       "    <tr>\n",
       "      <th>261</th>\n",
       "      <td>ZMB</td>\n",
       "      <td>Sub-Saharan Africa</td>\n",
       "      <td>Lower middle income</td>\n",
       "      <td>National accounts data were rebased to reflect...</td>\n",
       "      <td>Zambia</td>\n",
       "    </tr>\n",
       "    <tr>\n",
       "      <th>262</th>\n",
       "      <td>ZWE</td>\n",
       "      <td>Sub-Saharan Africa</td>\n",
       "      <td>Lower middle income</td>\n",
       "      <td>NaN</td>\n",
       "      <td>Zimbabwe</td>\n",
       "    </tr>\n",
       "  </tbody>\n",
       "</table>\n",
       "<p>263 rows × 5 columns</p>\n",
       "</div>"
      ],
      "text/plain": [
       "    Country Code                      Region          IncomeGroup  \\\n",
       "0            ABW   Latin America & Caribbean          High income   \n",
       "1            AFG                  South Asia           Low income   \n",
       "2            AGO          Sub-Saharan Africa  Lower middle income   \n",
       "3            ALB       Europe & Central Asia  Upper middle income   \n",
       "4            AND       Europe & Central Asia          High income   \n",
       "..           ...                         ...                  ...   \n",
       "258          XKX       Europe & Central Asia  Upper middle income   \n",
       "259          YEM  Middle East & North Africa           Low income   \n",
       "260          ZAF          Sub-Saharan Africa  Upper middle income   \n",
       "261          ZMB          Sub-Saharan Africa  Lower middle income   \n",
       "262          ZWE          Sub-Saharan Africa  Lower middle income   \n",
       "\n",
       "                                          SpecialNotes     TableName  \n",
       "0                                                  NaN         Aruba  \n",
       "1                                                  NaN   Afghanistan  \n",
       "2                                                  NaN        Angola  \n",
       "3                                                  NaN       Albania  \n",
       "4                                                  NaN       Andorra  \n",
       "..                                                 ...           ...  \n",
       "258                                                NaN        Kosovo  \n",
       "259                                                NaN   Yemen, Rep.  \n",
       "260  Fiscal year end: March 31; reporting period fo...  South Africa  \n",
       "261  National accounts data were rebased to reflect...        Zambia  \n",
       "262                                                NaN      Zimbabwe  \n",
       "\n",
       "[263 rows x 5 columns]"
      ]
     },
     "execution_count": 317,
     "metadata": {},
     "output_type": "execute_result"
    }
   ],
   "source": [
    "df_gdp.dropna(axis=0,how=\"all\",)#inplace=True)"
   ]
  },
  {
   "cell_type": "code",
   "execution_count": 318,
   "metadata": {
    "colab": {
     "base_uri": "https://localhost:8080/",
     "height": 0
    },
    "id": "eII_kW1vKd_i",
    "outputId": "ab067113-137a-41dc-bcf7-3556eb00a04a"
   },
   "outputs": [
    {
     "data": {
      "text/html": [
       "<div>\n",
       "<style scoped>\n",
       "    .dataframe tbody tr th:only-of-type {\n",
       "        vertical-align: middle;\n",
       "    }\n",
       "\n",
       "    .dataframe tbody tr th {\n",
       "        vertical-align: top;\n",
       "    }\n",
       "\n",
       "    .dataframe thead th {\n",
       "        text-align: right;\n",
       "    }\n",
       "</style>\n",
       "<table border=\"1\" class=\"dataframe\">\n",
       "  <thead>\n",
       "    <tr style=\"text-align: right;\">\n",
       "      <th></th>\n",
       "      <th>Country Code</th>\n",
       "      <th>Region</th>\n",
       "      <th>IncomeGroup</th>\n",
       "      <th>TableName</th>\n",
       "    </tr>\n",
       "  </thead>\n",
       "  <tbody>\n",
       "    <tr>\n",
       "      <th>0</th>\n",
       "      <td>ABW</td>\n",
       "      <td>Latin America &amp; Caribbean</td>\n",
       "      <td>High income</td>\n",
       "      <td>Aruba</td>\n",
       "    </tr>\n",
       "    <tr>\n",
       "      <th>1</th>\n",
       "      <td>AFG</td>\n",
       "      <td>South Asia</td>\n",
       "      <td>Low income</td>\n",
       "      <td>Afghanistan</td>\n",
       "    </tr>\n",
       "    <tr>\n",
       "      <th>2</th>\n",
       "      <td>AGO</td>\n",
       "      <td>Sub-Saharan Africa</td>\n",
       "      <td>Lower middle income</td>\n",
       "      <td>Angola</td>\n",
       "    </tr>\n",
       "    <tr>\n",
       "      <th>3</th>\n",
       "      <td>ALB</td>\n",
       "      <td>Europe &amp; Central Asia</td>\n",
       "      <td>Upper middle income</td>\n",
       "      <td>Albania</td>\n",
       "    </tr>\n",
       "    <tr>\n",
       "      <th>4</th>\n",
       "      <td>AND</td>\n",
       "      <td>Europe &amp; Central Asia</td>\n",
       "      <td>High income</td>\n",
       "      <td>Andorra</td>\n",
       "    </tr>\n",
       "    <tr>\n",
       "      <th>...</th>\n",
       "      <td>...</td>\n",
       "      <td>...</td>\n",
       "      <td>...</td>\n",
       "      <td>...</td>\n",
       "    </tr>\n",
       "    <tr>\n",
       "      <th>258</th>\n",
       "      <td>XKX</td>\n",
       "      <td>Europe &amp; Central Asia</td>\n",
       "      <td>Upper middle income</td>\n",
       "      <td>Kosovo</td>\n",
       "    </tr>\n",
       "    <tr>\n",
       "      <th>259</th>\n",
       "      <td>YEM</td>\n",
       "      <td>Middle East &amp; North Africa</td>\n",
       "      <td>Low income</td>\n",
       "      <td>Yemen, Rep.</td>\n",
       "    </tr>\n",
       "    <tr>\n",
       "      <th>260</th>\n",
       "      <td>ZAF</td>\n",
       "      <td>Sub-Saharan Africa</td>\n",
       "      <td>Upper middle income</td>\n",
       "      <td>South Africa</td>\n",
       "    </tr>\n",
       "    <tr>\n",
       "      <th>261</th>\n",
       "      <td>ZMB</td>\n",
       "      <td>Sub-Saharan Africa</td>\n",
       "      <td>Lower middle income</td>\n",
       "      <td>Zambia</td>\n",
       "    </tr>\n",
       "    <tr>\n",
       "      <th>262</th>\n",
       "      <td>ZWE</td>\n",
       "      <td>Sub-Saharan Africa</td>\n",
       "      <td>Lower middle income</td>\n",
       "      <td>Zimbabwe</td>\n",
       "    </tr>\n",
       "  </tbody>\n",
       "</table>\n",
       "<p>263 rows × 4 columns</p>\n",
       "</div>"
      ],
      "text/plain": [
       "    Country Code                      Region          IncomeGroup  \\\n",
       "0            ABW   Latin America & Caribbean          High income   \n",
       "1            AFG                  South Asia           Low income   \n",
       "2            AGO          Sub-Saharan Africa  Lower middle income   \n",
       "3            ALB       Europe & Central Asia  Upper middle income   \n",
       "4            AND       Europe & Central Asia          High income   \n",
       "..           ...                         ...                  ...   \n",
       "258          XKX       Europe & Central Asia  Upper middle income   \n",
       "259          YEM  Middle East & North Africa           Low income   \n",
       "260          ZAF          Sub-Saharan Africa  Upper middle income   \n",
       "261          ZMB          Sub-Saharan Africa  Lower middle income   \n",
       "262          ZWE          Sub-Saharan Africa  Lower middle income   \n",
       "\n",
       "        TableName  \n",
       "0           Aruba  \n",
       "1     Afghanistan  \n",
       "2          Angola  \n",
       "3         Albania  \n",
       "4         Andorra  \n",
       "..            ...  \n",
       "258        Kosovo  \n",
       "259   Yemen, Rep.  \n",
       "260  South Africa  \n",
       "261        Zambia  \n",
       "262      Zimbabwe  \n",
       "\n",
       "[263 rows x 4 columns]"
      ]
     },
     "execution_count": 318,
     "metadata": {},
     "output_type": "execute_result"
    }
   ],
   "source": [
    "df_gdp.drop(df_gdp.columns[3], axis=1, inplace=True)\n",
    "df_gdp"
   ]
  },
  {
   "cell_type": "code",
   "execution_count": 319,
   "metadata": {
    "colab": {
     "base_uri": "https://localhost:8080/"
    },
    "id": "U7qqkV0dsZJL",
    "outputId": "aaf3bbc7-cf6e-43c3-c1a3-95f9259e088d"
   },
   "outputs": [
    {
     "data": {
      "text/plain": [
       "Country Code     0\n",
       "Region          46\n",
       "IncomeGroup     46\n",
       "TableName        0\n",
       "dtype: int64"
      ]
     },
     "execution_count": 319,
     "metadata": {},
     "output_type": "execute_result"
    }
   ],
   "source": [
    "df_gdp.isnull().sum()"
   ]
  },
  {
   "cell_type": "code",
   "execution_count": 320,
   "metadata": {
    "colab": {
     "base_uri": "https://localhost:8080/",
     "height": 0
    },
    "id": "gcG7EdvPsatH",
    "outputId": "3b805e2f-5286-49c8-f8e4-2aadf7087108"
   },
   "outputs": [
    {
     "data": {
      "text/html": [
       "<div>\n",
       "<style scoped>\n",
       "    .dataframe tbody tr th:only-of-type {\n",
       "        vertical-align: middle;\n",
       "    }\n",
       "\n",
       "    .dataframe tbody tr th {\n",
       "        vertical-align: top;\n",
       "    }\n",
       "\n",
       "    .dataframe thead th {\n",
       "        text-align: right;\n",
       "    }\n",
       "</style>\n",
       "<table border=\"1\" class=\"dataframe\">\n",
       "  <thead>\n",
       "    <tr style=\"text-align: right;\">\n",
       "      <th></th>\n",
       "      <th>Country Code</th>\n",
       "      <th>Region</th>\n",
       "      <th>IncomeGroup</th>\n",
       "      <th>TableName</th>\n",
       "    </tr>\n",
       "  </thead>\n",
       "  <tbody>\n",
       "    <tr>\n",
       "      <th>5</th>\n",
       "      <td>ARB</td>\n",
       "      <td>NaN</td>\n",
       "      <td>NaN</td>\n",
       "      <td>Arab World</td>\n",
       "    </tr>\n",
       "    <tr>\n",
       "      <th>34</th>\n",
       "      <td>CEB</td>\n",
       "      <td>NaN</td>\n",
       "      <td>NaN</td>\n",
       "      <td>Central Europe and the Baltics</td>\n",
       "    </tr>\n",
       "    <tr>\n",
       "      <th>47</th>\n",
       "      <td>CSS</td>\n",
       "      <td>NaN</td>\n",
       "      <td>NaN</td>\n",
       "      <td>Caribbean small states</td>\n",
       "    </tr>\n",
       "    <tr>\n",
       "      <th>59</th>\n",
       "      <td>EAP</td>\n",
       "      <td>NaN</td>\n",
       "      <td>NaN</td>\n",
       "      <td>East Asia &amp; Pacific (excluding high income)</td>\n",
       "    </tr>\n",
       "    <tr>\n",
       "      <th>60</th>\n",
       "      <td>EAR</td>\n",
       "      <td>NaN</td>\n",
       "      <td>NaN</td>\n",
       "      <td>Early-demographic dividend</td>\n",
       "    </tr>\n",
       "    <tr>\n",
       "      <th>61</th>\n",
       "      <td>EAS</td>\n",
       "      <td>NaN</td>\n",
       "      <td>NaN</td>\n",
       "      <td>East Asia &amp; Pacific</td>\n",
       "    </tr>\n",
       "    <tr>\n",
       "      <th>62</th>\n",
       "      <td>ECA</td>\n",
       "      <td>NaN</td>\n",
       "      <td>NaN</td>\n",
       "      <td>Europe &amp; Central Asia (excluding high income)</td>\n",
       "    </tr>\n",
       "    <tr>\n",
       "      <th>63</th>\n",
       "      <td>ECS</td>\n",
       "      <td>NaN</td>\n",
       "      <td>NaN</td>\n",
       "      <td>Europe &amp; Central Asia</td>\n",
       "    </tr>\n",
       "    <tr>\n",
       "      <th>66</th>\n",
       "      <td>EMU</td>\n",
       "      <td>NaN</td>\n",
       "      <td>NaN</td>\n",
       "      <td>Euro area</td>\n",
       "    </tr>\n",
       "    <tr>\n",
       "      <th>71</th>\n",
       "      <td>EUU</td>\n",
       "      <td>NaN</td>\n",
       "      <td>NaN</td>\n",
       "      <td>European Union</td>\n",
       "    </tr>\n",
       "    <tr>\n",
       "      <th>72</th>\n",
       "      <td>FCS</td>\n",
       "      <td>NaN</td>\n",
       "      <td>NaN</td>\n",
       "      <td>Fragile and conflict affected situations</td>\n",
       "    </tr>\n",
       "    <tr>\n",
       "      <th>93</th>\n",
       "      <td>HIC</td>\n",
       "      <td>NaN</td>\n",
       "      <td>NaN</td>\n",
       "      <td>High income</td>\n",
       "    </tr>\n",
       "    <tr>\n",
       "      <th>96</th>\n",
       "      <td>HPC</td>\n",
       "      <td>NaN</td>\n",
       "      <td>NaN</td>\n",
       "      <td>Heavily indebted poor countries (HIPC)</td>\n",
       "    </tr>\n",
       "    <tr>\n",
       "      <th>100</th>\n",
       "      <td>IBD</td>\n",
       "      <td>NaN</td>\n",
       "      <td>NaN</td>\n",
       "      <td>IBRD only</td>\n",
       "    </tr>\n",
       "    <tr>\n",
       "      <th>101</th>\n",
       "      <td>IBT</td>\n",
       "      <td>NaN</td>\n",
       "      <td>NaN</td>\n",
       "      <td>IDA &amp; IBRD total</td>\n",
       "    </tr>\n",
       "    <tr>\n",
       "      <th>102</th>\n",
       "      <td>IDA</td>\n",
       "      <td>NaN</td>\n",
       "      <td>NaN</td>\n",
       "      <td>IDA total</td>\n",
       "    </tr>\n",
       "    <tr>\n",
       "      <th>103</th>\n",
       "      <td>IDB</td>\n",
       "      <td>NaN</td>\n",
       "      <td>NaN</td>\n",
       "      <td>IDA blend</td>\n",
       "    </tr>\n",
       "    <tr>\n",
       "      <th>105</th>\n",
       "      <td>IDX</td>\n",
       "      <td>NaN</td>\n",
       "      <td>NaN</td>\n",
       "      <td>IDA only</td>\n",
       "    </tr>\n",
       "    <tr>\n",
       "      <th>125</th>\n",
       "      <td>LAC</td>\n",
       "      <td>NaN</td>\n",
       "      <td>NaN</td>\n",
       "      <td>Latin America &amp; Caribbean (excluding high income)</td>\n",
       "    </tr>\n",
       "    <tr>\n",
       "      <th>131</th>\n",
       "      <td>LCN</td>\n",
       "      <td>NaN</td>\n",
       "      <td>NaN</td>\n",
       "      <td>Latin America &amp; Caribbean</td>\n",
       "    </tr>\n",
       "    <tr>\n",
       "      <th>132</th>\n",
       "      <td>LDC</td>\n",
       "      <td>NaN</td>\n",
       "      <td>NaN</td>\n",
       "      <td>Least developed countries: UN classification</td>\n",
       "    </tr>\n",
       "    <tr>\n",
       "      <th>133</th>\n",
       "      <td>LIC</td>\n",
       "      <td>NaN</td>\n",
       "      <td>NaN</td>\n",
       "      <td>Low income</td>\n",
       "    </tr>\n",
       "    <tr>\n",
       "      <th>136</th>\n",
       "      <td>LMC</td>\n",
       "      <td>NaN</td>\n",
       "      <td>NaN</td>\n",
       "      <td>Lower middle income</td>\n",
       "    </tr>\n",
       "    <tr>\n",
       "      <th>137</th>\n",
       "      <td>LMY</td>\n",
       "      <td>NaN</td>\n",
       "      <td>NaN</td>\n",
       "      <td>Low &amp; middle income</td>\n",
       "    </tr>\n",
       "    <tr>\n",
       "      <th>139</th>\n",
       "      <td>LTE</td>\n",
       "      <td>NaN</td>\n",
       "      <td>NaN</td>\n",
       "      <td>Late-demographic dividend</td>\n",
       "    </tr>\n",
       "    <tr>\n",
       "      <th>150</th>\n",
       "      <td>MEA</td>\n",
       "      <td>NaN</td>\n",
       "      <td>NaN</td>\n",
       "      <td>Middle East &amp; North Africa</td>\n",
       "    </tr>\n",
       "    <tr>\n",
       "      <th>153</th>\n",
       "      <td>MIC</td>\n",
       "      <td>NaN</td>\n",
       "      <td>NaN</td>\n",
       "      <td>Middle income</td>\n",
       "    </tr>\n",
       "    <tr>\n",
       "      <th>158</th>\n",
       "      <td>MNA</td>\n",
       "      <td>NaN</td>\n",
       "      <td>NaN</td>\n",
       "      <td>Middle East &amp; North Africa (excluding high inc...</td>\n",
       "    </tr>\n",
       "    <tr>\n",
       "      <th>167</th>\n",
       "      <td>NAC</td>\n",
       "      <td>NaN</td>\n",
       "      <td>NaN</td>\n",
       "      <td>North America</td>\n",
       "    </tr>\n",
       "    <tr>\n",
       "      <th>178</th>\n",
       "      <td>OED</td>\n",
       "      <td>NaN</td>\n",
       "      <td>NaN</td>\n",
       "      <td>OECD members</td>\n",
       "    </tr>\n",
       "    <tr>\n",
       "      <th>180</th>\n",
       "      <td>OSS</td>\n",
       "      <td>NaN</td>\n",
       "      <td>NaN</td>\n",
       "      <td>Other small states</td>\n",
       "    </tr>\n",
       "    <tr>\n",
       "      <th>188</th>\n",
       "      <td>PRE</td>\n",
       "      <td>NaN</td>\n",
       "      <td>NaN</td>\n",
       "      <td>Pre-demographic dividend</td>\n",
       "    </tr>\n",
       "    <tr>\n",
       "      <th>194</th>\n",
       "      <td>PSS</td>\n",
       "      <td>NaN</td>\n",
       "      <td>NaN</td>\n",
       "      <td>Pacific island small states</td>\n",
       "    </tr>\n",
       "    <tr>\n",
       "      <th>195</th>\n",
       "      <td>PST</td>\n",
       "      <td>NaN</td>\n",
       "      <td>NaN</td>\n",
       "      <td>Post-demographic dividend</td>\n",
       "    </tr>\n",
       "    <tr>\n",
       "      <th>201</th>\n",
       "      <td>SAS</td>\n",
       "      <td>NaN</td>\n",
       "      <td>NaN</td>\n",
       "      <td>South Asia</td>\n",
       "    </tr>\n",
       "    <tr>\n",
       "      <th>212</th>\n",
       "      <td>SSA</td>\n",
       "      <td>NaN</td>\n",
       "      <td>NaN</td>\n",
       "      <td>Sub-Saharan Africa (excluding high income)</td>\n",
       "    </tr>\n",
       "    <tr>\n",
       "      <th>214</th>\n",
       "      <td>SSF</td>\n",
       "      <td>NaN</td>\n",
       "      <td>NaN</td>\n",
       "      <td>Sub-Saharan Africa</td>\n",
       "    </tr>\n",
       "    <tr>\n",
       "      <th>215</th>\n",
       "      <td>SST</td>\n",
       "      <td>NaN</td>\n",
       "      <td>NaN</td>\n",
       "      <td>Small states</td>\n",
       "    </tr>\n",
       "    <tr>\n",
       "      <th>227</th>\n",
       "      <td>TEA</td>\n",
       "      <td>NaN</td>\n",
       "      <td>NaN</td>\n",
       "      <td>East Asia &amp; Pacific (IDA &amp; IBRD)</td>\n",
       "    </tr>\n",
       "    <tr>\n",
       "      <th>228</th>\n",
       "      <td>TEC</td>\n",
       "      <td>NaN</td>\n",
       "      <td>NaN</td>\n",
       "      <td>Europe &amp; Central Asia (IDA &amp; IBRD)</td>\n",
       "    </tr>\n",
       "    <tr>\n",
       "      <th>233</th>\n",
       "      <td>TLA</td>\n",
       "      <td>NaN</td>\n",
       "      <td>NaN</td>\n",
       "      <td>Latin America &amp; Caribbean (IDA &amp; IBRD)</td>\n",
       "    </tr>\n",
       "    <tr>\n",
       "      <th>235</th>\n",
       "      <td>TMN</td>\n",
       "      <td>NaN</td>\n",
       "      <td>NaN</td>\n",
       "      <td>Middle East &amp; North Africa (IDA &amp; IBRD)</td>\n",
       "    </tr>\n",
       "    <tr>\n",
       "      <th>237</th>\n",
       "      <td>TSA</td>\n",
       "      <td>NaN</td>\n",
       "      <td>NaN</td>\n",
       "      <td>South Asia (IDA &amp; IBRD)</td>\n",
       "    </tr>\n",
       "    <tr>\n",
       "      <th>238</th>\n",
       "      <td>TSS</td>\n",
       "      <td>NaN</td>\n",
       "      <td>NaN</td>\n",
       "      <td>Sub-Saharan Africa (IDA &amp; IBRD)</td>\n",
       "    </tr>\n",
       "    <tr>\n",
       "      <th>246</th>\n",
       "      <td>UMC</td>\n",
       "      <td>NaN</td>\n",
       "      <td>NaN</td>\n",
       "      <td>Upper middle income</td>\n",
       "    </tr>\n",
       "    <tr>\n",
       "      <th>256</th>\n",
       "      <td>WLD</td>\n",
       "      <td>NaN</td>\n",
       "      <td>NaN</td>\n",
       "      <td>World</td>\n",
       "    </tr>\n",
       "  </tbody>\n",
       "</table>\n",
       "</div>"
      ],
      "text/plain": [
       "    Country Code Region IncomeGroup  \\\n",
       "5            ARB    NaN         NaN   \n",
       "34           CEB    NaN         NaN   \n",
       "47           CSS    NaN         NaN   \n",
       "59           EAP    NaN         NaN   \n",
       "60           EAR    NaN         NaN   \n",
       "61           EAS    NaN         NaN   \n",
       "62           ECA    NaN         NaN   \n",
       "63           ECS    NaN         NaN   \n",
       "66           EMU    NaN         NaN   \n",
       "71           EUU    NaN         NaN   \n",
       "72           FCS    NaN         NaN   \n",
       "93           HIC    NaN         NaN   \n",
       "96           HPC    NaN         NaN   \n",
       "100          IBD    NaN         NaN   \n",
       "101          IBT    NaN         NaN   \n",
       "102          IDA    NaN         NaN   \n",
       "103          IDB    NaN         NaN   \n",
       "105          IDX    NaN         NaN   \n",
       "125          LAC    NaN         NaN   \n",
       "131          LCN    NaN         NaN   \n",
       "132          LDC    NaN         NaN   \n",
       "133          LIC    NaN         NaN   \n",
       "136          LMC    NaN         NaN   \n",
       "137          LMY    NaN         NaN   \n",
       "139          LTE    NaN         NaN   \n",
       "150          MEA    NaN         NaN   \n",
       "153          MIC    NaN         NaN   \n",
       "158          MNA    NaN         NaN   \n",
       "167          NAC    NaN         NaN   \n",
       "178          OED    NaN         NaN   \n",
       "180          OSS    NaN         NaN   \n",
       "188          PRE    NaN         NaN   \n",
       "194          PSS    NaN         NaN   \n",
       "195          PST    NaN         NaN   \n",
       "201          SAS    NaN         NaN   \n",
       "212          SSA    NaN         NaN   \n",
       "214          SSF    NaN         NaN   \n",
       "215          SST    NaN         NaN   \n",
       "227          TEA    NaN         NaN   \n",
       "228          TEC    NaN         NaN   \n",
       "233          TLA    NaN         NaN   \n",
       "235          TMN    NaN         NaN   \n",
       "237          TSA    NaN         NaN   \n",
       "238          TSS    NaN         NaN   \n",
       "246          UMC    NaN         NaN   \n",
       "256          WLD    NaN         NaN   \n",
       "\n",
       "                                             TableName  \n",
       "5                                           Arab World  \n",
       "34                      Central Europe and the Baltics  \n",
       "47                              Caribbean small states  \n",
       "59         East Asia & Pacific (excluding high income)  \n",
       "60                          Early-demographic dividend  \n",
       "61                                 East Asia & Pacific  \n",
       "62       Europe & Central Asia (excluding high income)  \n",
       "63                               Europe & Central Asia  \n",
       "66                                           Euro area  \n",
       "71                                      European Union  \n",
       "72            Fragile and conflict affected situations  \n",
       "93                                         High income  \n",
       "96              Heavily indebted poor countries (HIPC)  \n",
       "100                                          IBRD only  \n",
       "101                                   IDA & IBRD total  \n",
       "102                                          IDA total  \n",
       "103                                          IDA blend  \n",
       "105                                           IDA only  \n",
       "125  Latin America & Caribbean (excluding high income)  \n",
       "131                          Latin America & Caribbean  \n",
       "132       Least developed countries: UN classification  \n",
       "133                                         Low income  \n",
       "136                                Lower middle income  \n",
       "137                                Low & middle income  \n",
       "139                          Late-demographic dividend  \n",
       "150                         Middle East & North Africa  \n",
       "153                                      Middle income  \n",
       "158  Middle East & North Africa (excluding high inc...  \n",
       "167                                      North America  \n",
       "178                                       OECD members  \n",
       "180                                 Other small states  \n",
       "188                           Pre-demographic dividend  \n",
       "194                        Pacific island small states  \n",
       "195                          Post-demographic dividend  \n",
       "201                                         South Asia  \n",
       "212         Sub-Saharan Africa (excluding high income)  \n",
       "214                                 Sub-Saharan Africa  \n",
       "215                                       Small states  \n",
       "227                   East Asia & Pacific (IDA & IBRD)  \n",
       "228                 Europe & Central Asia (IDA & IBRD)  \n",
       "233             Latin America & Caribbean (IDA & IBRD)  \n",
       "235            Middle East & North Africa (IDA & IBRD)  \n",
       "237                            South Asia (IDA & IBRD)  \n",
       "238                    Sub-Saharan Africa (IDA & IBRD)  \n",
       "246                                Upper middle income  \n",
       "256                                              World  "
      ]
     },
     "execution_count": 320,
     "metadata": {},
     "output_type": "execute_result"
    }
   ],
   "source": [
    "df_gdp[df_gdp[\"Region\"].isnull() | df_gdp[\"IncomeGroup\"].isnull()]"
   ]
  },
  {
   "cell_type": "code",
   "execution_count": 321,
   "metadata": {
    "colab": {
     "base_uri": "https://localhost:8080/",
     "height": 0
    },
    "id": "SXFBe6DYtoVX",
    "outputId": "034a60eb-c8b8-4dce-b1bd-94a7d795ea00"
   },
   "outputs": [
    {
     "data": {
      "text/html": [
       "<div>\n",
       "<style scoped>\n",
       "    .dataframe tbody tr th:only-of-type {\n",
       "        vertical-align: middle;\n",
       "    }\n",
       "\n",
       "    .dataframe tbody tr th {\n",
       "        vertical-align: top;\n",
       "    }\n",
       "\n",
       "    .dataframe thead th {\n",
       "        text-align: right;\n",
       "    }\n",
       "</style>\n",
       "<table border=\"1\" class=\"dataframe\">\n",
       "  <thead>\n",
       "    <tr style=\"text-align: right;\">\n",
       "      <th></th>\n",
       "      <th>Country Code</th>\n",
       "      <th>Region</th>\n",
       "      <th>IncomeGroup</th>\n",
       "      <th>TableName</th>\n",
       "    </tr>\n",
       "  </thead>\n",
       "  <tbody>\n",
       "    <tr>\n",
       "      <th>0</th>\n",
       "      <td>ABW</td>\n",
       "      <td>Latin America &amp; Caribbean</td>\n",
       "      <td>High income</td>\n",
       "      <td>Aruba</td>\n",
       "    </tr>\n",
       "    <tr>\n",
       "      <th>1</th>\n",
       "      <td>AFG</td>\n",
       "      <td>South Asia</td>\n",
       "      <td>Low income</td>\n",
       "      <td>Afghanistan</td>\n",
       "    </tr>\n",
       "    <tr>\n",
       "      <th>2</th>\n",
       "      <td>AGO</td>\n",
       "      <td>Sub-Saharan Africa</td>\n",
       "      <td>Lower middle income</td>\n",
       "      <td>Angola</td>\n",
       "    </tr>\n",
       "    <tr>\n",
       "      <th>3</th>\n",
       "      <td>ALB</td>\n",
       "      <td>Europe &amp; Central Asia</td>\n",
       "      <td>Upper middle income</td>\n",
       "      <td>Albania</td>\n",
       "    </tr>\n",
       "    <tr>\n",
       "      <th>4</th>\n",
       "      <td>AND</td>\n",
       "      <td>Europe &amp; Central Asia</td>\n",
       "      <td>High income</td>\n",
       "      <td>Andorra</td>\n",
       "    </tr>\n",
       "    <tr>\n",
       "      <th>...</th>\n",
       "      <td>...</td>\n",
       "      <td>...</td>\n",
       "      <td>...</td>\n",
       "      <td>...</td>\n",
       "    </tr>\n",
       "    <tr>\n",
       "      <th>258</th>\n",
       "      <td>XKX</td>\n",
       "      <td>Europe &amp; Central Asia</td>\n",
       "      <td>Upper middle income</td>\n",
       "      <td>Kosovo</td>\n",
       "    </tr>\n",
       "    <tr>\n",
       "      <th>259</th>\n",
       "      <td>YEM</td>\n",
       "      <td>Middle East &amp; North Africa</td>\n",
       "      <td>Low income</td>\n",
       "      <td>Yemen, Rep.</td>\n",
       "    </tr>\n",
       "    <tr>\n",
       "      <th>260</th>\n",
       "      <td>ZAF</td>\n",
       "      <td>Sub-Saharan Africa</td>\n",
       "      <td>Upper middle income</td>\n",
       "      <td>South Africa</td>\n",
       "    </tr>\n",
       "    <tr>\n",
       "      <th>261</th>\n",
       "      <td>ZMB</td>\n",
       "      <td>Sub-Saharan Africa</td>\n",
       "      <td>Lower middle income</td>\n",
       "      <td>Zambia</td>\n",
       "    </tr>\n",
       "    <tr>\n",
       "      <th>262</th>\n",
       "      <td>ZWE</td>\n",
       "      <td>Sub-Saharan Africa</td>\n",
       "      <td>Lower middle income</td>\n",
       "      <td>Zimbabwe</td>\n",
       "    </tr>\n",
       "  </tbody>\n",
       "</table>\n",
       "<p>217 rows × 4 columns</p>\n",
       "</div>"
      ],
      "text/plain": [
       "    Country Code                      Region          IncomeGroup  \\\n",
       "0            ABW   Latin America & Caribbean          High income   \n",
       "1            AFG                  South Asia           Low income   \n",
       "2            AGO          Sub-Saharan Africa  Lower middle income   \n",
       "3            ALB       Europe & Central Asia  Upper middle income   \n",
       "4            AND       Europe & Central Asia          High income   \n",
       "..           ...                         ...                  ...   \n",
       "258          XKX       Europe & Central Asia  Upper middle income   \n",
       "259          YEM  Middle East & North Africa           Low income   \n",
       "260          ZAF          Sub-Saharan Africa  Upper middle income   \n",
       "261          ZMB          Sub-Saharan Africa  Lower middle income   \n",
       "262          ZWE          Sub-Saharan Africa  Lower middle income   \n",
       "\n",
       "        TableName  \n",
       "0           Aruba  \n",
       "1     Afghanistan  \n",
       "2          Angola  \n",
       "3         Albania  \n",
       "4         Andorra  \n",
       "..            ...  \n",
       "258        Kosovo  \n",
       "259   Yemen, Rep.  \n",
       "260  South Africa  \n",
       "261        Zambia  \n",
       "262      Zimbabwe  \n",
       "\n",
       "[217 rows x 4 columns]"
      ]
     },
     "execution_count": 321,
     "metadata": {},
     "output_type": "execute_result"
    }
   ],
   "source": [
    "df_gdp.dropna(inplace=True)\n",
    "\n",
    "df_gdp"
   ]
  },
  {
   "cell_type": "markdown",
   "metadata": {
    "id": "cxf51Cxmi4bA"
   },
   "source": [
    "## MERGE"
   ]
  },
  {
   "cell_type": "code",
   "execution_count": 322,
   "metadata": {
    "colab": {
     "base_uri": "https://localhost:8080/",
     "height": 0
    },
    "id": "Q0rHAAZbLbhC",
    "outputId": "8dedad8f-6ac0-4bb6-d2a5-f2aadd612802"
   },
   "outputs": [
    {
     "data": {
      "text/html": [
       "<div>\n",
       "<style scoped>\n",
       "    .dataframe tbody tr th:only-of-type {\n",
       "        vertical-align: middle;\n",
       "    }\n",
       "\n",
       "    .dataframe tbody tr th {\n",
       "        vertical-align: top;\n",
       "    }\n",
       "\n",
       "    .dataframe thead th {\n",
       "        text-align: right;\n",
       "    }\n",
       "</style>\n",
       "<table border=\"1\" class=\"dataframe\">\n",
       "  <thead>\n",
       "    <tr style=\"text-align: right;\">\n",
       "      <th></th>\n",
       "      <th>Country</th>\n",
       "      <th>Year</th>\n",
       "      <th>Causes</th>\n",
       "      <th>Both sexes_recent</th>\n",
       "      <th>Both sexes_min</th>\n",
       "      <th>Both sexes_max</th>\n",
       "      <th>Male_recent</th>\n",
       "      <th>Male_min</th>\n",
       "      <th>Male_max</th>\n",
       "      <th>Female_recent</th>\n",
       "      <th>Female_min</th>\n",
       "      <th>Female_max</th>\n",
       "      <th>Country Code</th>\n",
       "      <th>Region</th>\n",
       "      <th>IncomeGroup</th>\n",
       "      <th>TableName</th>\n",
       "    </tr>\n",
       "  </thead>\n",
       "  <tbody>\n",
       "    <tr>\n",
       "      <th>0</th>\n",
       "      <td>Afghanistan</td>\n",
       "      <td>2019</td>\n",
       "      <td>Malignant neoplasms</td>\n",
       "      <td>15565</td>\n",
       "      <td>7609</td>\n",
       "      <td>28280</td>\n",
       "      <td>7756</td>\n",
       "      <td>3898</td>\n",
       "      <td>13841</td>\n",
       "      <td>7809</td>\n",
       "      <td>3711</td>\n",
       "      <td>14439</td>\n",
       "      <td>AFG</td>\n",
       "      <td>South Asia</td>\n",
       "      <td>Low income</td>\n",
       "      <td>Afghanistan</td>\n",
       "    </tr>\n",
       "    <tr>\n",
       "      <th>1</th>\n",
       "      <td>Afghanistan</td>\n",
       "      <td>2019</td>\n",
       "      <td>Diabetes mellitus</td>\n",
       "      <td>8060</td>\n",
       "      <td>3827</td>\n",
       "      <td>14468</td>\n",
       "      <td>2612</td>\n",
       "      <td>1377</td>\n",
       "      <td>4651</td>\n",
       "      <td>5448</td>\n",
       "      <td>2451</td>\n",
       "      <td>9817</td>\n",
       "      <td>AFG</td>\n",
       "      <td>South Asia</td>\n",
       "      <td>Low income</td>\n",
       "      <td>Afghanistan</td>\n",
       "    </tr>\n",
       "    <tr>\n",
       "      <th>2</th>\n",
       "      <td>Afghanistan</td>\n",
       "      <td>2019</td>\n",
       "      <td>Cardiovascular diseases</td>\n",
       "      <td>71264</td>\n",
       "      <td>42413</td>\n",
       "      <td>108472</td>\n",
       "      <td>33793</td>\n",
       "      <td>20550</td>\n",
       "      <td>51028</td>\n",
       "      <td>37471</td>\n",
       "      <td>21863</td>\n",
       "      <td>57444</td>\n",
       "      <td>AFG</td>\n",
       "      <td>South Asia</td>\n",
       "      <td>Low income</td>\n",
       "      <td>Afghanistan</td>\n",
       "    </tr>\n",
       "    <tr>\n",
       "      <th>3</th>\n",
       "      <td>Afghanistan</td>\n",
       "      <td>2019</td>\n",
       "      <td>Chronic respiratory diseases</td>\n",
       "      <td>8285</td>\n",
       "      <td>3618</td>\n",
       "      <td>14626</td>\n",
       "      <td>3920</td>\n",
       "      <td>1877</td>\n",
       "      <td>6745</td>\n",
       "      <td>4365</td>\n",
       "      <td>1741</td>\n",
       "      <td>7881</td>\n",
       "      <td>AFG</td>\n",
       "      <td>South Asia</td>\n",
       "      <td>Low income</td>\n",
       "      <td>Afghanistan</td>\n",
       "    </tr>\n",
       "    <tr>\n",
       "      <th>4</th>\n",
       "      <td>Afghanistan</td>\n",
       "      <td>2018</td>\n",
       "      <td>Malignant neoplasms</td>\n",
       "      <td>15065</td>\n",
       "      <td>7337</td>\n",
       "      <td>27401</td>\n",
       "      <td>7534</td>\n",
       "      <td>3766</td>\n",
       "      <td>13454</td>\n",
       "      <td>7531</td>\n",
       "      <td>3570</td>\n",
       "      <td>13948</td>\n",
       "      <td>AFG</td>\n",
       "      <td>South Asia</td>\n",
       "      <td>Low income</td>\n",
       "      <td>Afghanistan</td>\n",
       "    </tr>\n",
       "  </tbody>\n",
       "</table>\n",
       "</div>"
      ],
      "text/plain": [
       "       Country  Year                        Causes  Both sexes_recent  \\\n",
       "0  Afghanistan  2019           Malignant neoplasms              15565   \n",
       "1  Afghanistan  2019             Diabetes mellitus               8060   \n",
       "2  Afghanistan  2019       Cardiovascular diseases              71264   \n",
       "3  Afghanistan  2019  Chronic respiratory diseases               8285   \n",
       "4  Afghanistan  2018           Malignant neoplasms              15065   \n",
       "\n",
       "   Both sexes_min  Both sexes_max  Male_recent  Male_min  Male_max  \\\n",
       "0            7609           28280         7756      3898     13841   \n",
       "1            3827           14468         2612      1377      4651   \n",
       "2           42413          108472        33793     20550     51028   \n",
       "3            3618           14626         3920      1877      6745   \n",
       "4            7337           27401         7534      3766     13454   \n",
       "\n",
       "   Female_recent  Female_min  Female_max Country Code      Region IncomeGroup  \\\n",
       "0           7809        3711       14439          AFG  South Asia  Low income   \n",
       "1           5448        2451        9817          AFG  South Asia  Low income   \n",
       "2          37471       21863       57444          AFG  South Asia  Low income   \n",
       "3           4365        1741        7881          AFG  South Asia  Low income   \n",
       "4           7531        3570       13948          AFG  South Asia  Low income   \n",
       "\n",
       "     TableName  \n",
       "0  Afghanistan  \n",
       "1  Afghanistan  \n",
       "2  Afghanistan  \n",
       "3  Afghanistan  \n",
       "4  Afghanistan  "
      ]
     },
     "execution_count": 322,
     "metadata": {},
     "output_type": "execute_result"
    }
   ],
   "source": [
    "df_rearanged.merge(df_gdp,how=\"inner\", left_on=\"Country\", right_on=\"TableName\").head()"
   ]
  },
  {
   "cell_type": "code",
   "execution_count": 323,
   "metadata": {
    "colab": {
     "base_uri": "https://localhost:8080/"
    },
    "id": "f777UFHJubq3",
    "outputId": "7520f4a9-fd0f-4f0e-ee00-9787c93e921d"
   },
   "outputs": [
    {
     "data": {
      "text/plain": [
       "(14640, 12)"
      ]
     },
     "execution_count": 323,
     "metadata": {},
     "output_type": "execute_result"
    }
   ],
   "source": [
    "df_rearanged.shape"
   ]
  },
  {
   "cell_type": "code",
   "execution_count": 324,
   "metadata": {
    "colab": {
     "base_uri": "https://localhost:8080/"
    },
    "id": "370IxTiuMmqC",
    "outputId": "a91e749b-ee02-4846-9701-d61d00d2eacc"
   },
   "outputs": [
    {
     "data": {
      "text/plain": [
       "array(['Afghanistan', 'Albania', 'Algeria', 'Angola',\n",
       "       'Antigua and Barbuda', 'Argentina', 'Armenia', 'Australia',\n",
       "       'Austria', 'Azerbaijan', 'Bahamas', 'Bahrain', 'Bangladesh',\n",
       "       'Barbados', 'Belarus', 'Belgium', 'Belize', 'Benin', 'Bhutan',\n",
       "       'Bolivia (Plurinational State of)', 'Bosnia and Herzegovina',\n",
       "       'Botswana', 'Brazil', 'Brunei Darussalam', 'Bulgaria',\n",
       "       'Burkina Faso', 'Burundi', 'Cabo Verde', 'Cambodia', 'Cameroon',\n",
       "       'Canada', 'Central African Republic', 'Chad', 'Chile', 'China',\n",
       "       'Colombia', 'Comoros', 'Congo', 'Costa Rica', \"Côte d'Ivoire\",\n",
       "       'Croatia', 'Cuba', 'Cyprus', 'Czechia',\n",
       "       \"Democratic People's Republic of Korea\",\n",
       "       'Democratic Republic of the Congo', 'Denmark', 'Djibouti',\n",
       "       'Dominican Republic', 'Ecuador', 'Egypt', 'El Salvador',\n",
       "       'Equatorial Guinea', 'Eritrea', 'Estonia', 'Eswatini', 'Ethiopia',\n",
       "       'Fiji', 'Finland', 'France', 'Gabon', 'Gambia', 'Georgia',\n",
       "       'Germany', 'Ghana', 'Greece', 'Grenada', 'Guatemala', 'Guinea',\n",
       "       'Guinea-Bissau', 'Guyana', 'Haiti', 'Honduras', 'Hungary',\n",
       "       'Iceland', 'India', 'Indonesia', 'Iran (Islamic Republic of)',\n",
       "       'Iraq', 'Ireland', 'Israel', 'Italy', 'Jamaica', 'Japan', 'Jordan',\n",
       "       'Kazakhstan', 'Kenya', 'Kiribati', 'Kuwait', 'Kyrgyzstan',\n",
       "       \"Lao People's Democratic Republic\", 'Latvia', 'Lebanon', 'Lesotho',\n",
       "       'Liberia', 'Libya', 'Lithuania', 'Luxembourg', 'Madagascar',\n",
       "       'Malawi', 'Malaysia', 'Maldives', 'Mali', 'Malta', 'Mauritania',\n",
       "       'Mauritius', 'Mexico', 'Micronesia (Federated States of)',\n",
       "       'Mongolia', 'Montenegro', 'Morocco', 'Mozambique', 'Myanmar',\n",
       "       'Namibia', 'Nepal', 'Netherlands', 'New Zealand', 'Nicaragua',\n",
       "       'Niger', 'Nigeria', 'Norway', 'Oman', 'Pakistan', 'Panama',\n",
       "       'Papua New Guinea', 'Paraguay', 'Peru', 'Philippines', 'Poland',\n",
       "       'Portugal', 'Qatar', 'Republic of Korea', 'Republic of Moldova',\n",
       "       'North Macedonia', 'Romania', 'Russian Federation', 'Rwanda',\n",
       "       'Saint Lucia', 'Saint Vincent and the Grenadines', 'Samoa',\n",
       "       'Sao Tome and Principe', 'Saudi Arabia', 'Senegal', 'Serbia',\n",
       "       'Seychelles', 'Sierra Leone', 'Singapore', 'Slovakia', 'Slovenia',\n",
       "       'Solomon Islands', 'Somalia', 'South Africa', 'South Sudan',\n",
       "       'Spain', 'Sri Lanka', 'Sudan', 'Suriname', 'Sweden', 'Switzerland',\n",
       "       'Syrian Arab Republic', 'Tajikistan', 'Thailand', 'Timor-Leste',\n",
       "       'Togo', 'Tonga', 'Trinidad and Tobago', 'Tunisia', 'Turkey',\n",
       "       'Turkmenistan', 'Uganda', 'Ukraine', 'United Arab Emirates',\n",
       "       'United Kingdom of Great Britain and Northern Ireland',\n",
       "       'United Republic of Tanzania', 'United States of America',\n",
       "       'Uruguay', 'Uzbekistan', 'Vanuatu',\n",
       "       'Venezuela (Bolivarian Republic of)', 'Viet Nam', 'Yemen',\n",
       "       'Zambia', 'Zimbabwe'], dtype=object)"
      ]
     },
     "execution_count": 324,
     "metadata": {},
     "output_type": "execute_result"
    }
   ],
   "source": [
    "df_rearanged.Country.unique()"
   ]
  },
  {
   "cell_type": "code",
   "execution_count": 325,
   "metadata": {
    "colab": {
     "base_uri": "https://localhost:8080/"
    },
    "id": "eCOooQpmRSJF",
    "outputId": "d39f87ec-55f9-460c-8c57-35d5c61dec44"
   },
   "outputs": [
    {
     "data": {
      "text/plain": [
       "array(['Aruba', 'Afghanistan', 'Angola', 'Albania', 'Andorra',\n",
       "       'United Arab Emirates', 'Argentina', 'Armenia', 'American Samoa',\n",
       "       'Antigua and Barbuda', 'Australia', 'Austria', 'Azerbaijan',\n",
       "       'Burundi', 'Belgium', 'Benin', 'Burkina Faso', 'Bangladesh',\n",
       "       'Bulgaria', 'Bahrain', 'Bahamas, The', 'Bosnia and Herzegovina',\n",
       "       'Belarus', 'Belize', 'Bermuda', 'Bolivia', 'Brazil', 'Barbados',\n",
       "       'Brunei Darussalam', 'Bhutan', 'Botswana',\n",
       "       'Central African Republic', 'Canada', 'Switzerland',\n",
       "       'Channel Islands', 'Chile', 'China', \"Côte d'Ivoire\", 'Cameroon',\n",
       "       'Congo, Dem. Rep.', 'Congo, Rep.', 'Colombia', 'Comoros',\n",
       "       'Cabo Verde', 'Costa Rica', 'Cuba', 'Curaçao', 'Cayman Islands',\n",
       "       'Cyprus', 'Czech Republic', 'Germany', 'Djibouti', 'Dominica',\n",
       "       'Denmark', 'Dominican Republic', 'Algeria', 'Ecuador',\n",
       "       'Egypt, Arab Rep.', 'Eritrea', 'Spain', 'Estonia', 'Ethiopia',\n",
       "       'Finland', 'Fiji', 'France', 'Faroe Islands',\n",
       "       'Micronesia, Fed. Sts.', 'Gabon', 'United Kingdom', 'Georgia',\n",
       "       'Ghana', 'Gibraltar', 'Guinea', 'Gambia, The', 'Guinea-Bissau',\n",
       "       'Equatorial Guinea', 'Greece', 'Grenada', 'Greenland', 'Guatemala',\n",
       "       'Guam', 'Guyana', 'Hong Kong SAR, China', 'Honduras', 'Croatia',\n",
       "       'Haiti', 'Hungary', 'Indonesia', 'Isle of Man', 'India', 'Ireland',\n",
       "       'Iran, Islamic Rep.', 'Iraq', 'Iceland', 'Israel', 'Italy',\n",
       "       'Jamaica', 'Jordan', 'Japan', 'Kazakhstan', 'Kenya',\n",
       "       'Kyrgyz Republic', 'Cambodia', 'Kiribati', 'St. Kitts and Nevis',\n",
       "       'Korea, Rep.', 'Kuwait', 'Lao PDR', 'Lebanon', 'Liberia', 'Libya',\n",
       "       'St. Lucia', 'Liechtenstein', 'Sri Lanka', 'Lesotho', 'Lithuania',\n",
       "       'Luxembourg', 'Latvia', 'Macao SAR, China',\n",
       "       'St. Martin (French part)', 'Morocco', 'Monaco', 'Moldova',\n",
       "       'Madagascar', 'Maldives', 'Mexico', 'Marshall Islands',\n",
       "       'North Macedonia', 'Mali', 'Malta', 'Myanmar', 'Montenegro',\n",
       "       'Mongolia', 'Northern Mariana Islands', 'Mozambique', 'Mauritania',\n",
       "       'Mauritius', 'Malawi', 'Malaysia', 'Namibia', 'New Caledonia',\n",
       "       'Niger', 'Nigeria', 'Nicaragua', 'Netherlands', 'Norway', 'Nepal',\n",
       "       'Nauru', 'New Zealand', 'Oman', 'Pakistan', 'Panama', 'Peru',\n",
       "       'Philippines', 'Palau', 'Papua New Guinea', 'Poland',\n",
       "       'Puerto Rico', \"Korea, Dem. People's Rep.\", 'Portugal', 'Paraguay',\n",
       "       'West Bank and Gaza', 'French Polynesia', 'Qatar', 'Romania',\n",
       "       'Russian Federation', 'Rwanda', 'Saudi Arabia', 'Sudan', 'Senegal',\n",
       "       'Singapore', 'Solomon Islands', 'Sierra Leone', 'El Salvador',\n",
       "       'San Marino', 'Somalia', 'Serbia', 'South Sudan',\n",
       "       'São Tomé and Principe', 'Suriname', 'Slovak Republic', 'Slovenia',\n",
       "       'Sweden', 'Eswatini', 'Sint Maarten (Dutch part)', 'Seychelles',\n",
       "       'Syrian Arab Republic', 'Turks and Caicos Islands', 'Chad', 'Togo',\n",
       "       'Thailand', 'Tajikistan', 'Turkmenistan', 'Timor-Leste', 'Tonga',\n",
       "       'Trinidad and Tobago', 'Tunisia', 'Turkey', 'Tuvalu', 'Tanzania',\n",
       "       'Uganda', 'Ukraine', 'Uruguay', 'United States', 'Uzbekistan',\n",
       "       'St. Vincent and the Grenadines', 'Venezuela, RB',\n",
       "       'British Virgin Islands', 'Virgin Islands (U.S.)', 'Vietnam',\n",
       "       'Vanuatu', 'Samoa', 'Kosovo', 'Yemen, Rep.', 'South Africa',\n",
       "       'Zambia', 'Zimbabwe'], dtype=object)"
      ]
     },
     "execution_count": 325,
     "metadata": {},
     "output_type": "execute_result"
    }
   ],
   "source": [
    "df_gdp.TableName.unique()"
   ]
  },
  {
   "cell_type": "markdown",
   "metadata": {
    "id": "B7OZKLaFAFqs"
   },
   "source": [
    "### FIND THE MISMATCHES"
   ]
  },
  {
   "cell_type": "code",
   "execution_count": 326,
   "metadata": {},
   "outputs": [
    {
     "name": "stdout",
     "output_type": "stream",
     "text": [
      "out : Bahamas\n",
      "out : Bolivia (Plurinational State of)\n",
      "out : Congo\n",
      "out : Czechia\n",
      "out : Democratic People's Republic of Korea\n",
      "out : Democratic Republic of the Congo\n",
      "out : Egypt\n",
      "out : Gambia\n",
      "out : Iran (Islamic Republic of)\n",
      "out : Kyrgyzstan\n",
      "out : Lao People's Democratic Republic\n",
      "out : Micronesia (Federated States of)\n",
      "out : Republic of Korea\n",
      "out : Republic of Moldova\n",
      "out : Saint Lucia\n",
      "out : Saint Vincent and the Grenadines\n",
      "out : Sao Tome and Principe\n",
      "out : Slovakia\n",
      "out : United Kingdom of Great Britain and Northern Ireland\n",
      "out : United Republic of Tanzania\n",
      "out : United States of America\n",
      "out : Venezuela (Bolivarian Republic of)\n",
      "out : Viet Nam\n",
      "out : Yemen\n",
      "24 MISMATCH(ES) BETWEEN THOSE DATAFRAMES\n"
     ]
    }
   ],
   "source": [
    "def mismatch (series_1, series_2, only_out=True):\n",
    "    out_num = 0\n",
    "    for i in series_1.unique():\n",
    "        if i in series_2.unique():\n",
    "#         if any(series_2.unique() == i):  # alternative\n",
    "            if not only_out:\n",
    "                print(\"in :\",i)\n",
    "        else:\n",
    "            print(\"out :\",i)\n",
    "            out_num += 1\n",
    "    print(f\"{out_num} mismatch(es) between those dataframes\".upper())\n",
    "    \n",
    "mismatch(df_rearanged.Country, df_gdp.TableName, True)"
   ]
  },
  {
   "cell_type": "code",
   "execution_count": 327,
   "metadata": {
    "id": "IOLKMzG6QtEl"
   },
   "outputs": [
    {
     "data": {
      "text/plain": [
       "0             Aruba\n",
       "1       Afghanistan\n",
       "2            Angola\n",
       "3           Albania\n",
       "4           Andorra\n",
       "           ...     \n",
       "258          Kosovo\n",
       "259           Yemen\n",
       "260    South Africa\n",
       "261          Zambia\n",
       "262        Zimbabwe\n",
       "Name: TableName, Length: 217, dtype: object"
      ]
     },
     "execution_count": 327,
     "metadata": {},
     "output_type": "execute_result"
    }
   ],
   "source": [
    "# On rows with commas, let's get the first part and get rid of the remainder.\n",
    "df_gdp[\"TableName\"] = df_gdp.TableName.transform(lambda x : x.split(\",\")[0])\n",
    "df_gdp.TableName"
   ]
  },
  {
   "cell_type": "code",
   "execution_count": 328,
   "metadata": {
    "colab": {
     "base_uri": "https://localhost:8080/",
     "height": 0
    },
    "id": "TIAV7TARMK98",
    "outputId": "f2350e78-1170-4d57-edba-8f4c4c566cf8"
   },
   "outputs": [
    {
     "data": {
      "text/html": [
       "<div>\n",
       "<style scoped>\n",
       "    .dataframe tbody tr th:only-of-type {\n",
       "        vertical-align: middle;\n",
       "    }\n",
       "\n",
       "    .dataframe tbody tr th {\n",
       "        vertical-align: top;\n",
       "    }\n",
       "\n",
       "    .dataframe thead th {\n",
       "        text-align: right;\n",
       "    }\n",
       "</style>\n",
       "<table border=\"1\" class=\"dataframe\">\n",
       "  <thead>\n",
       "    <tr style=\"text-align: right;\">\n",
       "      <th></th>\n",
       "      <th>Country</th>\n",
       "      <th>Year</th>\n",
       "      <th>Causes</th>\n",
       "      <th>Both sexes_recent</th>\n",
       "      <th>Both sexes_min</th>\n",
       "      <th>Both sexes_max</th>\n",
       "      <th>Male_recent</th>\n",
       "      <th>Male_min</th>\n",
       "      <th>Male_max</th>\n",
       "      <th>Female_recent</th>\n",
       "      <th>Female_min</th>\n",
       "      <th>Female_max</th>\n",
       "      <th>Country Code</th>\n",
       "      <th>Region</th>\n",
       "      <th>IncomeGroup</th>\n",
       "      <th>TableName</th>\n",
       "    </tr>\n",
       "  </thead>\n",
       "  <tbody>\n",
       "    <tr>\n",
       "      <th>0</th>\n",
       "      <td>Afghanistan</td>\n",
       "      <td>2019</td>\n",
       "      <td>Malignant neoplasms</td>\n",
       "      <td>15565</td>\n",
       "      <td>7609</td>\n",
       "      <td>28280</td>\n",
       "      <td>7756</td>\n",
       "      <td>3898</td>\n",
       "      <td>13841</td>\n",
       "      <td>7809</td>\n",
       "      <td>3711</td>\n",
       "      <td>14439</td>\n",
       "      <td>AFG</td>\n",
       "      <td>South Asia</td>\n",
       "      <td>Low income</td>\n",
       "      <td>Afghanistan</td>\n",
       "    </tr>\n",
       "    <tr>\n",
       "      <th>1</th>\n",
       "      <td>Afghanistan</td>\n",
       "      <td>2019</td>\n",
       "      <td>Diabetes mellitus</td>\n",
       "      <td>8060</td>\n",
       "      <td>3827</td>\n",
       "      <td>14468</td>\n",
       "      <td>2612</td>\n",
       "      <td>1377</td>\n",
       "      <td>4651</td>\n",
       "      <td>5448</td>\n",
       "      <td>2451</td>\n",
       "      <td>9817</td>\n",
       "      <td>AFG</td>\n",
       "      <td>South Asia</td>\n",
       "      <td>Low income</td>\n",
       "      <td>Afghanistan</td>\n",
       "    </tr>\n",
       "    <tr>\n",
       "      <th>2</th>\n",
       "      <td>Afghanistan</td>\n",
       "      <td>2019</td>\n",
       "      <td>Cardiovascular diseases</td>\n",
       "      <td>71264</td>\n",
       "      <td>42413</td>\n",
       "      <td>108472</td>\n",
       "      <td>33793</td>\n",
       "      <td>20550</td>\n",
       "      <td>51028</td>\n",
       "      <td>37471</td>\n",
       "      <td>21863</td>\n",
       "      <td>57444</td>\n",
       "      <td>AFG</td>\n",
       "      <td>South Asia</td>\n",
       "      <td>Low income</td>\n",
       "      <td>Afghanistan</td>\n",
       "    </tr>\n",
       "    <tr>\n",
       "      <th>3</th>\n",
       "      <td>Afghanistan</td>\n",
       "      <td>2019</td>\n",
       "      <td>Chronic respiratory diseases</td>\n",
       "      <td>8285</td>\n",
       "      <td>3618</td>\n",
       "      <td>14626</td>\n",
       "      <td>3920</td>\n",
       "      <td>1877</td>\n",
       "      <td>6745</td>\n",
       "      <td>4365</td>\n",
       "      <td>1741</td>\n",
       "      <td>7881</td>\n",
       "      <td>AFG</td>\n",
       "      <td>South Asia</td>\n",
       "      <td>Low income</td>\n",
       "      <td>Afghanistan</td>\n",
       "    </tr>\n",
       "    <tr>\n",
       "      <th>4</th>\n",
       "      <td>Afghanistan</td>\n",
       "      <td>2018</td>\n",
       "      <td>Malignant neoplasms</td>\n",
       "      <td>15065</td>\n",
       "      <td>7337</td>\n",
       "      <td>27401</td>\n",
       "      <td>7534</td>\n",
       "      <td>3766</td>\n",
       "      <td>13454</td>\n",
       "      <td>7531</td>\n",
       "      <td>3570</td>\n",
       "      <td>13948</td>\n",
       "      <td>AFG</td>\n",
       "      <td>South Asia</td>\n",
       "      <td>Low income</td>\n",
       "      <td>Afghanistan</td>\n",
       "    </tr>\n",
       "    <tr>\n",
       "      <th>...</th>\n",
       "      <td>...</td>\n",
       "      <td>...</td>\n",
       "      <td>...</td>\n",
       "      <td>...</td>\n",
       "      <td>...</td>\n",
       "      <td>...</td>\n",
       "      <td>...</td>\n",
       "      <td>...</td>\n",
       "      <td>...</td>\n",
       "      <td>...</td>\n",
       "      <td>...</td>\n",
       "      <td>...</td>\n",
       "      <td>...</td>\n",
       "      <td>...</td>\n",
       "      <td>...</td>\n",
       "      <td>...</td>\n",
       "    </tr>\n",
       "    <tr>\n",
       "      <th>13195</th>\n",
       "      <td>Zimbabwe</td>\n",
       "      <td>2001</td>\n",
       "      <td>Chronic respiratory diseases</td>\n",
       "      <td>1884</td>\n",
       "      <td>1044</td>\n",
       "      <td>3046</td>\n",
       "      <td>996</td>\n",
       "      <td>603</td>\n",
       "      <td>1513</td>\n",
       "      <td>887</td>\n",
       "      <td>441</td>\n",
       "      <td>1533</td>\n",
       "      <td>ZWE</td>\n",
       "      <td>Sub-Saharan Africa</td>\n",
       "      <td>Lower middle income</td>\n",
       "      <td>Zimbabwe</td>\n",
       "    </tr>\n",
       "    <tr>\n",
       "      <th>13196</th>\n",
       "      <td>Zimbabwe</td>\n",
       "      <td>2000</td>\n",
       "      <td>Malignant neoplasms</td>\n",
       "      <td>7474</td>\n",
       "      <td>4592</td>\n",
       "      <td>11441</td>\n",
       "      <td>3838</td>\n",
       "      <td>2512</td>\n",
       "      <td>5647</td>\n",
       "      <td>3636</td>\n",
       "      <td>2080</td>\n",
       "      <td>5794</td>\n",
       "      <td>ZWE</td>\n",
       "      <td>Sub-Saharan Africa</td>\n",
       "      <td>Lower middle income</td>\n",
       "      <td>Zimbabwe</td>\n",
       "    </tr>\n",
       "    <tr>\n",
       "      <th>13197</th>\n",
       "      <td>Zimbabwe</td>\n",
       "      <td>2000</td>\n",
       "      <td>Diabetes mellitus</td>\n",
       "      <td>2039</td>\n",
       "      <td>1227</td>\n",
       "      <td>3219</td>\n",
       "      <td>810</td>\n",
       "      <td>507</td>\n",
       "      <td>1246</td>\n",
       "      <td>1229</td>\n",
       "      <td>720</td>\n",
       "      <td>1972</td>\n",
       "      <td>ZWE</td>\n",
       "      <td>Sub-Saharan Africa</td>\n",
       "      <td>Lower middle income</td>\n",
       "      <td>Zimbabwe</td>\n",
       "    </tr>\n",
       "    <tr>\n",
       "      <th>13198</th>\n",
       "      <td>Zimbabwe</td>\n",
       "      <td>2000</td>\n",
       "      <td>Cardiovascular diseases</td>\n",
       "      <td>10368</td>\n",
       "      <td>6335</td>\n",
       "      <td>16076</td>\n",
       "      <td>4425</td>\n",
       "      <td>2818</td>\n",
       "      <td>6837</td>\n",
       "      <td>5943</td>\n",
       "      <td>3516</td>\n",
       "      <td>9239</td>\n",
       "      <td>ZWE</td>\n",
       "      <td>Sub-Saharan Africa</td>\n",
       "      <td>Lower middle income</td>\n",
       "      <td>Zimbabwe</td>\n",
       "    </tr>\n",
       "    <tr>\n",
       "      <th>13199</th>\n",
       "      <td>Zimbabwe</td>\n",
       "      <td>2000</td>\n",
       "      <td>Chronic respiratory diseases</td>\n",
       "      <td>1861</td>\n",
       "      <td>1039</td>\n",
       "      <td>2993</td>\n",
       "      <td>983</td>\n",
       "      <td>605</td>\n",
       "      <td>1481</td>\n",
       "      <td>878</td>\n",
       "      <td>435</td>\n",
       "      <td>1513</td>\n",
       "      <td>ZWE</td>\n",
       "      <td>Sub-Saharan Africa</td>\n",
       "      <td>Lower middle income</td>\n",
       "      <td>Zimbabwe</td>\n",
       "    </tr>\n",
       "  </tbody>\n",
       "</table>\n",
       "<p>13200 rows × 16 columns</p>\n",
       "</div>"
      ],
      "text/plain": [
       "           Country  Year                        Causes  Both sexes_recent  \\\n",
       "0      Afghanistan  2019           Malignant neoplasms              15565   \n",
       "1      Afghanistan  2019             Diabetes mellitus               8060   \n",
       "2      Afghanistan  2019       Cardiovascular diseases              71264   \n",
       "3      Afghanistan  2019  Chronic respiratory diseases               8285   \n",
       "4      Afghanistan  2018           Malignant neoplasms              15065   \n",
       "...            ...   ...                           ...                ...   \n",
       "13195     Zimbabwe  2001  Chronic respiratory diseases               1884   \n",
       "13196     Zimbabwe  2000           Malignant neoplasms               7474   \n",
       "13197     Zimbabwe  2000             Diabetes mellitus               2039   \n",
       "13198     Zimbabwe  2000       Cardiovascular diseases              10368   \n",
       "13199     Zimbabwe  2000  Chronic respiratory diseases               1861   \n",
       "\n",
       "       Both sexes_min  Both sexes_max  Male_recent  Male_min  Male_max  \\\n",
       "0                7609           28280         7756      3898     13841   \n",
       "1                3827           14468         2612      1377      4651   \n",
       "2               42413          108472        33793     20550     51028   \n",
       "3                3618           14626         3920      1877      6745   \n",
       "4                7337           27401         7534      3766     13454   \n",
       "...               ...             ...          ...       ...       ...   \n",
       "13195            1044            3046          996       603      1513   \n",
       "13196            4592           11441         3838      2512      5647   \n",
       "13197            1227            3219          810       507      1246   \n",
       "13198            6335           16076         4425      2818      6837   \n",
       "13199            1039            2993          983       605      1481   \n",
       "\n",
       "       Female_recent  Female_min  Female_max Country Code              Region  \\\n",
       "0               7809        3711       14439          AFG          South Asia   \n",
       "1               5448        2451        9817          AFG          South Asia   \n",
       "2              37471       21863       57444          AFG          South Asia   \n",
       "3               4365        1741        7881          AFG          South Asia   \n",
       "4               7531        3570       13948          AFG          South Asia   \n",
       "...              ...         ...         ...          ...                 ...   \n",
       "13195            887         441        1533          ZWE  Sub-Saharan Africa   \n",
       "13196           3636        2080        5794          ZWE  Sub-Saharan Africa   \n",
       "13197           1229         720        1972          ZWE  Sub-Saharan Africa   \n",
       "13198           5943        3516        9239          ZWE  Sub-Saharan Africa   \n",
       "13199            878         435        1513          ZWE  Sub-Saharan Africa   \n",
       "\n",
       "               IncomeGroup    TableName  \n",
       "0               Low income  Afghanistan  \n",
       "1               Low income  Afghanistan  \n",
       "2               Low income  Afghanistan  \n",
       "3               Low income  Afghanistan  \n",
       "4               Low income  Afghanistan  \n",
       "...                    ...          ...  \n",
       "13195  Lower middle income     Zimbabwe  \n",
       "13196  Lower middle income     Zimbabwe  \n",
       "13197  Lower middle income     Zimbabwe  \n",
       "13198  Lower middle income     Zimbabwe  \n",
       "13199  Lower middle income     Zimbabwe  \n",
       "\n",
       "[13200 rows x 16 columns]"
      ]
     },
     "execution_count": 328,
     "metadata": {},
     "output_type": "execute_result"
    }
   ],
   "source": [
    "df_rearanged.merge(df_gdp,how=\"inner\", left_on=\"Country\", right_on=\"TableName\")"
   ]
  },
  {
   "cell_type": "code",
   "execution_count": 329,
   "metadata": {
    "colab": {
     "base_uri": "https://localhost:8080/"
    },
    "id": "P76beNo-Q-8e",
    "outputId": "001674e9-6f74-406c-fcba-50b7675598e6"
   },
   "outputs": [
    {
     "name": "stdout",
     "output_type": "stream",
     "text": [
      "out : Bolivia (Plurinational State of)\n",
      "out : Czechia\n",
      "out : Democratic People's Republic of Korea\n",
      "out : Democratic Republic of the Congo\n",
      "out : Iran (Islamic Republic of)\n",
      "out : Kyrgyzstan\n",
      "out : Lao People's Democratic Republic\n",
      "out : Micronesia (Federated States of)\n",
      "out : Republic of Korea\n",
      "out : Republic of Moldova\n",
      "out : Saint Lucia\n",
      "out : Saint Vincent and the Grenadines\n",
      "out : Sao Tome and Principe\n",
      "out : Slovakia\n",
      "out : United Kingdom of Great Britain and Northern Ireland\n",
      "out : United Republic of Tanzania\n",
      "out : United States of America\n",
      "out : Venezuela (Bolivarian Republic of)\n",
      "out : Viet Nam\n",
      "19 MISMATCH(ES) BETWEEN THOSE DATAFRAMES\n"
     ]
    }
   ],
   "source": [
    "mismatch(df_rearanged.Country, df_gdp.TableName, True)"
   ]
  },
  {
   "cell_type": "code",
   "execution_count": 330,
   "metadata": {
    "colab": {
     "base_uri": "https://localhost:8080/",
     "height": 0
    },
    "id": "ikayOTgAh6a0",
    "outputId": "8acc2e73-6edb-41dd-c57b-01dc8ea09452"
   },
   "outputs": [
    {
     "data": {
      "text/html": [
       "<div>\n",
       "<style scoped>\n",
       "    .dataframe tbody tr th:only-of-type {\n",
       "        vertical-align: middle;\n",
       "    }\n",
       "\n",
       "    .dataframe tbody tr th {\n",
       "        vertical-align: top;\n",
       "    }\n",
       "\n",
       "    .dataframe thead th {\n",
       "        text-align: right;\n",
       "    }\n",
       "</style>\n",
       "<table border=\"1\" class=\"dataframe\">\n",
       "  <thead>\n",
       "    <tr style=\"text-align: right;\">\n",
       "      <th></th>\n",
       "      <th>Country Code</th>\n",
       "      <th>Region</th>\n",
       "      <th>IncomeGroup</th>\n",
       "      <th>TableName</th>\n",
       "    </tr>\n",
       "  </thead>\n",
       "  <tbody>\n",
       "    <tr>\n",
       "      <th>123</th>\n",
       "      <td>KOR</td>\n",
       "      <td>East Asia &amp; Pacific</td>\n",
       "      <td>High income</td>\n",
       "      <td>Korea</td>\n",
       "    </tr>\n",
       "    <tr>\n",
       "      <th>190</th>\n",
       "      <td>PRK</td>\n",
       "      <td>East Asia &amp; Pacific</td>\n",
       "      <td>Low income</td>\n",
       "      <td>Korea</td>\n",
       "    </tr>\n",
       "  </tbody>\n",
       "</table>\n",
       "</div>"
      ],
      "text/plain": [
       "    Country Code               Region  IncomeGroup TableName\n",
       "123          KOR  East Asia & Pacific  High income     Korea\n",
       "190          PRK  East Asia & Pacific   Low income     Korea"
      ]
     },
     "execution_count": 330,
     "metadata": {},
     "output_type": "execute_result"
    }
   ],
   "source": [
    "# Adjust the names of North and South Korea\n",
    "df_gdp[df_gdp.TableName == \"Korea\"]"
   ]
  },
  {
   "cell_type": "code",
   "execution_count": 331,
   "metadata": {
    "id": "1FG25ktnx7iV"
   },
   "outputs": [],
   "source": [
    "df_gdp.loc[(df_gdp.TableName == \"Korea\") & (df_gdp[\"Country Code\"] == \"KOR\"), \"TableName\" ] = \"Republic of Korea\"\n",
    "\n",
    "df_gdp.loc[(df_gdp.TableName == \"Korea\") & (df_gdp[\"Country Code\"] == \"PRK\"), \"TableName\" ] = \"Democratic People's Republic of Korea\""
   ]
  },
  {
   "cell_type": "code",
   "execution_count": 332,
   "metadata": {
    "colab": {
     "base_uri": "https://localhost:8080/"
    },
    "id": "0fD-8Npkzg1J",
    "outputId": "c83d4b32-996f-42ca-fcb2-0f79c9e8f16b"
   },
   "outputs": [
    {
     "name": "stdout",
     "output_type": "stream",
     "text": [
      "out : Bolivia (Plurinational State of)\n",
      "out : Czechia\n",
      "out : Democratic Republic of the Congo\n",
      "out : Iran (Islamic Republic of)\n",
      "out : Kyrgyzstan\n",
      "out : Lao People's Democratic Republic\n",
      "out : Micronesia (Federated States of)\n",
      "out : Republic of Moldova\n",
      "out : Saint Lucia\n",
      "out : Saint Vincent and the Grenadines\n",
      "out : Sao Tome and Principe\n",
      "out : Slovakia\n",
      "out : United Kingdom of Great Britain and Northern Ireland\n",
      "out : United Republic of Tanzania\n",
      "out : United States of America\n",
      "out : Venezuela (Bolivarian Republic of)\n",
      "out : Viet Nam\n",
      "17 MISMATCH(ES) BETWEEN THOSE DATAFRAMES\n"
     ]
    }
   ],
   "source": [
    "mismatch(df_rearanged.Country, df_gdp.TableName, True)"
   ]
  },
  {
   "cell_type": "code",
   "execution_count": 333,
   "metadata": {
    "id": "noTJew-P0lSJ"
   },
   "outputs": [
    {
     "name": "stdout",
     "output_type": "stream",
     "text": [
      "out : Czechia\n",
      "out : Democratic Republic of the Congo\n",
      "out : Kyrgyzstan\n",
      "out : Lao People's Democratic Republic\n",
      "out : Republic of Moldova\n",
      "out : Saint Lucia\n",
      "out : Saint Vincent and the Grenadines\n",
      "out : Sao Tome and Principe\n",
      "out : Slovakia\n",
      "out : United Kingdom of Great Britain and Northern Ireland\n",
      "out : United Republic of Tanzania\n",
      "out : United States of America\n",
      "out : Viet Nam\n",
      "13 MISMATCH(ES) BETWEEN THOSE DATAFRAMES\n"
     ]
    }
   ],
   "source": [
    "# Let's get rid of the expressions with parentheses\n",
    "df_rearanged[\"Country\"] =  df_rearanged.Country.transform(lambda x : x.split(\"(\")[0].strip())\n",
    "\n",
    "mismatch(df_rearanged.Country, df_gdp.TableName, True)"
   ]
  },
  {
   "cell_type": "code",
   "execution_count": 334,
   "metadata": {
    "colab": {
     "base_uri": "https://localhost:8080/",
     "height": 0
    },
    "id": "ocIxtLJL1bPu",
    "outputId": "b7c83e71-d744-4e12-b2fa-0d047fc7d3a9"
   },
   "outputs": [
    {
     "data": {
      "text/html": [
       "<div>\n",
       "<style scoped>\n",
       "    .dataframe tbody tr th:only-of-type {\n",
       "        vertical-align: middle;\n",
       "    }\n",
       "\n",
       "    .dataframe tbody tr th {\n",
       "        vertical-align: top;\n",
       "    }\n",
       "\n",
       "    .dataframe thead th {\n",
       "        text-align: right;\n",
       "    }\n",
       "</style>\n",
       "<table border=\"1\" class=\"dataframe\">\n",
       "  <thead>\n",
       "    <tr style=\"text-align: right;\">\n",
       "      <th></th>\n",
       "      <th>Country Code</th>\n",
       "      <th>Region</th>\n",
       "      <th>IncomeGroup</th>\n",
       "      <th>TableName</th>\n",
       "    </tr>\n",
       "  </thead>\n",
       "  <tbody>\n",
       "    <tr>\n",
       "      <th>218</th>\n",
       "      <td>SVK</td>\n",
       "      <td>Europe &amp; Central Asia</td>\n",
       "      <td>High income</td>\n",
       "      <td>Slovak Republic</td>\n",
       "    </tr>\n",
       "  </tbody>\n",
       "</table>\n",
       "</div>"
      ],
      "text/plain": [
       "    Country Code                 Region  IncomeGroup        TableName\n",
       "218          SVK  Europe & Central Asia  High income  Slovak Republic"
      ]
     },
     "execution_count": 334,
     "metadata": {},
     "output_type": "execute_result"
    }
   ],
   "source": [
    "# Rename Slovakia\n",
    "df_gdp[df_gdp.TableName.str.contains(\"Slovak\")]"
   ]
  },
  {
   "cell_type": "code",
   "execution_count": 335,
   "metadata": {
    "id": "JTUqdKhr2Xie"
   },
   "outputs": [
    {
     "name": "stdout",
     "output_type": "stream",
     "text": [
      "out : Czechia\n",
      "out : Democratic Republic of the Congo\n",
      "out : Kyrgyzstan\n",
      "out : Lao People's Democratic Republic\n",
      "out : Republic of Moldova\n",
      "out : Saint Lucia\n",
      "out : Saint Vincent and the Grenadines\n",
      "out : Sao Tome and Principe\n",
      "out : United Kingdom of Great Britain and Northern Ireland\n",
      "out : United Republic of Tanzania\n",
      "out : United States of America\n",
      "out : Viet Nam\n",
      "12 MISMATCH(ES) BETWEEN THOSE DATAFRAMES\n"
     ]
    }
   ],
   "source": [
    "df_gdp.loc[df_gdp.TableName.str.contains(\"Slovak\"), \"TableName\"] = \"Slovakia\"\n",
    "mismatch(df_rearanged.Country, df_gdp.TableName, True)"
   ]
  },
  {
   "cell_type": "code",
   "execution_count": 336,
   "metadata": {
    "colab": {
     "base_uri": "https://localhost:8080/",
     "height": 0
    },
    "id": "lp0yrdoE9XRV",
    "outputId": "f52cd1ae-95f6-4a80-fc11-c905e9a7d77c"
   },
   "outputs": [
    {
     "data": {
      "text/html": [
       "<div>\n",
       "<style scoped>\n",
       "    .dataframe tbody tr th:only-of-type {\n",
       "        vertical-align: middle;\n",
       "    }\n",
       "\n",
       "    .dataframe tbody tr th {\n",
       "        vertical-align: top;\n",
       "    }\n",
       "\n",
       "    .dataframe thead th {\n",
       "        text-align: right;\n",
       "    }\n",
       "</style>\n",
       "<table border=\"1\" class=\"dataframe\">\n",
       "  <thead>\n",
       "    <tr style=\"text-align: right;\">\n",
       "      <th></th>\n",
       "      <th>Country Code</th>\n",
       "      <th>Region</th>\n",
       "      <th>IncomeGroup</th>\n",
       "      <th>TableName</th>\n",
       "    </tr>\n",
       "  </thead>\n",
       "  <tbody>\n",
       "  </tbody>\n",
       "</table>\n",
       "</div>"
      ],
      "text/plain": [
       "Empty DataFrame\n",
       "Columns: [Country Code, Region, IncomeGroup, TableName]\n",
       "Index: []"
      ]
     },
     "execution_count": 336,
     "metadata": {},
     "output_type": "execute_result"
    }
   ],
   "source": [
    "# Focus on 'Sao Tome and Principe'\n",
    "df_gdp[df_gdp.TableName.str.contains(\"Sao\")]"
   ]
  },
  {
   "cell_type": "code",
   "execution_count": 337,
   "metadata": {
    "colab": {
     "base_uri": "https://localhost:8080/",
     "height": 0
    },
    "id": "2xmN9Mzg6xss",
    "outputId": "0604cc1f-1597-43dc-f9d8-b7151510e799"
   },
   "outputs": [
    {
     "data": {
      "text/html": [
       "<div>\n",
       "<style scoped>\n",
       "    .dataframe tbody tr th:only-of-type {\n",
       "        vertical-align: middle;\n",
       "    }\n",
       "\n",
       "    .dataframe tbody tr th {\n",
       "        vertical-align: top;\n",
       "    }\n",
       "\n",
       "    .dataframe thead th {\n",
       "        text-align: right;\n",
       "    }\n",
       "</style>\n",
       "<table border=\"1\" class=\"dataframe\">\n",
       "  <thead>\n",
       "    <tr style=\"text-align: right;\">\n",
       "      <th></th>\n",
       "      <th>Country Code</th>\n",
       "      <th>Region</th>\n",
       "      <th>IncomeGroup</th>\n",
       "      <th>TableName</th>\n",
       "    </tr>\n",
       "  </thead>\n",
       "  <tbody>\n",
       "    <tr>\n",
       "      <th>216</th>\n",
       "      <td>STP</td>\n",
       "      <td>Sub-Saharan Africa</td>\n",
       "      <td>Lower middle income</td>\n",
       "      <td>São Tomé and Principe</td>\n",
       "    </tr>\n",
       "  </tbody>\n",
       "</table>\n",
       "</div>"
      ],
      "text/plain": [
       "    Country Code              Region          IncomeGroup  \\\n",
       "216          STP  Sub-Saharan Africa  Lower middle income   \n",
       "\n",
       "                 TableName  \n",
       "216  São Tomé and Principe  "
      ]
     },
     "execution_count": 337,
     "metadata": {},
     "output_type": "execute_result"
    }
   ],
   "source": [
    "df_gdp[df_gdp.TableName.str.contains(\"Prin\")]"
   ]
  },
  {
   "cell_type": "code",
   "execution_count": 338,
   "metadata": {
    "id": "efOVOs5s7rGN"
   },
   "outputs": [
    {
     "name": "stdout",
     "output_type": "stream",
     "text": [
      "out : Czechia\n",
      "out : Democratic Republic of the Congo\n",
      "out : Kyrgyzstan\n",
      "out : Lao People's Democratic Republic\n",
      "out : Republic of Moldova\n",
      "out : Saint Lucia\n",
      "out : Saint Vincent and the Grenadines\n",
      "out : United Kingdom of Great Britain and Northern Ireland\n",
      "out : United Republic of Tanzania\n",
      "out : United States of America\n",
      "out : Viet Nam\n",
      "11 MISMATCH(ES) BETWEEN THOSE DATAFRAMES\n"
     ]
    }
   ],
   "source": [
    "df_gdp.loc[df_gdp.TableName.str.contains(\"Prin\"), \"TableName\"] = \"Sao Tome and Principe\"\n",
    "mismatch(df_rearanged.Country, df_gdp.TableName, True)"
   ]
  },
  {
   "cell_type": "code",
   "execution_count": 339,
   "metadata": {
    "colab": {
     "base_uri": "https://localhost:8080/",
     "height": 0
    },
    "id": "Nra1JRC-86PC",
    "outputId": "1b69c130-5ab1-4eb6-c8a2-fe0dab268677"
   },
   "outputs": [
    {
     "data": {
      "text/html": [
       "<div>\n",
       "<style scoped>\n",
       "    .dataframe tbody tr th:only-of-type {\n",
       "        vertical-align: middle;\n",
       "    }\n",
       "\n",
       "    .dataframe tbody tr th {\n",
       "        vertical-align: top;\n",
       "    }\n",
       "\n",
       "    .dataframe thead th {\n",
       "        text-align: right;\n",
       "    }\n",
       "</style>\n",
       "<table border=\"1\" class=\"dataframe\">\n",
       "  <thead>\n",
       "    <tr style=\"text-align: right;\">\n",
       "      <th></th>\n",
       "      <th>Country Code</th>\n",
       "      <th>Region</th>\n",
       "      <th>IncomeGroup</th>\n",
       "      <th>TableName</th>\n",
       "    </tr>\n",
       "  </thead>\n",
       "  <tbody>\n",
       "    <tr>\n",
       "      <th>41</th>\n",
       "      <td>COD</td>\n",
       "      <td>Sub-Saharan Africa</td>\n",
       "      <td>Low income</td>\n",
       "      <td>Congo</td>\n",
       "    </tr>\n",
       "    <tr>\n",
       "      <th>42</th>\n",
       "      <td>COG</td>\n",
       "      <td>Sub-Saharan Africa</td>\n",
       "      <td>Lower middle income</td>\n",
       "      <td>Congo</td>\n",
       "    </tr>\n",
       "  </tbody>\n",
       "</table>\n",
       "</div>"
      ],
      "text/plain": [
       "   Country Code              Region          IncomeGroup TableName\n",
       "41          COD  Sub-Saharan Africa           Low income     Congo\n",
       "42          COG  Sub-Saharan Africa  Lower middle income     Congo"
      ]
     },
     "execution_count": 339,
     "metadata": {},
     "output_type": "execute_result"
    }
   ],
   "source": [
    "#Focus on Congo\n",
    "df_gdp[df_gdp.TableName.str.contains(\"Congo\")]"
   ]
  },
  {
   "cell_type": "code",
   "execution_count": 340,
   "metadata": {
    "id": "pSJpustt8lFd"
   },
   "outputs": [
    {
     "name": "stdout",
     "output_type": "stream",
     "text": [
      "out : Czechia\n",
      "out : Kyrgyzstan\n",
      "out : Lao People's Democratic Republic\n",
      "out : Republic of Moldova\n",
      "out : Saint Lucia\n",
      "out : Saint Vincent and the Grenadines\n",
      "out : United Kingdom of Great Britain and Northern Ireland\n",
      "out : United Republic of Tanzania\n",
      "out : United States of America\n",
      "out : Viet Nam\n",
      "10 MISMATCH(ES) BETWEEN THOSE DATAFRAMES\n"
     ]
    }
   ],
   "source": [
    "df_gdp.loc[((df_gdp.TableName.str.contains(\"Congo\")) & (df_gdp[\"Country Code\"] == \"COD\")), \"TableName\"] = \"Democratic Republic of the Congo\"\n",
    "mismatch(df_rearanged.Country, df_gdp.TableName, True)"
   ]
  },
  {
   "cell_type": "code",
   "execution_count": 341,
   "metadata": {
    "colab": {
     "base_uri": "https://localhost:8080/",
     "height": 0
    },
    "id": "sf5p6ubu81n9",
    "outputId": "8b1fe659-263a-4380-9ee1-55c7c3dee1cd"
   },
   "outputs": [
    {
     "data": {
      "text/html": [
       "<div>\n",
       "<style scoped>\n",
       "    .dataframe tbody tr th:only-of-type {\n",
       "        vertical-align: middle;\n",
       "    }\n",
       "\n",
       "    .dataframe tbody tr th {\n",
       "        vertical-align: top;\n",
       "    }\n",
       "\n",
       "    .dataframe thead th {\n",
       "        text-align: right;\n",
       "    }\n",
       "</style>\n",
       "<table border=\"1\" class=\"dataframe\">\n",
       "  <thead>\n",
       "    <tr style=\"text-align: right;\">\n",
       "      <th></th>\n",
       "      <th>Country Code</th>\n",
       "      <th>Region</th>\n",
       "      <th>IncomeGroup</th>\n",
       "      <th>TableName</th>\n",
       "    </tr>\n",
       "  </thead>\n",
       "  <tbody>\n",
       "    <tr>\n",
       "      <th>130</th>\n",
       "      <td>LCA</td>\n",
       "      <td>Latin America &amp; Caribbean</td>\n",
       "      <td>Upper middle income</td>\n",
       "      <td>St. Lucia</td>\n",
       "    </tr>\n",
       "  </tbody>\n",
       "</table>\n",
       "</div>"
      ],
      "text/plain": [
       "    Country Code                     Region          IncomeGroup  TableName\n",
       "130          LCA  Latin America & Caribbean  Upper middle income  St. Lucia"
      ]
     },
     "execution_count": 341,
     "metadata": {},
     "output_type": "execute_result"
    }
   ],
   "source": [
    "# Focus on \"Lucia\"\n",
    "df_gdp[df_gdp.TableName.str.contains(\"Lucia\")]"
   ]
  },
  {
   "cell_type": "code",
   "execution_count": 342,
   "metadata": {
    "id": "oDoX0EcCA0Ve"
   },
   "outputs": [
    {
     "name": "stdout",
     "output_type": "stream",
     "text": [
      "out : Czechia\n",
      "out : Kyrgyzstan\n",
      "out : Lao People's Democratic Republic\n",
      "out : Republic of Moldova\n",
      "out : Saint Vincent and the Grenadines\n",
      "out : United Kingdom of Great Britain and Northern Ireland\n",
      "out : United Republic of Tanzania\n",
      "out : United States of America\n",
      "out : Viet Nam\n",
      "9 MISMATCH(ES) BETWEEN THOSE DATAFRAMES\n"
     ]
    }
   ],
   "source": [
    "df_gdp.loc[df_gdp.TableName.str.contains(\"Lucia\"), \"TableName\"] = \"Saint Lucia\"\n",
    "mismatch(df_rearanged.Country, df_gdp.TableName, True)"
   ]
  },
  {
   "cell_type": "code",
   "execution_count": 343,
   "metadata": {
    "id": "_Sw68g35BGev"
   },
   "outputs": [],
   "source": [
    "# Focus on \"Czechia\"\n",
    "def finder(value = \"\"):\n",
    "    if df_gdp.TableName.str.contains(value).sum():\n",
    "        display(df_gdp[df_gdp.TableName.str.contains(value)])\n",
    "    return df_rearanged[df_rearanged[\"Country\"].str.contains(value)][\"Country\"].values[0]"
   ]
  },
  {
   "cell_type": "code",
   "execution_count": 344,
   "metadata": {
    "colab": {
     "base_uri": "https://localhost:8080/",
     "height": 0
    },
    "id": "6PRKtkTrBjql",
    "outputId": "62b24c35-ffdf-43b6-d80e-73f96bdbdd51"
   },
   "outputs": [
    {
     "data": {
      "text/html": [
       "<div>\n",
       "<style scoped>\n",
       "    .dataframe tbody tr th:only-of-type {\n",
       "        vertical-align: middle;\n",
       "    }\n",
       "\n",
       "    .dataframe tbody tr th {\n",
       "        vertical-align: top;\n",
       "    }\n",
       "\n",
       "    .dataframe thead th {\n",
       "        text-align: right;\n",
       "    }\n",
       "</style>\n",
       "<table border=\"1\" class=\"dataframe\">\n",
       "  <thead>\n",
       "    <tr style=\"text-align: right;\">\n",
       "      <th></th>\n",
       "      <th>Country Code</th>\n",
       "      <th>Region</th>\n",
       "      <th>IncomeGroup</th>\n",
       "      <th>TableName</th>\n",
       "    </tr>\n",
       "  </thead>\n",
       "  <tbody>\n",
       "    <tr>\n",
       "      <th>52</th>\n",
       "      <td>CZE</td>\n",
       "      <td>Europe &amp; Central Asia</td>\n",
       "      <td>High income</td>\n",
       "      <td>Czech Republic</td>\n",
       "    </tr>\n",
       "  </tbody>\n",
       "</table>\n",
       "</div>"
      ],
      "text/plain": [
       "   Country Code                 Region  IncomeGroup       TableName\n",
       "52          CZE  Europe & Central Asia  High income  Czech Republic"
      ]
     },
     "metadata": {},
     "output_type": "display_data"
    },
    {
     "data": {
      "text/plain": [
       "'Czechia'"
      ]
     },
     "execution_count": 344,
     "metadata": {},
     "output_type": "execute_result"
    }
   ],
   "source": [
    "finder(\"Czec\")"
   ]
  },
  {
   "cell_type": "code",
   "execution_count": 345,
   "metadata": {
    "id": "3wDj_vPYBoAu"
   },
   "outputs": [],
   "source": [
    "def changer(last_val =\"\", first_val=\"\"):\n",
    "    df_gdp.loc[df_gdp.TableName.str.contains(first_val), \"TableName\"] = last_val"
   ]
  },
  {
   "cell_type": "code",
   "execution_count": 346,
   "metadata": {
    "colab": {
     "base_uri": "https://localhost:8080/"
    },
    "id": "fIC4G4stFIrf",
    "outputId": "8a2d811c-c4ff-47de-b050-2caa7b1b6b7a"
   },
   "outputs": [
    {
     "data": {
      "text/html": [
       "<div>\n",
       "<style scoped>\n",
       "    .dataframe tbody tr th:only-of-type {\n",
       "        vertical-align: middle;\n",
       "    }\n",
       "\n",
       "    .dataframe tbody tr th {\n",
       "        vertical-align: top;\n",
       "    }\n",
       "\n",
       "    .dataframe thead th {\n",
       "        text-align: right;\n",
       "    }\n",
       "</style>\n",
       "<table border=\"1\" class=\"dataframe\">\n",
       "  <thead>\n",
       "    <tr style=\"text-align: right;\">\n",
       "      <th></th>\n",
       "      <th>Country Code</th>\n",
       "      <th>Region</th>\n",
       "      <th>IncomeGroup</th>\n",
       "      <th>TableName</th>\n",
       "    </tr>\n",
       "  </thead>\n",
       "  <tbody>\n",
       "    <tr>\n",
       "      <th>52</th>\n",
       "      <td>CZE</td>\n",
       "      <td>Europe &amp; Central Asia</td>\n",
       "      <td>High income</td>\n",
       "      <td>Czech Republic</td>\n",
       "    </tr>\n",
       "  </tbody>\n",
       "</table>\n",
       "</div>"
      ],
      "text/plain": [
       "   Country Code                 Region  IncomeGroup       TableName\n",
       "52          CZE  Europe & Central Asia  High income  Czech Republic"
      ]
     },
     "metadata": {},
     "output_type": "display_data"
    }
   ],
   "source": [
    "changer(last_val=finder(\"Czec\"), first_val=\"Czec\")"
   ]
  },
  {
   "cell_type": "code",
   "execution_count": 347,
   "metadata": {
    "colab": {
     "base_uri": "https://localhost:8080/"
    },
    "id": "BaCcJ3FfFpRD",
    "outputId": "fe6a3051-f715-4532-9f4b-bd4a8223d389"
   },
   "outputs": [
    {
     "name": "stdout",
     "output_type": "stream",
     "text": [
      "out : Kyrgyzstan\n",
      "out : Lao People's Democratic Republic\n",
      "out : Republic of Moldova\n",
      "out : Saint Vincent and the Grenadines\n",
      "out : United Kingdom of Great Britain and Northern Ireland\n",
      "out : United Republic of Tanzania\n",
      "out : United States of America\n",
      "out : Viet Nam\n",
      "8 MISMATCH(ES) BETWEEN THOSE DATAFRAMES\n"
     ]
    }
   ],
   "source": [
    "mismatch(df_rearanged.Country, df_gdp.TableName, True)"
   ]
  },
  {
   "cell_type": "code",
   "execution_count": 348,
   "metadata": {
    "colab": {
     "base_uri": "https://localhost:8080/",
     "height": 0
    },
    "id": "Q68CELuGHxKc",
    "outputId": "1850c6d1-5889-4802-93d5-4a02cdedae3d"
   },
   "outputs": [
    {
     "data": {
      "text/html": [
       "<div>\n",
       "<style scoped>\n",
       "    .dataframe tbody tr th:only-of-type {\n",
       "        vertical-align: middle;\n",
       "    }\n",
       "\n",
       "    .dataframe tbody tr th {\n",
       "        vertical-align: top;\n",
       "    }\n",
       "\n",
       "    .dataframe thead th {\n",
       "        text-align: right;\n",
       "    }\n",
       "</style>\n",
       "<table border=\"1\" class=\"dataframe\">\n",
       "  <thead>\n",
       "    <tr style=\"text-align: right;\">\n",
       "      <th></th>\n",
       "      <th>Country Code</th>\n",
       "      <th>Region</th>\n",
       "      <th>IncomeGroup</th>\n",
       "      <th>TableName</th>\n",
       "    </tr>\n",
       "  </thead>\n",
       "  <tbody>\n",
       "    <tr>\n",
       "      <th>119</th>\n",
       "      <td>KGZ</td>\n",
       "      <td>Europe &amp; Central Asia</td>\n",
       "      <td>Lower middle income</td>\n",
       "      <td>Kyrgyz Republic</td>\n",
       "    </tr>\n",
       "  </tbody>\n",
       "</table>\n",
       "</div>"
      ],
      "text/plain": [
       "    Country Code                 Region          IncomeGroup        TableName\n",
       "119          KGZ  Europe & Central Asia  Lower middle income  Kyrgyz Republic"
      ]
     },
     "metadata": {},
     "output_type": "display_data"
    },
    {
     "data": {
      "text/plain": [
       "'Kyrgyzstan'"
      ]
     },
     "execution_count": 348,
     "metadata": {},
     "output_type": "execute_result"
    }
   ],
   "source": [
    "# Focus on \"Kyrgyzstan\"\n",
    "finder(\"Kyrg\")"
   ]
  },
  {
   "cell_type": "code",
   "execution_count": 349,
   "metadata": {
    "colab": {
     "base_uri": "https://localhost:8080/"
    },
    "id": "NEooPEh78Fc0",
    "outputId": "30f61baf-5330-4247-901c-720b875fb0b4"
   },
   "outputs": [
    {
     "data": {
      "text/html": [
       "<div>\n",
       "<style scoped>\n",
       "    .dataframe tbody tr th:only-of-type {\n",
       "        vertical-align: middle;\n",
       "    }\n",
       "\n",
       "    .dataframe tbody tr th {\n",
       "        vertical-align: top;\n",
       "    }\n",
       "\n",
       "    .dataframe thead th {\n",
       "        text-align: right;\n",
       "    }\n",
       "</style>\n",
       "<table border=\"1\" class=\"dataframe\">\n",
       "  <thead>\n",
       "    <tr style=\"text-align: right;\">\n",
       "      <th></th>\n",
       "      <th>Country Code</th>\n",
       "      <th>Region</th>\n",
       "      <th>IncomeGroup</th>\n",
       "      <th>TableName</th>\n",
       "    </tr>\n",
       "  </thead>\n",
       "  <tbody>\n",
       "    <tr>\n",
       "      <th>119</th>\n",
       "      <td>KGZ</td>\n",
       "      <td>Europe &amp; Central Asia</td>\n",
       "      <td>Lower middle income</td>\n",
       "      <td>Kyrgyz Republic</td>\n",
       "    </tr>\n",
       "  </tbody>\n",
       "</table>\n",
       "</div>"
      ],
      "text/plain": [
       "    Country Code                 Region          IncomeGroup        TableName\n",
       "119          KGZ  Europe & Central Asia  Lower middle income  Kyrgyz Republic"
      ]
     },
     "metadata": {},
     "output_type": "display_data"
    }
   ],
   "source": [
    "changer(finder(\"Kyrg\"), \"Kyrg\")"
   ]
  },
  {
   "cell_type": "code",
   "execution_count": 350,
   "metadata": {
    "colab": {
     "base_uri": "https://localhost:8080/"
    },
    "id": "gfiel4pL8k7s",
    "outputId": "9d008efc-08f1-4c33-fe65-e1cc63a347d9"
   },
   "outputs": [
    {
     "data": {
      "text/html": [
       "<div>\n",
       "<style scoped>\n",
       "    .dataframe tbody tr th:only-of-type {\n",
       "        vertical-align: middle;\n",
       "    }\n",
       "\n",
       "    .dataframe tbody tr th {\n",
       "        vertical-align: top;\n",
       "    }\n",
       "\n",
       "    .dataframe thead th {\n",
       "        text-align: right;\n",
       "    }\n",
       "</style>\n",
       "<table border=\"1\" class=\"dataframe\">\n",
       "  <thead>\n",
       "    <tr style=\"text-align: right;\">\n",
       "      <th></th>\n",
       "      <th>Country Code</th>\n",
       "      <th>Region</th>\n",
       "      <th>IncomeGroup</th>\n",
       "      <th>TableName</th>\n",
       "    </tr>\n",
       "  </thead>\n",
       "  <tbody>\n",
       "    <tr>\n",
       "      <th>126</th>\n",
       "      <td>LAO</td>\n",
       "      <td>East Asia &amp; Pacific</td>\n",
       "      <td>Lower middle income</td>\n",
       "      <td>Lao PDR</td>\n",
       "    </tr>\n",
       "  </tbody>\n",
       "</table>\n",
       "</div>"
      ],
      "text/plain": [
       "    Country Code               Region          IncomeGroup TableName\n",
       "126          LAO  East Asia & Pacific  Lower middle income   Lao PDR"
      ]
     },
     "metadata": {},
     "output_type": "display_data"
    }
   ],
   "source": [
    "# Focus on \"Lao\"\n",
    "changer(finder(\"Lao\"), \"Lao\")"
   ]
  },
  {
   "cell_type": "code",
   "execution_count": 351,
   "metadata": {
    "colab": {
     "base_uri": "https://localhost:8080/"
    },
    "id": "Owq7QBjp87GT",
    "outputId": "8c58bfc1-186f-4737-9729-0e55e5532d32"
   },
   "outputs": [
    {
     "data": {
      "text/html": [
       "<div>\n",
       "<style scoped>\n",
       "    .dataframe tbody tr th:only-of-type {\n",
       "        vertical-align: middle;\n",
       "    }\n",
       "\n",
       "    .dataframe tbody tr th {\n",
       "        vertical-align: top;\n",
       "    }\n",
       "\n",
       "    .dataframe thead th {\n",
       "        text-align: right;\n",
       "    }\n",
       "</style>\n",
       "<table border=\"1\" class=\"dataframe\">\n",
       "  <thead>\n",
       "    <tr style=\"text-align: right;\">\n",
       "      <th></th>\n",
       "      <th>Country Code</th>\n",
       "      <th>Region</th>\n",
       "      <th>IncomeGroup</th>\n",
       "      <th>TableName</th>\n",
       "    </tr>\n",
       "  </thead>\n",
       "  <tbody>\n",
       "    <tr>\n",
       "      <th>147</th>\n",
       "      <td>MDA</td>\n",
       "      <td>Europe &amp; Central Asia</td>\n",
       "      <td>Lower middle income</td>\n",
       "      <td>Moldova</td>\n",
       "    </tr>\n",
       "  </tbody>\n",
       "</table>\n",
       "</div>"
      ],
      "text/plain": [
       "    Country Code                 Region          IncomeGroup TableName\n",
       "147          MDA  Europe & Central Asia  Lower middle income   Moldova"
      ]
     },
     "metadata": {},
     "output_type": "display_data"
    }
   ],
   "source": [
    "# Focus on \"Moldova\"\n",
    "changer(finder(\"Moldova\"), \"Moldova\")"
   ]
  },
  {
   "cell_type": "code",
   "execution_count": 352,
   "metadata": {
    "colab": {
     "base_uri": "https://localhost:8080/"
    },
    "id": "AkALVeTm9PZr",
    "outputId": "7acde52d-722b-40cb-bff0-31dee8f4d6c2"
   },
   "outputs": [
    {
     "data": {
      "text/html": [
       "<div>\n",
       "<style scoped>\n",
       "    .dataframe tbody tr th:only-of-type {\n",
       "        vertical-align: middle;\n",
       "    }\n",
       "\n",
       "    .dataframe tbody tr th {\n",
       "        vertical-align: top;\n",
       "    }\n",
       "\n",
       "    .dataframe thead th {\n",
       "        text-align: right;\n",
       "    }\n",
       "</style>\n",
       "<table border=\"1\" class=\"dataframe\">\n",
       "  <thead>\n",
       "    <tr style=\"text-align: right;\">\n",
       "      <th></th>\n",
       "      <th>Country Code</th>\n",
       "      <th>Region</th>\n",
       "      <th>IncomeGroup</th>\n",
       "      <th>TableName</th>\n",
       "    </tr>\n",
       "  </thead>\n",
       "  <tbody>\n",
       "    <tr>\n",
       "      <th>250</th>\n",
       "      <td>VCT</td>\n",
       "      <td>Latin America &amp; Caribbean</td>\n",
       "      <td>Upper middle income</td>\n",
       "      <td>St. Vincent and the Grenadines</td>\n",
       "    </tr>\n",
       "  </tbody>\n",
       "</table>\n",
       "</div>"
      ],
      "text/plain": [
       "    Country Code                     Region          IncomeGroup  \\\n",
       "250          VCT  Latin America & Caribbean  Upper middle income   \n",
       "\n",
       "                          TableName  \n",
       "250  St. Vincent and the Grenadines  "
      ]
     },
     "metadata": {},
     "output_type": "display_data"
    }
   ],
   "source": [
    "# Focus on \"Vincent\"\n",
    "changer(finder(\"Vincent\"), \"Vincent \")"
   ]
  },
  {
   "cell_type": "code",
   "execution_count": 353,
   "metadata": {
    "colab": {
     "base_uri": "https://localhost:8080/"
    },
    "id": "hN3-Hc2u9dCT",
    "outputId": "f20031f9-989e-4586-cf88-9a570bab55a2"
   },
   "outputs": [
    {
     "data": {
      "text/html": [
       "<div>\n",
       "<style scoped>\n",
       "    .dataframe tbody tr th:only-of-type {\n",
       "        vertical-align: middle;\n",
       "    }\n",
       "\n",
       "    .dataframe tbody tr th {\n",
       "        vertical-align: top;\n",
       "    }\n",
       "\n",
       "    .dataframe thead th {\n",
       "        text-align: right;\n",
       "    }\n",
       "</style>\n",
       "<table border=\"1\" class=\"dataframe\">\n",
       "  <thead>\n",
       "    <tr style=\"text-align: right;\">\n",
       "      <th></th>\n",
       "      <th>Country Code</th>\n",
       "      <th>Region</th>\n",
       "      <th>IncomeGroup</th>\n",
       "      <th>TableName</th>\n",
       "    </tr>\n",
       "  </thead>\n",
       "  <tbody>\n",
       "    <tr>\n",
       "      <th>79</th>\n",
       "      <td>GBR</td>\n",
       "      <td>Europe &amp; Central Asia</td>\n",
       "      <td>High income</td>\n",
       "      <td>United Kingdom</td>\n",
       "    </tr>\n",
       "  </tbody>\n",
       "</table>\n",
       "</div>"
      ],
      "text/plain": [
       "   Country Code                 Region  IncomeGroup       TableName\n",
       "79          GBR  Europe & Central Asia  High income  United Kingdom"
      ]
     },
     "metadata": {},
     "output_type": "display_data"
    }
   ],
   "source": [
    "# Focus on \"United Kingdom\"\n",
    "changer(finder(\"United Kingdom\"), \"United Kingdom\") #great britain didnt work"
   ]
  },
  {
   "cell_type": "code",
   "execution_count": 354,
   "metadata": {
    "colab": {
     "base_uri": "https://localhost:8080/"
    },
    "id": "KEa4PZIj9c_m",
    "outputId": "f8930669-24d3-46a2-804e-789eb061be4f"
   },
   "outputs": [
    {
     "data": {
      "text/html": [
       "<div>\n",
       "<style scoped>\n",
       "    .dataframe tbody tr th:only-of-type {\n",
       "        vertical-align: middle;\n",
       "    }\n",
       "\n",
       "    .dataframe tbody tr th {\n",
       "        vertical-align: top;\n",
       "    }\n",
       "\n",
       "    .dataframe thead th {\n",
       "        text-align: right;\n",
       "    }\n",
       "</style>\n",
       "<table border=\"1\" class=\"dataframe\">\n",
       "  <thead>\n",
       "    <tr style=\"text-align: right;\">\n",
       "      <th></th>\n",
       "      <th>Country Code</th>\n",
       "      <th>Region</th>\n",
       "      <th>IncomeGroup</th>\n",
       "      <th>TableName</th>\n",
       "    </tr>\n",
       "  </thead>\n",
       "  <tbody>\n",
       "    <tr>\n",
       "      <th>243</th>\n",
       "      <td>TZA</td>\n",
       "      <td>Sub-Saharan Africa</td>\n",
       "      <td>Lower middle income</td>\n",
       "      <td>Tanzania</td>\n",
       "    </tr>\n",
       "  </tbody>\n",
       "</table>\n",
       "</div>"
      ],
      "text/plain": [
       "    Country Code              Region          IncomeGroup TableName\n",
       "243          TZA  Sub-Saharan Africa  Lower middle income  Tanzania"
      ]
     },
     "metadata": {},
     "output_type": "display_data"
    }
   ],
   "source": [
    "# Focus on \"Tanzania\"\n",
    "changer(finder(\"Tanz\"), \"Tanz\") "
   ]
  },
  {
   "cell_type": "code",
   "execution_count": 355,
   "metadata": {
    "colab": {
     "base_uri": "https://localhost:8080/"
    },
    "id": "Lte73Yaa9c8v",
    "outputId": "56561f38-a53c-45d6-c2b4-c9e99dbfd8d5"
   },
   "outputs": [
    {
     "data": {
      "text/html": [
       "<div>\n",
       "<style scoped>\n",
       "    .dataframe tbody tr th:only-of-type {\n",
       "        vertical-align: middle;\n",
       "    }\n",
       "\n",
       "    .dataframe tbody tr th {\n",
       "        vertical-align: top;\n",
       "    }\n",
       "\n",
       "    .dataframe thead th {\n",
       "        text-align: right;\n",
       "    }\n",
       "</style>\n",
       "<table border=\"1\" class=\"dataframe\">\n",
       "  <thead>\n",
       "    <tr style=\"text-align: right;\">\n",
       "      <th></th>\n",
       "      <th>Country Code</th>\n",
       "      <th>Region</th>\n",
       "      <th>IncomeGroup</th>\n",
       "      <th>TableName</th>\n",
       "    </tr>\n",
       "  </thead>\n",
       "  <tbody>\n",
       "    <tr>\n",
       "      <th>248</th>\n",
       "      <td>USA</td>\n",
       "      <td>North America</td>\n",
       "      <td>High income</td>\n",
       "      <td>United States</td>\n",
       "    </tr>\n",
       "  </tbody>\n",
       "</table>\n",
       "</div>"
      ],
      "text/plain": [
       "    Country Code         Region  IncomeGroup      TableName\n",
       "248          USA  North America  High income  United States"
      ]
     },
     "metadata": {},
     "output_type": "display_data"
    }
   ],
   "source": [
    "# Focus on \"United States\"\n",
    "changer(finder(\"States\"), \"States\")"
   ]
  },
  {
   "cell_type": "code",
   "execution_count": 356,
   "metadata": {
    "colab": {
     "base_uri": "https://localhost:8080/"
    },
    "id": "vjY4C5ur9c6H",
    "outputId": "6cb20eda-3711-4363-99b5-17222d50ee75"
   },
   "outputs": [
    {
     "data": {
      "text/html": [
       "<div>\n",
       "<style scoped>\n",
       "    .dataframe tbody tr th:only-of-type {\n",
       "        vertical-align: middle;\n",
       "    }\n",
       "\n",
       "    .dataframe tbody tr th {\n",
       "        vertical-align: top;\n",
       "    }\n",
       "\n",
       "    .dataframe thead th {\n",
       "        text-align: right;\n",
       "    }\n",
       "</style>\n",
       "<table border=\"1\" class=\"dataframe\">\n",
       "  <thead>\n",
       "    <tr style=\"text-align: right;\">\n",
       "      <th></th>\n",
       "      <th>Country Code</th>\n",
       "      <th>Region</th>\n",
       "      <th>IncomeGroup</th>\n",
       "      <th>TableName</th>\n",
       "    </tr>\n",
       "  </thead>\n",
       "  <tbody>\n",
       "    <tr>\n",
       "      <th>254</th>\n",
       "      <td>VNM</td>\n",
       "      <td>East Asia &amp; Pacific</td>\n",
       "      <td>Lower middle income</td>\n",
       "      <td>Vietnam</td>\n",
       "    </tr>\n",
       "  </tbody>\n",
       "</table>\n",
       "</div>"
      ],
      "text/plain": [
       "    Country Code               Region          IncomeGroup TableName\n",
       "254          VNM  East Asia & Pacific  Lower middle income   Vietnam"
      ]
     },
     "metadata": {},
     "output_type": "display_data"
    }
   ],
   "source": [
    "# Focus on \"Vietnam\"\n",
    "changer(finder(\"Viet\"), \"Viet\")"
   ]
  },
  {
   "cell_type": "code",
   "execution_count": 357,
   "metadata": {
    "colab": {
     "base_uri": "https://localhost:8080/"
    },
    "id": "ha9xhNHe-67T",
    "outputId": "6254c71a-f681-4924-eda1-ff775e6304a8"
   },
   "outputs": [
    {
     "name": "stdout",
     "output_type": "stream",
     "text": [
      "0 MISMATCH(ES) BETWEEN THOSE DATAFRAMES\n"
     ]
    }
   ],
   "source": [
    "mismatch(df_rearanged.Country, df_gdp.TableName, True)"
   ]
  },
  {
   "cell_type": "markdown",
   "metadata": {
    "id": "J6Si9_pFAW34"
   },
   "source": [
    "# REMERGE"
   ]
  },
  {
   "cell_type": "code",
   "execution_count": 358,
   "metadata": {
    "colab": {
     "base_uri": "https://localhost:8080/",
     "height": 0
    },
    "id": "4cmOSuBt-_3N",
    "outputId": "ba7b466c-0cc3-4bd0-9ae3-7357dced0edb"
   },
   "outputs": [
    {
     "data": {
      "text/html": [
       "<div>\n",
       "<style scoped>\n",
       "    .dataframe tbody tr th:only-of-type {\n",
       "        vertical-align: middle;\n",
       "    }\n",
       "\n",
       "    .dataframe tbody tr th {\n",
       "        vertical-align: top;\n",
       "    }\n",
       "\n",
       "    .dataframe thead th {\n",
       "        text-align: right;\n",
       "    }\n",
       "</style>\n",
       "<table border=\"1\" class=\"dataframe\">\n",
       "  <thead>\n",
       "    <tr style=\"text-align: right;\">\n",
       "      <th></th>\n",
       "      <th>Country</th>\n",
       "      <th>Year</th>\n",
       "      <th>Causes</th>\n",
       "      <th>Both sexes_recent</th>\n",
       "      <th>Both sexes_min</th>\n",
       "      <th>Both sexes_max</th>\n",
       "      <th>Male_recent</th>\n",
       "      <th>Male_min</th>\n",
       "      <th>Male_max</th>\n",
       "      <th>Female_recent</th>\n",
       "      <th>Female_min</th>\n",
       "      <th>Female_max</th>\n",
       "      <th>Country Code</th>\n",
       "      <th>Region</th>\n",
       "      <th>IncomeGroup</th>\n",
       "      <th>TableName</th>\n",
       "    </tr>\n",
       "  </thead>\n",
       "  <tbody>\n",
       "    <tr>\n",
       "      <th>0</th>\n",
       "      <td>Afghanistan</td>\n",
       "      <td>2019</td>\n",
       "      <td>Malignant neoplasms</td>\n",
       "      <td>15565</td>\n",
       "      <td>7609</td>\n",
       "      <td>28280</td>\n",
       "      <td>7756</td>\n",
       "      <td>3898</td>\n",
       "      <td>13841</td>\n",
       "      <td>7809</td>\n",
       "      <td>3711</td>\n",
       "      <td>14439</td>\n",
       "      <td>AFG</td>\n",
       "      <td>South Asia</td>\n",
       "      <td>Low income</td>\n",
       "      <td>Afghanistan</td>\n",
       "    </tr>\n",
       "    <tr>\n",
       "      <th>1</th>\n",
       "      <td>Afghanistan</td>\n",
       "      <td>2019</td>\n",
       "      <td>Diabetes mellitus</td>\n",
       "      <td>8060</td>\n",
       "      <td>3827</td>\n",
       "      <td>14468</td>\n",
       "      <td>2612</td>\n",
       "      <td>1377</td>\n",
       "      <td>4651</td>\n",
       "      <td>5448</td>\n",
       "      <td>2451</td>\n",
       "      <td>9817</td>\n",
       "      <td>AFG</td>\n",
       "      <td>South Asia</td>\n",
       "      <td>Low income</td>\n",
       "      <td>Afghanistan</td>\n",
       "    </tr>\n",
       "    <tr>\n",
       "      <th>2</th>\n",
       "      <td>Afghanistan</td>\n",
       "      <td>2019</td>\n",
       "      <td>Cardiovascular diseases</td>\n",
       "      <td>71264</td>\n",
       "      <td>42413</td>\n",
       "      <td>108472</td>\n",
       "      <td>33793</td>\n",
       "      <td>20550</td>\n",
       "      <td>51028</td>\n",
       "      <td>37471</td>\n",
       "      <td>21863</td>\n",
       "      <td>57444</td>\n",
       "      <td>AFG</td>\n",
       "      <td>South Asia</td>\n",
       "      <td>Low income</td>\n",
       "      <td>Afghanistan</td>\n",
       "    </tr>\n",
       "    <tr>\n",
       "      <th>3</th>\n",
       "      <td>Afghanistan</td>\n",
       "      <td>2019</td>\n",
       "      <td>Chronic respiratory diseases</td>\n",
       "      <td>8285</td>\n",
       "      <td>3618</td>\n",
       "      <td>14626</td>\n",
       "      <td>3920</td>\n",
       "      <td>1877</td>\n",
       "      <td>6745</td>\n",
       "      <td>4365</td>\n",
       "      <td>1741</td>\n",
       "      <td>7881</td>\n",
       "      <td>AFG</td>\n",
       "      <td>South Asia</td>\n",
       "      <td>Low income</td>\n",
       "      <td>Afghanistan</td>\n",
       "    </tr>\n",
       "    <tr>\n",
       "      <th>4</th>\n",
       "      <td>Afghanistan</td>\n",
       "      <td>2018</td>\n",
       "      <td>Malignant neoplasms</td>\n",
       "      <td>15065</td>\n",
       "      <td>7337</td>\n",
       "      <td>27401</td>\n",
       "      <td>7534</td>\n",
       "      <td>3766</td>\n",
       "      <td>13454</td>\n",
       "      <td>7531</td>\n",
       "      <td>3570</td>\n",
       "      <td>13948</td>\n",
       "      <td>AFG</td>\n",
       "      <td>South Asia</td>\n",
       "      <td>Low income</td>\n",
       "      <td>Afghanistan</td>\n",
       "    </tr>\n",
       "    <tr>\n",
       "      <th>...</th>\n",
       "      <td>...</td>\n",
       "      <td>...</td>\n",
       "      <td>...</td>\n",
       "      <td>...</td>\n",
       "      <td>...</td>\n",
       "      <td>...</td>\n",
       "      <td>...</td>\n",
       "      <td>...</td>\n",
       "      <td>...</td>\n",
       "      <td>...</td>\n",
       "      <td>...</td>\n",
       "      <td>...</td>\n",
       "      <td>...</td>\n",
       "      <td>...</td>\n",
       "      <td>...</td>\n",
       "      <td>...</td>\n",
       "    </tr>\n",
       "    <tr>\n",
       "      <th>14635</th>\n",
       "      <td>Zimbabwe</td>\n",
       "      <td>2001</td>\n",
       "      <td>Chronic respiratory diseases</td>\n",
       "      <td>1884</td>\n",
       "      <td>1044</td>\n",
       "      <td>3046</td>\n",
       "      <td>996</td>\n",
       "      <td>603</td>\n",
       "      <td>1513</td>\n",
       "      <td>887</td>\n",
       "      <td>441</td>\n",
       "      <td>1533</td>\n",
       "      <td>ZWE</td>\n",
       "      <td>Sub-Saharan Africa</td>\n",
       "      <td>Lower middle income</td>\n",
       "      <td>Zimbabwe</td>\n",
       "    </tr>\n",
       "    <tr>\n",
       "      <th>14636</th>\n",
       "      <td>Zimbabwe</td>\n",
       "      <td>2000</td>\n",
       "      <td>Malignant neoplasms</td>\n",
       "      <td>7474</td>\n",
       "      <td>4592</td>\n",
       "      <td>11441</td>\n",
       "      <td>3838</td>\n",
       "      <td>2512</td>\n",
       "      <td>5647</td>\n",
       "      <td>3636</td>\n",
       "      <td>2080</td>\n",
       "      <td>5794</td>\n",
       "      <td>ZWE</td>\n",
       "      <td>Sub-Saharan Africa</td>\n",
       "      <td>Lower middle income</td>\n",
       "      <td>Zimbabwe</td>\n",
       "    </tr>\n",
       "    <tr>\n",
       "      <th>14637</th>\n",
       "      <td>Zimbabwe</td>\n",
       "      <td>2000</td>\n",
       "      <td>Diabetes mellitus</td>\n",
       "      <td>2039</td>\n",
       "      <td>1227</td>\n",
       "      <td>3219</td>\n",
       "      <td>810</td>\n",
       "      <td>507</td>\n",
       "      <td>1246</td>\n",
       "      <td>1229</td>\n",
       "      <td>720</td>\n",
       "      <td>1972</td>\n",
       "      <td>ZWE</td>\n",
       "      <td>Sub-Saharan Africa</td>\n",
       "      <td>Lower middle income</td>\n",
       "      <td>Zimbabwe</td>\n",
       "    </tr>\n",
       "    <tr>\n",
       "      <th>14638</th>\n",
       "      <td>Zimbabwe</td>\n",
       "      <td>2000</td>\n",
       "      <td>Cardiovascular diseases</td>\n",
       "      <td>10368</td>\n",
       "      <td>6335</td>\n",
       "      <td>16076</td>\n",
       "      <td>4425</td>\n",
       "      <td>2818</td>\n",
       "      <td>6837</td>\n",
       "      <td>5943</td>\n",
       "      <td>3516</td>\n",
       "      <td>9239</td>\n",
       "      <td>ZWE</td>\n",
       "      <td>Sub-Saharan Africa</td>\n",
       "      <td>Lower middle income</td>\n",
       "      <td>Zimbabwe</td>\n",
       "    </tr>\n",
       "    <tr>\n",
       "      <th>14639</th>\n",
       "      <td>Zimbabwe</td>\n",
       "      <td>2000</td>\n",
       "      <td>Chronic respiratory diseases</td>\n",
       "      <td>1861</td>\n",
       "      <td>1039</td>\n",
       "      <td>2993</td>\n",
       "      <td>983</td>\n",
       "      <td>605</td>\n",
       "      <td>1481</td>\n",
       "      <td>878</td>\n",
       "      <td>435</td>\n",
       "      <td>1513</td>\n",
       "      <td>ZWE</td>\n",
       "      <td>Sub-Saharan Africa</td>\n",
       "      <td>Lower middle income</td>\n",
       "      <td>Zimbabwe</td>\n",
       "    </tr>\n",
       "  </tbody>\n",
       "</table>\n",
       "<p>14640 rows × 16 columns</p>\n",
       "</div>"
      ],
      "text/plain": [
       "           Country  Year                        Causes  Both sexes_recent  \\\n",
       "0      Afghanistan  2019           Malignant neoplasms              15565   \n",
       "1      Afghanistan  2019             Diabetes mellitus               8060   \n",
       "2      Afghanistan  2019       Cardiovascular diseases              71264   \n",
       "3      Afghanistan  2019  Chronic respiratory diseases               8285   \n",
       "4      Afghanistan  2018           Malignant neoplasms              15065   \n",
       "...            ...   ...                           ...                ...   \n",
       "14635     Zimbabwe  2001  Chronic respiratory diseases               1884   \n",
       "14636     Zimbabwe  2000           Malignant neoplasms               7474   \n",
       "14637     Zimbabwe  2000             Diabetes mellitus               2039   \n",
       "14638     Zimbabwe  2000       Cardiovascular diseases              10368   \n",
       "14639     Zimbabwe  2000  Chronic respiratory diseases               1861   \n",
       "\n",
       "       Both sexes_min  Both sexes_max  Male_recent  Male_min  Male_max  \\\n",
       "0                7609           28280         7756      3898     13841   \n",
       "1                3827           14468         2612      1377      4651   \n",
       "2               42413          108472        33793     20550     51028   \n",
       "3                3618           14626         3920      1877      6745   \n",
       "4                7337           27401         7534      3766     13454   \n",
       "...               ...             ...          ...       ...       ...   \n",
       "14635            1044            3046          996       603      1513   \n",
       "14636            4592           11441         3838      2512      5647   \n",
       "14637            1227            3219          810       507      1246   \n",
       "14638            6335           16076         4425      2818      6837   \n",
       "14639            1039            2993          983       605      1481   \n",
       "\n",
       "       Female_recent  Female_min  Female_max Country Code              Region  \\\n",
       "0               7809        3711       14439          AFG          South Asia   \n",
       "1               5448        2451        9817          AFG          South Asia   \n",
       "2              37471       21863       57444          AFG          South Asia   \n",
       "3               4365        1741        7881          AFG          South Asia   \n",
       "4               7531        3570       13948          AFG          South Asia   \n",
       "...              ...         ...         ...          ...                 ...   \n",
       "14635            887         441        1533          ZWE  Sub-Saharan Africa   \n",
       "14636           3636        2080        5794          ZWE  Sub-Saharan Africa   \n",
       "14637           1229         720        1972          ZWE  Sub-Saharan Africa   \n",
       "14638           5943        3516        9239          ZWE  Sub-Saharan Africa   \n",
       "14639            878         435        1513          ZWE  Sub-Saharan Africa   \n",
       "\n",
       "               IncomeGroup    TableName  \n",
       "0               Low income  Afghanistan  \n",
       "1               Low income  Afghanistan  \n",
       "2               Low income  Afghanistan  \n",
       "3               Low income  Afghanistan  \n",
       "4               Low income  Afghanistan  \n",
       "...                    ...          ...  \n",
       "14635  Lower middle income     Zimbabwe  \n",
       "14636  Lower middle income     Zimbabwe  \n",
       "14637  Lower middle income     Zimbabwe  \n",
       "14638  Lower middle income     Zimbabwe  \n",
       "14639  Lower middle income     Zimbabwe  \n",
       "\n",
       "[14640 rows x 16 columns]"
      ]
     },
     "execution_count": 358,
     "metadata": {},
     "output_type": "execute_result"
    }
   ],
   "source": [
    "df_rearanged.merge(df_gdp,how=\"inner\", left_on=\"Country\", right_on=\"TableName\")"
   ]
  },
  {
   "cell_type": "code",
   "execution_count": 359,
   "metadata": {
    "colab": {
     "base_uri": "https://localhost:8080/"
    },
    "id": "s3q59JCV_HKN",
    "outputId": "67c9d5c9-99e6-464e-a8f0-67f17caa28f9"
   },
   "outputs": [
    {
     "data": {
      "text/plain": [
       "(14640, 12)"
      ]
     },
     "execution_count": 359,
     "metadata": {},
     "output_type": "execute_result"
    }
   ],
   "source": [
    "df_rearanged.shape"
   ]
  },
  {
   "cell_type": "code",
   "execution_count": 360,
   "metadata": {
    "id": "MuavvKLm_ORl"
   },
   "outputs": [],
   "source": [
    "df_merged = df_rearanged.merge(df_gdp,how=\"inner\", left_on=\"Country\", right_on=\"TableName\")"
   ]
  },
  {
   "cell_type": "code",
   "execution_count": 361,
   "metadata": {
    "colab": {
     "base_uri": "https://localhost:8080/",
     "height": 0
    },
    "id": "IZDUgLx1_Udf",
    "outputId": "259492af-8b14-44ab-b882-940939de278e"
   },
   "outputs": [
    {
     "data": {
      "text/html": [
       "<div>\n",
       "<style scoped>\n",
       "    .dataframe tbody tr th:only-of-type {\n",
       "        vertical-align: middle;\n",
       "    }\n",
       "\n",
       "    .dataframe tbody tr th {\n",
       "        vertical-align: top;\n",
       "    }\n",
       "\n",
       "    .dataframe thead th {\n",
       "        text-align: right;\n",
       "    }\n",
       "</style>\n",
       "<table border=\"1\" class=\"dataframe\">\n",
       "  <thead>\n",
       "    <tr style=\"text-align: right;\">\n",
       "      <th></th>\n",
       "      <th>Country</th>\n",
       "      <th>Year</th>\n",
       "      <th>Causes</th>\n",
       "      <th>Both sexes_recent</th>\n",
       "      <th>Both sexes_min</th>\n",
       "      <th>Both sexes_max</th>\n",
       "      <th>Male_recent</th>\n",
       "      <th>Male_min</th>\n",
       "      <th>Male_max</th>\n",
       "      <th>Female_recent</th>\n",
       "      <th>Female_min</th>\n",
       "      <th>Female_max</th>\n",
       "      <th>Country Code</th>\n",
       "      <th>Region</th>\n",
       "      <th>IncomeGroup</th>\n",
       "    </tr>\n",
       "  </thead>\n",
       "  <tbody>\n",
       "    <tr>\n",
       "      <th>0</th>\n",
       "      <td>Afghanistan</td>\n",
       "      <td>2019</td>\n",
       "      <td>Malignant neoplasms</td>\n",
       "      <td>15565</td>\n",
       "      <td>7609</td>\n",
       "      <td>28280</td>\n",
       "      <td>7756</td>\n",
       "      <td>3898</td>\n",
       "      <td>13841</td>\n",
       "      <td>7809</td>\n",
       "      <td>3711</td>\n",
       "      <td>14439</td>\n",
       "      <td>AFG</td>\n",
       "      <td>South Asia</td>\n",
       "      <td>Low income</td>\n",
       "    </tr>\n",
       "    <tr>\n",
       "      <th>1</th>\n",
       "      <td>Afghanistan</td>\n",
       "      <td>2019</td>\n",
       "      <td>Diabetes mellitus</td>\n",
       "      <td>8060</td>\n",
       "      <td>3827</td>\n",
       "      <td>14468</td>\n",
       "      <td>2612</td>\n",
       "      <td>1377</td>\n",
       "      <td>4651</td>\n",
       "      <td>5448</td>\n",
       "      <td>2451</td>\n",
       "      <td>9817</td>\n",
       "      <td>AFG</td>\n",
       "      <td>South Asia</td>\n",
       "      <td>Low income</td>\n",
       "    </tr>\n",
       "    <tr>\n",
       "      <th>2</th>\n",
       "      <td>Afghanistan</td>\n",
       "      <td>2019</td>\n",
       "      <td>Cardiovascular diseases</td>\n",
       "      <td>71264</td>\n",
       "      <td>42413</td>\n",
       "      <td>108472</td>\n",
       "      <td>33793</td>\n",
       "      <td>20550</td>\n",
       "      <td>51028</td>\n",
       "      <td>37471</td>\n",
       "      <td>21863</td>\n",
       "      <td>57444</td>\n",
       "      <td>AFG</td>\n",
       "      <td>South Asia</td>\n",
       "      <td>Low income</td>\n",
       "    </tr>\n",
       "    <tr>\n",
       "      <th>3</th>\n",
       "      <td>Afghanistan</td>\n",
       "      <td>2019</td>\n",
       "      <td>Chronic respiratory diseases</td>\n",
       "      <td>8285</td>\n",
       "      <td>3618</td>\n",
       "      <td>14626</td>\n",
       "      <td>3920</td>\n",
       "      <td>1877</td>\n",
       "      <td>6745</td>\n",
       "      <td>4365</td>\n",
       "      <td>1741</td>\n",
       "      <td>7881</td>\n",
       "      <td>AFG</td>\n",
       "      <td>South Asia</td>\n",
       "      <td>Low income</td>\n",
       "    </tr>\n",
       "    <tr>\n",
       "      <th>4</th>\n",
       "      <td>Afghanistan</td>\n",
       "      <td>2018</td>\n",
       "      <td>Malignant neoplasms</td>\n",
       "      <td>15065</td>\n",
       "      <td>7337</td>\n",
       "      <td>27401</td>\n",
       "      <td>7534</td>\n",
       "      <td>3766</td>\n",
       "      <td>13454</td>\n",
       "      <td>7531</td>\n",
       "      <td>3570</td>\n",
       "      <td>13948</td>\n",
       "      <td>AFG</td>\n",
       "      <td>South Asia</td>\n",
       "      <td>Low income</td>\n",
       "    </tr>\n",
       "    <tr>\n",
       "      <th>...</th>\n",
       "      <td>...</td>\n",
       "      <td>...</td>\n",
       "      <td>...</td>\n",
       "      <td>...</td>\n",
       "      <td>...</td>\n",
       "      <td>...</td>\n",
       "      <td>...</td>\n",
       "      <td>...</td>\n",
       "      <td>...</td>\n",
       "      <td>...</td>\n",
       "      <td>...</td>\n",
       "      <td>...</td>\n",
       "      <td>...</td>\n",
       "      <td>...</td>\n",
       "      <td>...</td>\n",
       "    </tr>\n",
       "    <tr>\n",
       "      <th>14635</th>\n",
       "      <td>Zimbabwe</td>\n",
       "      <td>2001</td>\n",
       "      <td>Chronic respiratory diseases</td>\n",
       "      <td>1884</td>\n",
       "      <td>1044</td>\n",
       "      <td>3046</td>\n",
       "      <td>996</td>\n",
       "      <td>603</td>\n",
       "      <td>1513</td>\n",
       "      <td>887</td>\n",
       "      <td>441</td>\n",
       "      <td>1533</td>\n",
       "      <td>ZWE</td>\n",
       "      <td>Sub-Saharan Africa</td>\n",
       "      <td>Lower middle income</td>\n",
       "    </tr>\n",
       "    <tr>\n",
       "      <th>14636</th>\n",
       "      <td>Zimbabwe</td>\n",
       "      <td>2000</td>\n",
       "      <td>Malignant neoplasms</td>\n",
       "      <td>7474</td>\n",
       "      <td>4592</td>\n",
       "      <td>11441</td>\n",
       "      <td>3838</td>\n",
       "      <td>2512</td>\n",
       "      <td>5647</td>\n",
       "      <td>3636</td>\n",
       "      <td>2080</td>\n",
       "      <td>5794</td>\n",
       "      <td>ZWE</td>\n",
       "      <td>Sub-Saharan Africa</td>\n",
       "      <td>Lower middle income</td>\n",
       "    </tr>\n",
       "    <tr>\n",
       "      <th>14637</th>\n",
       "      <td>Zimbabwe</td>\n",
       "      <td>2000</td>\n",
       "      <td>Diabetes mellitus</td>\n",
       "      <td>2039</td>\n",
       "      <td>1227</td>\n",
       "      <td>3219</td>\n",
       "      <td>810</td>\n",
       "      <td>507</td>\n",
       "      <td>1246</td>\n",
       "      <td>1229</td>\n",
       "      <td>720</td>\n",
       "      <td>1972</td>\n",
       "      <td>ZWE</td>\n",
       "      <td>Sub-Saharan Africa</td>\n",
       "      <td>Lower middle income</td>\n",
       "    </tr>\n",
       "    <tr>\n",
       "      <th>14638</th>\n",
       "      <td>Zimbabwe</td>\n",
       "      <td>2000</td>\n",
       "      <td>Cardiovascular diseases</td>\n",
       "      <td>10368</td>\n",
       "      <td>6335</td>\n",
       "      <td>16076</td>\n",
       "      <td>4425</td>\n",
       "      <td>2818</td>\n",
       "      <td>6837</td>\n",
       "      <td>5943</td>\n",
       "      <td>3516</td>\n",
       "      <td>9239</td>\n",
       "      <td>ZWE</td>\n",
       "      <td>Sub-Saharan Africa</td>\n",
       "      <td>Lower middle income</td>\n",
       "    </tr>\n",
       "    <tr>\n",
       "      <th>14639</th>\n",
       "      <td>Zimbabwe</td>\n",
       "      <td>2000</td>\n",
       "      <td>Chronic respiratory diseases</td>\n",
       "      <td>1861</td>\n",
       "      <td>1039</td>\n",
       "      <td>2993</td>\n",
       "      <td>983</td>\n",
       "      <td>605</td>\n",
       "      <td>1481</td>\n",
       "      <td>878</td>\n",
       "      <td>435</td>\n",
       "      <td>1513</td>\n",
       "      <td>ZWE</td>\n",
       "      <td>Sub-Saharan Africa</td>\n",
       "      <td>Lower middle income</td>\n",
       "    </tr>\n",
       "  </tbody>\n",
       "</table>\n",
       "<p>14640 rows × 15 columns</p>\n",
       "</div>"
      ],
      "text/plain": [
       "           Country  Year                        Causes  Both sexes_recent  \\\n",
       "0      Afghanistan  2019           Malignant neoplasms              15565   \n",
       "1      Afghanistan  2019             Diabetes mellitus               8060   \n",
       "2      Afghanistan  2019       Cardiovascular diseases              71264   \n",
       "3      Afghanistan  2019  Chronic respiratory diseases               8285   \n",
       "4      Afghanistan  2018           Malignant neoplasms              15065   \n",
       "...            ...   ...                           ...                ...   \n",
       "14635     Zimbabwe  2001  Chronic respiratory diseases               1884   \n",
       "14636     Zimbabwe  2000           Malignant neoplasms               7474   \n",
       "14637     Zimbabwe  2000             Diabetes mellitus               2039   \n",
       "14638     Zimbabwe  2000       Cardiovascular diseases              10368   \n",
       "14639     Zimbabwe  2000  Chronic respiratory diseases               1861   \n",
       "\n",
       "       Both sexes_min  Both sexes_max  Male_recent  Male_min  Male_max  \\\n",
       "0                7609           28280         7756      3898     13841   \n",
       "1                3827           14468         2612      1377      4651   \n",
       "2               42413          108472        33793     20550     51028   \n",
       "3                3618           14626         3920      1877      6745   \n",
       "4                7337           27401         7534      3766     13454   \n",
       "...               ...             ...          ...       ...       ...   \n",
       "14635            1044            3046          996       603      1513   \n",
       "14636            4592           11441         3838      2512      5647   \n",
       "14637            1227            3219          810       507      1246   \n",
       "14638            6335           16076         4425      2818      6837   \n",
       "14639            1039            2993          983       605      1481   \n",
       "\n",
       "       Female_recent  Female_min  Female_max Country Code              Region  \\\n",
       "0               7809        3711       14439          AFG          South Asia   \n",
       "1               5448        2451        9817          AFG          South Asia   \n",
       "2              37471       21863       57444          AFG          South Asia   \n",
       "3               4365        1741        7881          AFG          South Asia   \n",
       "4               7531        3570       13948          AFG          South Asia   \n",
       "...              ...         ...         ...          ...                 ...   \n",
       "14635            887         441        1533          ZWE  Sub-Saharan Africa   \n",
       "14636           3636        2080        5794          ZWE  Sub-Saharan Africa   \n",
       "14637           1229         720        1972          ZWE  Sub-Saharan Africa   \n",
       "14638           5943        3516        9239          ZWE  Sub-Saharan Africa   \n",
       "14639            878         435        1513          ZWE  Sub-Saharan Africa   \n",
       "\n",
       "               IncomeGroup  \n",
       "0               Low income  \n",
       "1               Low income  \n",
       "2               Low income  \n",
       "3               Low income  \n",
       "4               Low income  \n",
       "...                    ...  \n",
       "14635  Lower middle income  \n",
       "14636  Lower middle income  \n",
       "14637  Lower middle income  \n",
       "14638  Lower middle income  \n",
       "14639  Lower middle income  \n",
       "\n",
       "[14640 rows x 15 columns]"
      ]
     },
     "execution_count": 361,
     "metadata": {},
     "output_type": "execute_result"
    }
   ],
   "source": [
    "df_merged.drop(\"TableName\", axis=1,)# inplace=True)"
   ]
  },
  {
   "cell_type": "markdown",
   "metadata": {
    "id": "SDq-l53aAgxu"
   },
   "source": [
    "# INCOME VS DISEASE"
   ]
  },
  {
   "cell_type": "code",
   "execution_count": 362,
   "metadata": {
    "colab": {
     "base_uri": "https://localhost:8080/",
     "height": 557
    },
    "id": "24KV4yQP_eLF",
    "outputId": "9b46d15c-8aea-449b-eef7-78226f36f63b"
   },
   "outputs": [
    {
     "data": {
      "text/html": [
       "<div>\n",
       "<style scoped>\n",
       "    .dataframe tbody tr th:only-of-type {\n",
       "        vertical-align: middle;\n",
       "    }\n",
       "\n",
       "    .dataframe tbody tr th {\n",
       "        vertical-align: top;\n",
       "    }\n",
       "\n",
       "    .dataframe thead th {\n",
       "        text-align: right;\n",
       "    }\n",
       "</style>\n",
       "<table border=\"1\" class=\"dataframe\">\n",
       "  <thead>\n",
       "    <tr style=\"text-align: right;\">\n",
       "      <th></th>\n",
       "      <th></th>\n",
       "      <th>Male_recent</th>\n",
       "    </tr>\n",
       "    <tr>\n",
       "      <th>IncomeGroup</th>\n",
       "      <th>Causes</th>\n",
       "      <th></th>\n",
       "    </tr>\n",
       "  </thead>\n",
       "  <tbody>\n",
       "    <tr>\n",
       "      <th rowspan=\"4\" valign=\"top\">High income</th>\n",
       "      <th>Cardiovascular diseases</th>\n",
       "      <td>29,623</td>\n",
       "    </tr>\n",
       "    <tr>\n",
       "      <th>Chronic respiratory diseases</th>\n",
       "      <td>6,723</td>\n",
       "    </tr>\n",
       "    <tr>\n",
       "      <th>Diabetes mellitus</th>\n",
       "      <td>2,212</td>\n",
       "    </tr>\n",
       "    <tr>\n",
       "      <th>Malignant neoplasms</th>\n",
       "      <td>26,079</td>\n",
       "    </tr>\n",
       "    <tr>\n",
       "      <th rowspan=\"4\" valign=\"top\">Low income</th>\n",
       "      <th>Cardiovascular diseases</th>\n",
       "      <td>12,442</td>\n",
       "    </tr>\n",
       "    <tr>\n",
       "      <th>Chronic respiratory diseases</th>\n",
       "      <td>2,417</td>\n",
       "    </tr>\n",
       "    <tr>\n",
       "      <th>Diabetes mellitus</th>\n",
       "      <td>1,681</td>\n",
       "    </tr>\n",
       "    <tr>\n",
       "      <th>Malignant neoplasms</th>\n",
       "      <td>3,884</td>\n",
       "    </tr>\n",
       "    <tr>\n",
       "      <th rowspan=\"4\" valign=\"top\">Lower middle income</th>\n",
       "      <th>Cardiovascular diseases</th>\n",
       "      <td>51,360</td>\n",
       "    </tr>\n",
       "    <tr>\n",
       "      <th>Chronic respiratory diseases</th>\n",
       "      <td>16,607</td>\n",
       "    </tr>\n",
       "    <tr>\n",
       "      <th>Diabetes mellitus</th>\n",
       "      <td>5,888</td>\n",
       "    </tr>\n",
       "    <tr>\n",
       "      <th>Malignant neoplasms</th>\n",
       "      <td>16,550</td>\n",
       "    </tr>\n",
       "    <tr>\n",
       "      <th rowspan=\"4\" valign=\"top\">Upper middle income</th>\n",
       "      <th>Cardiovascular diseases</th>\n",
       "      <td>73,388</td>\n",
       "    </tr>\n",
       "    <tr>\n",
       "      <th>Chronic respiratory diseases</th>\n",
       "      <td>17,898</td>\n",
       "    </tr>\n",
       "    <tr>\n",
       "      <th>Diabetes mellitus</th>\n",
       "      <td>5,552</td>\n",
       "    </tr>\n",
       "    <tr>\n",
       "      <th>Malignant neoplasms</th>\n",
       "      <td>42,124</td>\n",
       "    </tr>\n",
       "  </tbody>\n",
       "</table>\n",
       "</div>"
      ],
      "text/plain": [
       "                                                  Male_recent\n",
       "IncomeGroup         Causes                                   \n",
       "High income         Cardiovascular diseases            29,623\n",
       "                    Chronic respiratory diseases        6,723\n",
       "                    Diabetes mellitus                   2,212\n",
       "                    Malignant neoplasms                26,079\n",
       "Low income          Cardiovascular diseases            12,442\n",
       "                    Chronic respiratory diseases        2,417\n",
       "                    Diabetes mellitus                   1,681\n",
       "                    Malignant neoplasms                 3,884\n",
       "Lower middle income Cardiovascular diseases            51,360\n",
       "                    Chronic respiratory diseases       16,607\n",
       "                    Diabetes mellitus                   5,888\n",
       "                    Malignant neoplasms                16,550\n",
       "Upper middle income Cardiovascular diseases            73,388\n",
       "                    Chronic respiratory diseases       17,898\n",
       "                    Diabetes mellitus                   5,552\n",
       "                    Malignant neoplasms                42,124"
      ]
     },
     "execution_count": 362,
     "metadata": {},
     "output_type": "execute_result"
    }
   ],
   "source": [
    "df_merged.groupby(by=[\"IncomeGroup\",\"Causes\"])[[\"Male_recent\"]].mean()#.xs(\"Cardiovascular diseases\",level =1)#.sort_values(\"Male_recent\")"
   ]
  },
  {
   "cell_type": "code",
   "execution_count": 363,
   "metadata": {
    "colab": {
     "base_uri": "https://localhost:8080/",
     "height": 557
    },
    "id": "Gp2dC8_sE2eF",
    "outputId": "61ae59d2-27e3-40c4-8a23-3286e7f617d6"
   },
   "outputs": [
    {
     "data": {
      "text/html": [
       "<div>\n",
       "<style scoped>\n",
       "    .dataframe tbody tr th:only-of-type {\n",
       "        vertical-align: middle;\n",
       "    }\n",
       "\n",
       "    .dataframe tbody tr th {\n",
       "        vertical-align: top;\n",
       "    }\n",
       "\n",
       "    .dataframe thead th {\n",
       "        text-align: right;\n",
       "    }\n",
       "</style>\n",
       "<table border=\"1\" class=\"dataframe\">\n",
       "  <thead>\n",
       "    <tr style=\"text-align: right;\">\n",
       "      <th></th>\n",
       "      <th></th>\n",
       "      <th>Female_recent</th>\n",
       "    </tr>\n",
       "    <tr>\n",
       "      <th>IncomeGroup</th>\n",
       "      <th>Causes</th>\n",
       "      <th></th>\n",
       "    </tr>\n",
       "  </thead>\n",
       "  <tbody>\n",
       "    <tr>\n",
       "      <th rowspan=\"4\" valign=\"top\">High income</th>\n",
       "      <th>Cardiovascular diseases</th>\n",
       "      <td>33,624</td>\n",
       "    </tr>\n",
       "    <tr>\n",
       "      <th>Chronic respiratory diseases</th>\n",
       "      <td>5,947</td>\n",
       "    </tr>\n",
       "    <tr>\n",
       "      <th>Diabetes mellitus</th>\n",
       "      <td>2,399</td>\n",
       "    </tr>\n",
       "    <tr>\n",
       "      <th>Malignant neoplasms</th>\n",
       "      <td>20,813</td>\n",
       "    </tr>\n",
       "    <tr>\n",
       "      <th rowspan=\"4\" valign=\"top\">Low income</th>\n",
       "      <th>Cardiovascular diseases</th>\n",
       "      <td>12,772</td>\n",
       "    </tr>\n",
       "    <tr>\n",
       "      <th>Chronic respiratory diseases</th>\n",
       "      <td>2,224</td>\n",
       "    </tr>\n",
       "    <tr>\n",
       "      <th>Diabetes mellitus</th>\n",
       "      <td>1,592</td>\n",
       "    </tr>\n",
       "    <tr>\n",
       "      <th>Malignant neoplasms</th>\n",
       "      <td>5,067</td>\n",
       "    </tr>\n",
       "    <tr>\n",
       "      <th rowspan=\"4\" valign=\"top\">Lower middle income</th>\n",
       "      <th>Cardiovascular diseases</th>\n",
       "      <td>44,423</td>\n",
       "    </tr>\n",
       "    <tr>\n",
       "      <th>Chronic respiratory diseases</th>\n",
       "      <td>12,692</td>\n",
       "    </tr>\n",
       "    <tr>\n",
       "      <th>Diabetes mellitus</th>\n",
       "      <td>5,713</td>\n",
       "    </tr>\n",
       "    <tr>\n",
       "      <th>Malignant neoplasms</th>\n",
       "      <td>15,162</td>\n",
       "    </tr>\n",
       "    <tr>\n",
       "      <th rowspan=\"4\" valign=\"top\">Upper middle income</th>\n",
       "      <th>Cardiovascular diseases</th>\n",
       "      <td>66,784</td>\n",
       "    </tr>\n",
       "    <tr>\n",
       "      <th>Chronic respiratory diseases</th>\n",
       "      <td>13,202</td>\n",
       "    </tr>\n",
       "    <tr>\n",
       "      <th>Diabetes mellitus</th>\n",
       "      <td>6,343</td>\n",
       "    </tr>\n",
       "    <tr>\n",
       "      <th>Malignant neoplasms</th>\n",
       "      <td>27,948</td>\n",
       "    </tr>\n",
       "  </tbody>\n",
       "</table>\n",
       "</div>"
      ],
      "text/plain": [
       "                                                  Female_recent\n",
       "IncomeGroup         Causes                                     \n",
       "High income         Cardiovascular diseases              33,624\n",
       "                    Chronic respiratory diseases          5,947\n",
       "                    Diabetes mellitus                     2,399\n",
       "                    Malignant neoplasms                  20,813\n",
       "Low income          Cardiovascular diseases              12,772\n",
       "                    Chronic respiratory diseases          2,224\n",
       "                    Diabetes mellitus                     1,592\n",
       "                    Malignant neoplasms                   5,067\n",
       "Lower middle income Cardiovascular diseases              44,423\n",
       "                    Chronic respiratory diseases         12,692\n",
       "                    Diabetes mellitus                     5,713\n",
       "                    Malignant neoplasms                  15,162\n",
       "Upper middle income Cardiovascular diseases              66,784\n",
       "                    Chronic respiratory diseases         13,202\n",
       "                    Diabetes mellitus                     6,343\n",
       "                    Malignant neoplasms                  27,948"
      ]
     },
     "execution_count": 363,
     "metadata": {},
     "output_type": "execute_result"
    }
   ],
   "source": [
    "df_merged.groupby(by=[\"IncomeGroup\",\"Causes\"])[[\"Female_recent\"]].mean()#.xs(\"Cardiovascular diseases\",level =1)#.sort_values(\"female_recent\")"
   ]
  },
  {
   "cell_type": "code",
   "execution_count": 364,
   "metadata": {
    "colab": {
     "base_uri": "https://localhost:8080/",
     "height": 281
    },
    "id": "FgZ691XGBG2o",
    "outputId": "a2c0effa-d4be-49f0-93b5-0020e37fb65a"
   },
   "outputs": [
    {
     "data": {
      "image/png": "[encoded data removed]",
      "text/plain": [
       "<Figure size 432x288 with 1 Axes>"
      ]
     },
     "metadata": {
      "needs_background": "light"
     },
     "output_type": "display_data"
    }
   ],
   "source": [
    "df_merged.groupby(by=[\"IncomeGroup\",\"Causes\"])[[\"Male_recent\"]].median().sort_values(\"Male_recent\").plot.barh();"
   ]
  },
  {
   "cell_type": "code",
   "execution_count": 365,
   "metadata": {},
   "outputs": [
    {
     "data": {
      "text/html": [
       "<div>\n",
       "<style scoped>\n",
       "    .dataframe tbody tr th:only-of-type {\n",
       "        vertical-align: middle;\n",
       "    }\n",
       "\n",
       "    .dataframe tbody tr th {\n",
       "        vertical-align: top;\n",
       "    }\n",
       "\n",
       "    .dataframe thead th {\n",
       "        text-align: right;\n",
       "    }\n",
       "</style>\n",
       "<table border=\"1\" class=\"dataframe\">\n",
       "  <thead>\n",
       "    <tr style=\"text-align: right;\">\n",
       "      <th></th>\n",
       "      <th>Country</th>\n",
       "      <th>Year</th>\n",
       "      <th>Causes</th>\n",
       "      <th>Both sexes_recent</th>\n",
       "      <th>Both sexes_min</th>\n",
       "      <th>Both sexes_max</th>\n",
       "      <th>Male_recent</th>\n",
       "      <th>Male_min</th>\n",
       "      <th>Male_max</th>\n",
       "      <th>Female_recent</th>\n",
       "      <th>Female_min</th>\n",
       "      <th>Female_max</th>\n",
       "      <th>Country Code</th>\n",
       "      <th>Region</th>\n",
       "      <th>IncomeGroup</th>\n",
       "      <th>TableName</th>\n",
       "    </tr>\n",
       "  </thead>\n",
       "  <tbody>\n",
       "    <tr>\n",
       "      <th>0</th>\n",
       "      <td>Afghanistan</td>\n",
       "      <td>2019</td>\n",
       "      <td>Malignant neoplasms</td>\n",
       "      <td>15565</td>\n",
       "      <td>7609</td>\n",
       "      <td>28280</td>\n",
       "      <td>7756</td>\n",
       "      <td>3898</td>\n",
       "      <td>13841</td>\n",
       "      <td>7809</td>\n",
       "      <td>3711</td>\n",
       "      <td>14439</td>\n",
       "      <td>AFG</td>\n",
       "      <td>South Asia</td>\n",
       "      <td>Low income</td>\n",
       "      <td>Afghanistan</td>\n",
       "    </tr>\n",
       "    <tr>\n",
       "      <th>1</th>\n",
       "      <td>Afghanistan</td>\n",
       "      <td>2019</td>\n",
       "      <td>Diabetes mellitus</td>\n",
       "      <td>8060</td>\n",
       "      <td>3827</td>\n",
       "      <td>14468</td>\n",
       "      <td>2612</td>\n",
       "      <td>1377</td>\n",
       "      <td>4651</td>\n",
       "      <td>5448</td>\n",
       "      <td>2451</td>\n",
       "      <td>9817</td>\n",
       "      <td>AFG</td>\n",
       "      <td>South Asia</td>\n",
       "      <td>Low income</td>\n",
       "      <td>Afghanistan</td>\n",
       "    </tr>\n",
       "    <tr>\n",
       "      <th>2</th>\n",
       "      <td>Afghanistan</td>\n",
       "      <td>2019</td>\n",
       "      <td>Cardiovascular diseases</td>\n",
       "      <td>71264</td>\n",
       "      <td>42413</td>\n",
       "      <td>108472</td>\n",
       "      <td>33793</td>\n",
       "      <td>20550</td>\n",
       "      <td>51028</td>\n",
       "      <td>37471</td>\n",
       "      <td>21863</td>\n",
       "      <td>57444</td>\n",
       "      <td>AFG</td>\n",
       "      <td>South Asia</td>\n",
       "      <td>Low income</td>\n",
       "      <td>Afghanistan</td>\n",
       "    </tr>\n",
       "    <tr>\n",
       "      <th>3</th>\n",
       "      <td>Afghanistan</td>\n",
       "      <td>2019</td>\n",
       "      <td>Chronic respiratory diseases</td>\n",
       "      <td>8285</td>\n",
       "      <td>3618</td>\n",
       "      <td>14626</td>\n",
       "      <td>3920</td>\n",
       "      <td>1877</td>\n",
       "      <td>6745</td>\n",
       "      <td>4365</td>\n",
       "      <td>1741</td>\n",
       "      <td>7881</td>\n",
       "      <td>AFG</td>\n",
       "      <td>South Asia</td>\n",
       "      <td>Low income</td>\n",
       "      <td>Afghanistan</td>\n",
       "    </tr>\n",
       "    <tr>\n",
       "      <th>4</th>\n",
       "      <td>Afghanistan</td>\n",
       "      <td>2018</td>\n",
       "      <td>Malignant neoplasms</td>\n",
       "      <td>15065</td>\n",
       "      <td>7337</td>\n",
       "      <td>27401</td>\n",
       "      <td>7534</td>\n",
       "      <td>3766</td>\n",
       "      <td>13454</td>\n",
       "      <td>7531</td>\n",
       "      <td>3570</td>\n",
       "      <td>13948</td>\n",
       "      <td>AFG</td>\n",
       "      <td>South Asia</td>\n",
       "      <td>Low income</td>\n",
       "      <td>Afghanistan</td>\n",
       "    </tr>\n",
       "  </tbody>\n",
       "</table>\n",
       "</div>"
      ],
      "text/plain": [
       "       Country  Year                        Causes  Both sexes_recent  \\\n",
       "0  Afghanistan  2019           Malignant neoplasms              15565   \n",
       "1  Afghanistan  2019             Diabetes mellitus               8060   \n",
       "2  Afghanistan  2019       Cardiovascular diseases              71264   \n",
       "3  Afghanistan  2019  Chronic respiratory diseases               8285   \n",
       "4  Afghanistan  2018           Malignant neoplasms              15065   \n",
       "\n",
       "   Both sexes_min  Both sexes_max  Male_recent  Male_min  Male_max  \\\n",
       "0            7609           28280         7756      3898     13841   \n",
       "1            3827           14468         2612      1377      4651   \n",
       "2           42413          108472        33793     20550     51028   \n",
       "3            3618           14626         3920      1877      6745   \n",
       "4            7337           27401         7534      3766     13454   \n",
       "\n",
       "   Female_recent  Female_min  Female_max Country Code      Region IncomeGroup  \\\n",
       "0           7809        3711       14439          AFG  South Asia  Low income   \n",
       "1           5448        2451        9817          AFG  South Asia  Low income   \n",
       "2          37471       21863       57444          AFG  South Asia  Low income   \n",
       "3           4365        1741        7881          AFG  South Asia  Low income   \n",
       "4           7531        3570       13948          AFG  South Asia  Low income   \n",
       "\n",
       "     TableName  \n",
       "0  Afghanistan  \n",
       "1  Afghanistan  \n",
       "2  Afghanistan  \n",
       "3  Afghanistan  \n",
       "4  Afghanistan  "
      ]
     },
     "execution_count": 365,
     "metadata": {},
     "output_type": "execute_result"
    }
   ],
   "source": [
    "df_merged.head()"
   ]
  },
  {
   "cell_type": "markdown",
   "metadata": {
    "id": "xBzZfSk-DPiZ"
   },
   "source": [
    "* In context of income we could say that a higher income-Male has higher risk in Cardiovascular diseases"
   ]
  },
  {
   "cell_type": "code",
   "execution_count": 366,
   "metadata": {
    "colab": {
     "base_uri": "https://localhost:8080/",
     "height": 281
    },
    "id": "-K7QADPZB2bV",
    "outputId": "908f418a-e818-4e79-b350-4c581d39c2d2"
   },
   "outputs": [
    {
     "data": {
      "text/plain": [
       "<AxesSubplot:ylabel='IncomeGroup,Causes'>"
      ]
     },
     "execution_count": 366,
     "metadata": {},
     "output_type": "execute_result"
    },
    {
     "data": {
      "image/png": "[encoded data removed]",
      "text/plain": [
       "<Figure size 432x288 with 1 Axes>"
      ]
     },
     "metadata": {
      "needs_background": "light"
     },
     "output_type": "display_data"
    }
   ],
   "source": [
    "df_merged.groupby(by=[\"IncomeGroup\",\"Causes\"])[[\"Female_recent\"]].median().sort_values(\"Female_recent\").plot.barh()"
   ]
  },
  {
   "cell_type": "markdown",
   "metadata": {
    "id": "eDlSTNSFEihh"
   },
   "source": [
    "* we could say that females are more prone to Cardiovascular diseases and also interms of income same as males "
   ]
  },
  {
   "cell_type": "code",
   "execution_count": 370,
   "metadata": {
    "id": "WdBw_VhBGCFz"
   },
   "outputs": [
    {
     "data": {
      "application/javascript": [
       "\n",
       "        if (window._pyforest_update_imports_cell) { window._pyforest_update_imports_cell('import seaborn as sns\\nimport numpy as np\\nimport pandas as pd\\nimport matplotlib.pyplot as plt'); }\n",
       "    "
      ],
      "text/plain": [
       "<IPython.core.display.Javascript object>"
      ]
     },
     "metadata": {},
     "output_type": "display_data"
    },
    {
     "data": {
      "text/html": [
       "<div>\n",
       "<style scoped>\n",
       "    .dataframe tbody tr th:only-of-type {\n",
       "        vertical-align: middle;\n",
       "    }\n",
       "\n",
       "    .dataframe tbody tr th {\n",
       "        vertical-align: top;\n",
       "    }\n",
       "\n",
       "    .dataframe thead th {\n",
       "        text-align: right;\n",
       "    }\n",
       "</style>\n",
       "<table border=\"1\" class=\"dataframe\">\n",
       "  <thead>\n",
       "    <tr style=\"text-align: right;\">\n",
       "      <th></th>\n",
       "      <th></th>\n",
       "      <th></th>\n",
       "      <th></th>\n",
       "      <th></th>\n",
       "      <th>Both sexes_max</th>\n",
       "      <th>Both sexes_min</th>\n",
       "      <th>Both sexes_recent</th>\n",
       "      <th>Female_max</th>\n",
       "      <th>Female_min</th>\n",
       "      <th>Female_recent</th>\n",
       "      <th>Male_max</th>\n",
       "      <th>Male_min</th>\n",
       "      <th>Male_recent</th>\n",
       "    </tr>\n",
       "    <tr>\n",
       "      <th>IncomeGroup</th>\n",
       "      <th>Region</th>\n",
       "      <th>Country</th>\n",
       "      <th>Year</th>\n",
       "      <th>Causes</th>\n",
       "      <th></th>\n",
       "      <th></th>\n",
       "      <th></th>\n",
       "      <th></th>\n",
       "      <th></th>\n",
       "      <th></th>\n",
       "      <th></th>\n",
       "      <th></th>\n",
       "      <th></th>\n",
       "    </tr>\n",
       "  </thead>\n",
       "  <tbody>\n",
       "    <tr>\n",
       "      <th rowspan=\"5\" valign=\"top\">High income</th>\n",
       "      <th rowspan=\"5\" valign=\"top\">East Asia &amp; Pacific</th>\n",
       "      <th rowspan=\"5\" valign=\"top\">Australia</th>\n",
       "      <th rowspan=\"4\" valign=\"top\">2000</th>\n",
       "      <th>Cardiovascular diseases</th>\n",
       "      <td>54254</td>\n",
       "      <td>40271</td>\n",
       "      <td>47663</td>\n",
       "      <td>28696</td>\n",
       "      <td>20353</td>\n",
       "      <td>25006</td>\n",
       "      <td>25558</td>\n",
       "      <td>19918</td>\n",
       "      <td>22658</td>\n",
       "    </tr>\n",
       "    <tr>\n",
       "      <th>Chronic respiratory diseases</th>\n",
       "      <td>9984</td>\n",
       "      <td>6830</td>\n",
       "      <td>8487</td>\n",
       "      <td>4449</td>\n",
       "      <td>2752</td>\n",
       "      <td>3674</td>\n",
       "      <td>5535</td>\n",
       "      <td>4078</td>\n",
       "      <td>4813</td>\n",
       "    </tr>\n",
       "    <tr>\n",
       "      <th>Diabetes mellitus</th>\n",
       "      <td>3391</td>\n",
       "      <td>2486</td>\n",
       "      <td>2937</td>\n",
       "      <td>1627</td>\n",
       "      <td>1140</td>\n",
       "      <td>1389</td>\n",
       "      <td>1764</td>\n",
       "      <td>1345</td>\n",
       "      <td>1548</td>\n",
       "    </tr>\n",
       "    <tr>\n",
       "      <th>Malignant neoplasms</th>\n",
       "      <td>40612</td>\n",
       "      <td>29929</td>\n",
       "      <td>35245</td>\n",
       "      <td>17604</td>\n",
       "      <td>12959</td>\n",
       "      <td>15298</td>\n",
       "      <td>23008</td>\n",
       "      <td>16969</td>\n",
       "      <td>19947</td>\n",
       "    </tr>\n",
       "    <tr>\n",
       "      <th>2001</th>\n",
       "      <th>Cardiovascular diseases</th>\n",
       "      <td>53925</td>\n",
       "      <td>39668</td>\n",
       "      <td>47202</td>\n",
       "      <td>28368</td>\n",
       "      <td>19951</td>\n",
       "      <td>24650</td>\n",
       "      <td>25557</td>\n",
       "      <td>19717</td>\n",
       "      <td>22552</td>\n",
       "    </tr>\n",
       "    <tr>\n",
       "      <th>...</th>\n",
       "      <th>...</th>\n",
       "      <th>...</th>\n",
       "      <th>...</th>\n",
       "      <th>...</th>\n",
       "      <td>...</td>\n",
       "      <td>...</td>\n",
       "      <td>...</td>\n",
       "      <td>...</td>\n",
       "      <td>...</td>\n",
       "      <td>...</td>\n",
       "      <td>...</td>\n",
       "      <td>...</td>\n",
       "      <td>...</td>\n",
       "    </tr>\n",
       "    <tr>\n",
       "      <th rowspan=\"5\" valign=\"top\">Upper middle income</th>\n",
       "      <th rowspan=\"5\" valign=\"top\">Sub-Saharan Africa</th>\n",
       "      <th rowspan=\"5\" valign=\"top\">South Africa</th>\n",
       "      <th>2018</th>\n",
       "      <th>Malignant neoplasms</th>\n",
       "      <td>72458</td>\n",
       "      <td>43001</td>\n",
       "      <td>56728</td>\n",
       "      <td>36928</td>\n",
       "      <td>20317</td>\n",
       "      <td>28094</td>\n",
       "      <td>35530</td>\n",
       "      <td>22684</td>\n",
       "      <td>28635</td>\n",
       "    </tr>\n",
       "    <tr>\n",
       "      <th rowspan=\"4\" valign=\"top\">2019</th>\n",
       "      <th>Cardiovascular diseases</th>\n",
       "      <td>107835</td>\n",
       "      <td>69709</td>\n",
       "      <td>87794</td>\n",
       "      <td>55767</td>\n",
       "      <td>35406</td>\n",
       "      <td>45163</td>\n",
       "      <td>52068</td>\n",
       "      <td>34304</td>\n",
       "      <td>42630</td>\n",
       "    </tr>\n",
       "    <tr>\n",
       "      <th>Chronic respiratory diseases</th>\n",
       "      <td>25492</td>\n",
       "      <td>15117</td>\n",
       "      <td>19525</td>\n",
       "      <td>11969</td>\n",
       "      <td>6158</td>\n",
       "      <td>8558</td>\n",
       "      <td>13523</td>\n",
       "      <td>8958</td>\n",
       "      <td>10966</td>\n",
       "    </tr>\n",
       "    <tr>\n",
       "      <th>Diabetes mellitus</th>\n",
       "      <td>42803</td>\n",
       "      <td>27088</td>\n",
       "      <td>34401</td>\n",
       "      <td>23776</td>\n",
       "      <td>14922</td>\n",
       "      <td>19075</td>\n",
       "      <td>19027</td>\n",
       "      <td>12166</td>\n",
       "      <td>15327</td>\n",
       "    </tr>\n",
       "    <tr>\n",
       "      <th>Malignant neoplasms</th>\n",
       "      <td>73325</td>\n",
       "      <td>42812</td>\n",
       "      <td>56845</td>\n",
       "      <td>37339</td>\n",
       "      <td>20491</td>\n",
       "      <td>28315</td>\n",
       "      <td>35985</td>\n",
       "      <td>22321</td>\n",
       "      <td>28530</td>\n",
       "    </tr>\n",
       "  </tbody>\n",
       "</table>\n",
       "<p>14640 rows × 9 columns</p>\n",
       "</div>"
      ],
      "text/plain": [
       "                                                                                        Both sexes_max  \\\n",
       "IncomeGroup         Region              Country      Year Causes                                         \n",
       "High income         East Asia & Pacific Australia    2000 Cardiovascular diseases                54254   \n",
       "                                                          Chronic respiratory diseases            9984   \n",
       "                                                          Diabetes mellitus                       3391   \n",
       "                                                          Malignant neoplasms                    40612   \n",
       "                                                     2001 Cardiovascular diseases                53925   \n",
       "...                                                                                                ...   \n",
       "Upper middle income Sub-Saharan Africa  South Africa 2018 Malignant neoplasms                    72458   \n",
       "                                                     2019 Cardiovascular diseases               107835   \n",
       "                                                          Chronic respiratory diseases           25492   \n",
       "                                                          Diabetes mellitus                      42803   \n",
       "                                                          Malignant neoplasms                    73325   \n",
       "\n",
       "                                                                                        Both sexes_min  \\\n",
       "IncomeGroup         Region              Country      Year Causes                                         \n",
       "High income         East Asia & Pacific Australia    2000 Cardiovascular diseases                40271   \n",
       "                                                          Chronic respiratory diseases            6830   \n",
       "                                                          Diabetes mellitus                       2486   \n",
       "                                                          Malignant neoplasms                    29929   \n",
       "                                                     2001 Cardiovascular diseases                39668   \n",
       "...                                                                                                ...   \n",
       "Upper middle income Sub-Saharan Africa  South Africa 2018 Malignant neoplasms                    43001   \n",
       "                                                     2019 Cardiovascular diseases                69709   \n",
       "                                                          Chronic respiratory diseases           15117   \n",
       "                                                          Diabetes mellitus                      27088   \n",
       "                                                          Malignant neoplasms                    42812   \n",
       "\n",
       "                                                                                        Both sexes_recent  \\\n",
       "IncomeGroup         Region              Country      Year Causes                                            \n",
       "High income         East Asia & Pacific Australia    2000 Cardiovascular diseases                   47663   \n",
       "                                                          Chronic respiratory diseases               8487   \n",
       "                                                          Diabetes mellitus                          2937   \n",
       "                                                          Malignant neoplasms                       35245   \n",
       "                                                     2001 Cardiovascular diseases                   47202   \n",
       "...                                                                                                   ...   \n",
       "Upper middle income Sub-Saharan Africa  South Africa 2018 Malignant neoplasms                       56728   \n",
       "                                                     2019 Cardiovascular diseases                   87794   \n",
       "                                                          Chronic respiratory diseases              19525   \n",
       "                                                          Diabetes mellitus                         34401   \n",
       "                                                          Malignant neoplasms                       56845   \n",
       "\n",
       "                                                                                        Female_max  \\\n",
       "IncomeGroup         Region              Country      Year Causes                                     \n",
       "High income         East Asia & Pacific Australia    2000 Cardiovascular diseases            28696   \n",
       "                                                          Chronic respiratory diseases        4449   \n",
       "                                                          Diabetes mellitus                   1627   \n",
       "                                                          Malignant neoplasms                17604   \n",
       "                                                     2001 Cardiovascular diseases            28368   \n",
       "...                                                                                            ...   \n",
       "Upper middle income Sub-Saharan Africa  South Africa 2018 Malignant neoplasms                36928   \n",
       "                                                     2019 Cardiovascular diseases            55767   \n",
       "                                                          Chronic respiratory diseases       11969   \n",
       "                                                          Diabetes mellitus                  23776   \n",
       "                                                          Malignant neoplasms                37339   \n",
       "\n",
       "                                                                                        Female_min  \\\n",
       "IncomeGroup         Region              Country      Year Causes                                     \n",
       "High income         East Asia & Pacific Australia    2000 Cardiovascular diseases            20353   \n",
       "                                                          Chronic respiratory diseases        2752   \n",
       "                                                          Diabetes mellitus                   1140   \n",
       "                                                          Malignant neoplasms                12959   \n",
       "                                                     2001 Cardiovascular diseases            19951   \n",
       "...                                                                                            ...   \n",
       "Upper middle income Sub-Saharan Africa  South Africa 2018 Malignant neoplasms                20317   \n",
       "                                                     2019 Cardiovascular diseases            35406   \n",
       "                                                          Chronic respiratory diseases        6158   \n",
       "                                                          Diabetes mellitus                  14922   \n",
       "                                                          Malignant neoplasms                20491   \n",
       "\n",
       "                                                                                        Female_recent  \\\n",
       "IncomeGroup         Region              Country      Year Causes                                        \n",
       "High income         East Asia & Pacific Australia    2000 Cardiovascular diseases               25006   \n",
       "                                                          Chronic respiratory diseases           3674   \n",
       "                                                          Diabetes mellitus                      1389   \n",
       "                                                          Malignant neoplasms                   15298   \n",
       "                                                     2001 Cardiovascular diseases               24650   \n",
       "...                                                                                               ...   \n",
       "Upper middle income Sub-Saharan Africa  South Africa 2018 Malignant neoplasms                   28094   \n",
       "                                                     2019 Cardiovascular diseases               45163   \n",
       "                                                          Chronic respiratory diseases           8558   \n",
       "                                                          Diabetes mellitus                     19075   \n",
       "                                                          Malignant neoplasms                   28315   \n",
       "\n",
       "                                                                                        Male_max  \\\n",
       "IncomeGroup         Region              Country      Year Causes                                   \n",
       "High income         East Asia & Pacific Australia    2000 Cardiovascular diseases          25558   \n",
       "                                                          Chronic respiratory diseases      5535   \n",
       "                                                          Diabetes mellitus                 1764   \n",
       "                                                          Malignant neoplasms              23008   \n",
       "                                                     2001 Cardiovascular diseases          25557   \n",
       "...                                                                                          ...   \n",
       "Upper middle income Sub-Saharan Africa  South Africa 2018 Malignant neoplasms              35530   \n",
       "                                                     2019 Cardiovascular diseases          52068   \n",
       "                                                          Chronic respiratory diseases     13523   \n",
       "                                                          Diabetes mellitus                19027   \n",
       "                                                          Malignant neoplasms              35985   \n",
       "\n",
       "                                                                                        Male_min  \\\n",
       "IncomeGroup         Region              Country      Year Causes                                   \n",
       "High income         East Asia & Pacific Australia    2000 Cardiovascular diseases          19918   \n",
       "                                                          Chronic respiratory diseases      4078   \n",
       "                                                          Diabetes mellitus                 1345   \n",
       "                                                          Malignant neoplasms              16969   \n",
       "                                                     2001 Cardiovascular diseases          19717   \n",
       "...                                                                                          ...   \n",
       "Upper middle income Sub-Saharan Africa  South Africa 2018 Malignant neoplasms              22684   \n",
       "                                                     2019 Cardiovascular diseases          34304   \n",
       "                                                          Chronic respiratory diseases      8958   \n",
       "                                                          Diabetes mellitus                12166   \n",
       "                                                          Malignant neoplasms              22321   \n",
       "\n",
       "                                                                                        Male_recent  \n",
       "IncomeGroup         Region              Country      Year Causes                                     \n",
       "High income         East Asia & Pacific Australia    2000 Cardiovascular diseases             22658  \n",
       "                                                          Chronic respiratory diseases         4813  \n",
       "                                                          Diabetes mellitus                    1548  \n",
       "                                                          Malignant neoplasms                 19947  \n",
       "                                                     2001 Cardiovascular diseases             22552  \n",
       "...                                                                                             ...  \n",
       "Upper middle income Sub-Saharan Africa  South Africa 2018 Malignant neoplasms                 28635  \n",
       "                                                     2019 Cardiovascular diseases             42630  \n",
       "                                                          Chronic respiratory diseases        10966  \n",
       "                                                          Diabetes mellitus                   15327  \n",
       "                                                          Malignant neoplasms                 28530  \n",
       "\n",
       "[14640 rows x 9 columns]"
      ]
     },
     "execution_count": 370,
     "metadata": {},
     "output_type": "execute_result"
    }
   ],
   "source": [
    "df_merged_pivot = pd.pivot_table(df_merged,\n",
    "                                 values= ['Both sexes_recent', 'Both sexes_min', 'Both sexes_max', \n",
    "                                          'Male_recent','Male_min', 'Male_max', \n",
    "                                          'Female_recent', 'Female_min', 'Female_max'], \n",
    "                                 index=['IncomeGroup','Region','Country', 'Year', 'Causes'])\n",
    "\n",
    "df_merged_pivot"
   ]
  },
  {
   "cell_type": "code",
   "execution_count": 371,
   "metadata": {
    "id": "C5mMdcYeGDvr"
   },
   "outputs": [],
   "source": [
    "df_merged_pivot.to_excel(\"Data/income_disease_by_year.xlsx\")"
   ]
  },
  {
   "cell_type": "code",
   "execution_count": null,
   "metadata": {},
   "outputs": [],
   "source": []
  }
 ],
 "metadata": {
  "colab": {
   "collapsed_sections": [
    "AKMEw_5XpnRS",
    "IQ8zBK9rqKI7",
    "Id3ch7FBZpFJ",
    "PE709_O7qVKo",
    "Pfly3jfcrieu",
    "7I7mTxEFtGfa",
    "UXYMxibY9-n2",
    "Qo30E_lAtXIi",
    "J6Si9_pFAW34",
    "SDq-l53aAgxu"
   ],
   "name": "LAB_Pandas2.ipynb",
   "provenance": []
  },
  "kernelspec": {
   "display_name": "Python 3",
   "language": "python",
   "name": "python3"
  },
  "language_info": {
   "codemirror_mode": {
    "name": "ipython",
    "version": 3
   },
   "file_extension": ".py",
   "mimetype": "text/x-python",
   "name": "python",
   "nbconvert_exporter": "python",
   "pygments_lexer": "ipython3",
   "version": "3.8.5"
  }
 },
 "nbformat": 4,
 "nbformat_minor": 1
}
